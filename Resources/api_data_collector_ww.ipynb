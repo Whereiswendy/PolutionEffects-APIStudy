{
 "cells": [
  {
   "cell_type": "markdown",
   "metadata": {},
   "source": [
    "# API Data Extraction Process and Code"
   ]
  },
  {
   "cell_type": "markdown",
   "metadata": {},
   "source": [
    "---\n",
    "\n",
    "Exploring processes and code to easily access data relevant to study/project.\n",
    "\n",
    "### Project Hypothesis:\n",
    "Socioeconomic status, as indicated by income levels, education attainment, and race/ethnicity, is a significant predictor of air quality and health outcomes. Communities with lower socioeconomic status are hypothesized to experience poorer air quality, which in turn leads to a higher prevalence of adverse health outcomes. This relationship is expected to persist even when controlling for potential confounding variables such as geographic location and access to healthcare services.\n",
    "\n",
    "### Defining Data Collection Parameters\n",
    "- **Geographic Scope:** Define countries or cities of interest\n",
    "- **Time Frame:** Define time period coverage\n",
    "- **Socioeconomic Indicators:** Define indicators of interest (e.g., median income, education level)\n",
    "\n"
   ]
  },
  {
   "cell_type": "code",
   "execution_count": 1,
   "metadata": {},
   "outputs": [],
   "source": [
    "# Dependencies\n",
    "\n",
    "import requests\n",
    "import pandas as pd\n",
    "import numpy as np\n",
    "\n",
    "# Import the relevant API keys ( you will need )\n",
    "from api_keys import weather_api_key\n",
    "from api_keys import geoapify_key\n",
    "from api_keys import aqicn_api_key\n",
    "from api_keys import gho_who_api_key\n",
    "\n",
    "# Import citipy to determine the cities based on latitude and longitude\n",
    "from citipy import citipy"
   ]
  },
  {
   "cell_type": "markdown",
   "metadata": {},
   "source": [
    "#### Geographic scope\n"
   ]
  },
  {
   "cell_type": "code",
   "execution_count": 8,
   "metadata": {},
   "outputs": [
    {
     "name": "stdout",
     "output_type": "stream",
     "text": [
      "Number of unique cities in the list: 564\n"
     ]
    }
   ],
   "source": [
    "# Empty list for holding the latitude and longitude combinations\n",
    "lat_lngs = []\n",
    "\n",
    "# Empty dictionary for holding the city names and country codes\n",
    "city_details = {}\n",
    "\n",
    "# Range of latitudes and longitudes\n",
    "lat_range = (-90, 90) # Min and Max bounds for latitude range\n",
    "lng_range = (-180, 180) # Min and Max bounds for longitude range\n",
    "\n",
    "# Create a set of random lat and lng combinations\n",
    "lats = np.random.uniform(lat_range[0], lat_range[1], size=1500)\n",
    "lngs = np.random.uniform(lng_range[0], lng_range[1], size=1500)\n",
    "lat_lngs = zip(lats, lngs) # Aggregate into tuple - pairing latitudes and longitudes\n",
    "\n",
    "# Identify nearest city, country, and record their coordinates for each lat, lng combination\n",
    "for lat, lng in lat_lngs:\n",
    "    city = citipy.nearest_city(lat, lng)\n",
    "    city_name = city.city_name\n",
    "    country_code = city.country_code\n",
    "    coords = (lat, lng)\n",
    "    \n",
    "    # If the city is unique, then add it along with the country code and coordinates\n",
    "    if city_name not in city_details:\n",
    "        city_details[city_name] = (country_code, coords)\n",
    "\n",
    "# Print the city count to confirm sufficient count\n",
    "print(f\"Number of unique cities in the list: {len(city_details)}\")"
   ]
  },
  {
   "cell_type": "code",
   "execution_count": 9,
   "metadata": {},
   "outputs": [
    {
     "name": "stdout",
     "output_type": "stream",
     "text": [
      "     Index            City Country                                     Coords\n",
      "0        0  puerto natales      cl  (-74.30957051941022, -103.02341849042918)\n",
      "1        1        kingston      nf   (-33.81848833131593, 168.60250925144567)\n",
      "2        2    richards bay      za    (-30.21006947474273, 36.95953974714848)\n",
      "3        3        waitangi      nz  (-78.44858286390013, -171.88729439578165)\n",
      "4        4         samitah      sa     (16.50889833950835, 43.22043051900749)\n",
      "..     ...             ...     ...                                        ...\n",
      "559    559         sogndal      no     (61.60917050712115, 7.120701656781932)\n",
      "560    560      walvis bay      na    (-24.580680499512837, 9.86992685320618)\n",
      "561    561       kavaratti      in    (12.612625912719878, 67.71123086167287)\n",
      "562    562         caarapo      br   (-22.82789077622583, -54.78460994903298)\n",
      "563    563      north elba      us      (44.1890496912815, -73.9008585042401)\n",
      "\n",
      "[564 rows x 4 columns]\n"
     ]
    }
   ],
   "source": [
    "# Create a DataFrame from the collected data\n",
    "cities_selected_df = pd.DataFrame({\n",
    "    'City': [k for k in city_details.keys()],\n",
    "    'Country': [v[0] for v in city_details.values()],\n",
    "    'Coords': [v[1] for v in city_details.values()]\n",
    "})\n",
    "\n",
    "# Reset index to make sure it starts from 0 and acts as an index column\n",
    "cities_selected_df.reset_index(inplace=True)\n",
    "cities_selected_df.rename(columns={'index': 'Index'}, inplace=True)\n",
    "\n",
    "# Print the DataFrame\n",
    "print(cities_selected_df)"
   ]
  },
  {
   "cell_type": "markdown",
   "metadata": {},
   "source": [
    "#### Time frame"
   ]
  },
  {
   "cell_type": "code",
   "execution_count": null,
   "metadata": {},
   "outputs": [],
   "source": []
  },
  {
   "cell_type": "markdown",
   "metadata": {},
   "source": [
    "#### Socio-economic indicators"
   ]
  },
  {
   "cell_type": "code",
   "execution_count": null,
   "metadata": {},
   "outputs": [],
   "source": []
  },
  {
   "cell_type": "markdown",
   "metadata": {},
   "source": [
    "## API Data Extraction"
   ]
  },
  {
   "cell_type": "markdown",
   "metadata": {},
   "source": [
    "### AQICN API"
   ]
  },
  {
   "cell_type": "code",
   "execution_count": null,
   "metadata": {},
   "outputs": [],
   "source": [
    "# Replace with your actual API key\n",
    "api_key = 'YOUR_AQICN_API_KEY'\n",
    "\n",
    "# Define the endpoint and parameters for your request\n",
    "endpoint = 'http://api.waqi.info/feed/'\n",
    "city = 'city_name'\n",
    "params = {\n",
    "    'token': api_key\n",
    "}\n",
    "\n",
    "# Make the request and collect the data\n",
    "response = requests.get(f'{endpoint}/{city}/', params=params)\n",
    "data = response.json()\n",
    "\n",
    "# Extract data and convert to DataFrame\n",
    "aq_data = data['data']['iaqi']\n",
    "df_aq = pd.DataFrame(aq_data).transpose()\n"
   ]
  }
 ],
 "metadata": {
  "kernelspec": {
   "display_name": "dev",
   "language": "python",
   "name": "python3"
  },
  "language_info": {
   "codemirror_mode": {
    "name": "ipython",
    "version": 3
   },
   "file_extension": ".py",
   "mimetype": "text/x-python",
   "name": "python",
   "nbconvert_exporter": "python",
   "pygments_lexer": "ipython3",
   "version": "3.10.14"
  }
 },
 "nbformat": 4,
 "nbformat_minor": 2
}
