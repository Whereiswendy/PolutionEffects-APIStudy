{
 "cells": [
  {
   "cell_type": "markdown",
   "metadata": {},
   "source": [
    "# API Data Extraction Process and Code"
   ]
  },
  {
   "cell_type": "markdown",
   "metadata": {},
   "source": [
    "---\n",
    "\n",
    "## Exploring processes and code to easily access data relevant to study/project.\n",
    "\n",
    "### Project Hypothesis:\n",
    "Socioeconomic status, as indicated by income levels, education attainment, and race/ethnicity, is a significant predictor of air quality and health outcomes. Communities with lower socioeconomic status are hypothesized to experience poorer air quality, which in turn leads to a higher prevalence of adverse health outcomes. This relationship is expected to persist even when controlling for potential confounding variables such as geographic location and access to healthcare services.\n",
    "\n",
    "### Defining Data Collection Parameters\n",
    "- **Geographic Scope:** Define countries or cities of interest\n",
    "- **Time Frame:** Define time period coverage\n",
    "- **Socioeconomic Indicators:** Define indicators of interest (e.g., median income, education level)\n",
    "\n"
   ]
  },
  {
   "cell_type": "code",
   "execution_count": null,
   "metadata": {},
   "outputs": [],
   "source": [
    "# Dependencies\n",
    "\n",
    "import requests\n",
    "import pandas as pd\n",
    "\n",
    "# Import the relevant API keys ( you will need )\n",
    "from api_keys import weather_api_key\n",
    "from api_keys import geoapify_key\n",
    "from api_keys import aqicn_api_key\n",
    "from api_keys import gho_who_api_key"
   ]
  },
  {
   "cell_type": "code",
   "execution_count": null,
   "metadata": {},
   "outputs": [],
   "source": [
    "# Replace with your actual API key\n",
    "api_key = 'YOUR_AQICN_API_KEY'\n",
    "\n",
    "# Define the endpoint and parameters for your request\n",
    "endpoint = 'http://api.waqi.info/feed/'\n",
    "city = 'city_name'\n",
    "params = {\n",
    "    'token': api_key\n",
    "}\n",
    "\n",
    "# Make the request and collect the data\n",
    "response = requests.get(f'{endpoint}/{city}/', params=params)\n",
    "data = response.json()\n",
    "\n",
    "# Extract data and convert to DataFrame\n",
    "aq_data = data['data']['iaqi']\n",
    "df_aq = pd.DataFrame(aq_data).transpose()\n"
   ]
  }
 ],
 "metadata": {
  "kernelspec": {
   "display_name": "dev",
   "language": "python",
   "name": "python3"
  },
  "language_info": {
   "name": "python",
   "version": "3.10.14"
  }
 },
 "nbformat": 4,
 "nbformat_minor": 2
}
