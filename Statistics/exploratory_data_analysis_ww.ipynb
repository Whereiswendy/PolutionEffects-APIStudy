{
 "cells": [
  {
   "cell_type": "markdown",
   "metadata": {},
   "source": [
    "# Exploratory Data Analysis"
   ]
  },
  {
   "cell_type": "code",
   "execution_count": 61,
   "metadata": {},
   "outputs": [
    {
     "data": {
      "text/plain": [
       "'c:\\\\Users\\\\wware\\\\Desktop\\\\UWA Bootcamp\\\\Challenges\\\\project_1\\\\Statistics'"
      ]
     },
     "execution_count": 61,
     "metadata": {},
     "output_type": "execute_result"
    }
   ],
   "source": [
    "pwd"
   ]
  },
  {
   "cell_type": "markdown",
   "metadata": {},
   "source": [
    "## Data Preparation and Dependencies Setup"
   ]
  },
  {
   "cell_type": "code",
   "execution_count": 62,
   "metadata": {},
   "outputs": [],
   "source": [
    "# Dependencies and Setup\n",
    "import matplotlib.pyplot as plt\n",
    "import pandas as pd\n",
    "import scipy.stats as st\n",
    "import os\n",
    "from scipy.stats import stats\n",
    "\n",
    "# Study data files\n",
    "seasonal_pollution_path = os.path.join(\"..\",\"Resources\", \"Data\", \"seasonal_combined_df1_ww.csv\")\n",
    "monthly_pollution_path = os.path.join(\"..\",\"Resources\", \"Data\", \"monthly_combined_df1_ww.csv\")\n",
    "\n",
    "# Read the data and the results\n",
    "\n",
    "seasonal_pollution_df = pd.read_csv(seasonal_pollution_path)\n",
    "monthly_pollution_df = pd.read_csv(monthly_pollution_path)\n",
    "\n",
    "# Create output directory\n",
    "stats_output_dir_season = 'Stats_Outputs/Season'\n",
    "if not os.path.exists(stats_output_dir_season):\n",
    "    os.makedirs(stats_output_dir_season)\n",
    "\n",
    "stats_output_dir_month = 'Stats_Outputs/Month'\n",
    "if not os.path.exists(stats_output_dir_month):\n",
    "    os.makedirs(stats_output_dir_month)\n"
   ]
  },
  {
   "cell_type": "markdown",
   "metadata": {},
   "source": [
    "## Seasonal EDA"
   ]
  },
  {
   "cell_type": "code",
   "execution_count": 63,
   "metadata": {},
   "outputs": [
    {
     "data": {
      "text/html": [
       "<div>\n",
       "<style scoped>\n",
       "    .dataframe tbody tr th:only-of-type {\n",
       "        vertical-align: middle;\n",
       "    }\n",
       "\n",
       "    .dataframe tbody tr th {\n",
       "        vertical-align: top;\n",
       "    }\n",
       "\n",
       "    .dataframe thead th {\n",
       "        text-align: right;\n",
       "    }\n",
       "</style>\n",
       "<table border=\"1\" class=\"dataframe\">\n",
       "  <thead>\n",
       "    <tr style=\"text-align: right;\">\n",
       "      <th></th>\n",
       "      <th>city</th>\n",
       "      <th>Hemisphere</th>\n",
       "      <th>Season</th>\n",
       "      <th>Year</th>\n",
       "      <th>Season_Year</th>\n",
       "      <th>co</th>\n",
       "      <th>no</th>\n",
       "      <th>no2</th>\n",
       "      <th>o3</th>\n",
       "      <th>so2</th>\n",
       "      <th>...</th>\n",
       "      <th>pm10</th>\n",
       "      <th>nh3</th>\n",
       "      <th>name</th>\n",
       "      <th>latitude</th>\n",
       "      <th>longitude</th>\n",
       "      <th>country</th>\n",
       "      <th>population</th>\n",
       "      <th>is_capital</th>\n",
       "      <th>is_rural</th>\n",
       "      <th>country_full</th>\n",
       "    </tr>\n",
       "  </thead>\n",
       "  <tbody>\n",
       "    <tr>\n",
       "      <th>0</th>\n",
       "      <td>Aasiaat</td>\n",
       "      <td>Northern Hemisphere</td>\n",
       "      <td>Summer</td>\n",
       "      <td>2022</td>\n",
       "      <td>Summer_2022</td>\n",
       "      <td>179.718204</td>\n",
       "      <td>0.022079</td>\n",
       "      <td>0.313528</td>\n",
       "      <td>52.637019</td>\n",
       "      <td>0.220574</td>\n",
       "      <td>...</td>\n",
       "      <td>1.410569</td>\n",
       "      <td>0.000000</td>\n",
       "      <td>Aasiaat</td>\n",
       "      <td>68.7097</td>\n",
       "      <td>-52.8694</td>\n",
       "      <td>GL</td>\n",
       "      <td>3134.0</td>\n",
       "      <td>False</td>\n",
       "      <td>True</td>\n",
       "      <td>Kalaallit Nunaat</td>\n",
       "    </tr>\n",
       "    <tr>\n",
       "      <th>1</th>\n",
       "      <td>Aasiaat</td>\n",
       "      <td>Northern Hemisphere</td>\n",
       "      <td>Autumn</td>\n",
       "      <td>2022</td>\n",
       "      <td>Autumn_2022</td>\n",
       "      <td>187.498562</td>\n",
       "      <td>0.001525</td>\n",
       "      <td>0.180261</td>\n",
       "      <td>70.555879</td>\n",
       "      <td>0.093420</td>\n",
       "      <td>...</td>\n",
       "      <td>1.397143</td>\n",
       "      <td>0.000014</td>\n",
       "      <td>Aasiaat</td>\n",
       "      <td>68.7097</td>\n",
       "      <td>-52.8694</td>\n",
       "      <td>GL</td>\n",
       "      <td>3134.0</td>\n",
       "      <td>False</td>\n",
       "      <td>True</td>\n",
       "      <td>Kalaallit Nunaat</td>\n",
       "    </tr>\n",
       "    <tr>\n",
       "      <th>2</th>\n",
       "      <td>Aasiaat</td>\n",
       "      <td>Northern Hemisphere</td>\n",
       "      <td>Winter</td>\n",
       "      <td>2022</td>\n",
       "      <td>Winter_2022</td>\n",
       "      <td>210.086533</td>\n",
       "      <td>0.000000</td>\n",
       "      <td>0.104167</td>\n",
       "      <td>87.908289</td>\n",
       "      <td>0.120997</td>\n",
       "      <td>...</td>\n",
       "      <td>0.630580</td>\n",
       "      <td>0.000134</td>\n",
       "      <td>Aasiaat</td>\n",
       "      <td>68.7097</td>\n",
       "      <td>-52.8694</td>\n",
       "      <td>GL</td>\n",
       "      <td>3134.0</td>\n",
       "      <td>False</td>\n",
       "      <td>True</td>\n",
       "      <td>Kalaallit Nunaat</td>\n",
       "    </tr>\n",
       "    <tr>\n",
       "      <th>3</th>\n",
       "      <td>Aasiaat</td>\n",
       "      <td>Northern Hemisphere</td>\n",
       "      <td>Spring</td>\n",
       "      <td>2022</td>\n",
       "      <td>Spring_2022</td>\n",
       "      <td>227.892261</td>\n",
       "      <td>0.018850</td>\n",
       "      <td>0.165229</td>\n",
       "      <td>77.791464</td>\n",
       "      <td>0.286301</td>\n",
       "      <td>...</td>\n",
       "      <td>0.755046</td>\n",
       "      <td>0.000000</td>\n",
       "      <td>Aasiaat</td>\n",
       "      <td>68.7097</td>\n",
       "      <td>-52.8694</td>\n",
       "      <td>GL</td>\n",
       "      <td>3134.0</td>\n",
       "      <td>False</td>\n",
       "      <td>True</td>\n",
       "      <td>Kalaallit Nunaat</td>\n",
       "    </tr>\n",
       "    <tr>\n",
       "      <th>4</th>\n",
       "      <td>Aasiaat</td>\n",
       "      <td>Northern Hemisphere</td>\n",
       "      <td>Summer</td>\n",
       "      <td>2023</td>\n",
       "      <td>Summer_2023</td>\n",
       "      <td>221.827736</td>\n",
       "      <td>0.021082</td>\n",
       "      <td>0.337785</td>\n",
       "      <td>48.390688</td>\n",
       "      <td>0.218066</td>\n",
       "      <td>...</td>\n",
       "      <td>1.421771</td>\n",
       "      <td>0.000983</td>\n",
       "      <td>Aasiaat</td>\n",
       "      <td>68.7097</td>\n",
       "      <td>-52.8694</td>\n",
       "      <td>GL</td>\n",
       "      <td>3134.0</td>\n",
       "      <td>False</td>\n",
       "      <td>True</td>\n",
       "      <td>Kalaallit Nunaat</td>\n",
       "    </tr>\n",
       "  </tbody>\n",
       "</table>\n",
       "<p>5 rows × 21 columns</p>\n",
       "</div>"
      ],
      "text/plain": [
       "      city           Hemisphere  Season  Year  Season_Year          co  \\\n",
       "0  Aasiaat  Northern Hemisphere  Summer  2022  Summer_2022  179.718204   \n",
       "1  Aasiaat  Northern Hemisphere  Autumn  2022  Autumn_2022  187.498562   \n",
       "2  Aasiaat  Northern Hemisphere  Winter  2022  Winter_2022  210.086533   \n",
       "3  Aasiaat  Northern Hemisphere  Spring  2022  Spring_2022  227.892261   \n",
       "4  Aasiaat  Northern Hemisphere  Summer  2023  Summer_2023  221.827736   \n",
       "\n",
       "         no       no2         o3       so2  ...      pm10       nh3     name  \\\n",
       "0  0.022079  0.313528  52.637019  0.220574  ...  1.410569  0.000000  Aasiaat   \n",
       "1  0.001525  0.180261  70.555879  0.093420  ...  1.397143  0.000014  Aasiaat   \n",
       "2  0.000000  0.104167  87.908289  0.120997  ...  0.630580  0.000134  Aasiaat   \n",
       "3  0.018850  0.165229  77.791464  0.286301  ...  0.755046  0.000000  Aasiaat   \n",
       "4  0.021082  0.337785  48.390688  0.218066  ...  1.421771  0.000983  Aasiaat   \n",
       "\n",
       "  latitude  longitude  country population  is_capital  is_rural  \\\n",
       "0  68.7097   -52.8694       GL     3134.0       False      True   \n",
       "1  68.7097   -52.8694       GL     3134.0       False      True   \n",
       "2  68.7097   -52.8694       GL     3134.0       False      True   \n",
       "3  68.7097   -52.8694       GL     3134.0       False      True   \n",
       "4  68.7097   -52.8694       GL     3134.0       False      True   \n",
       "\n",
       "       country_full  \n",
       "0  Kalaallit Nunaat  \n",
       "1  Kalaallit Nunaat  \n",
       "2  Kalaallit Nunaat  \n",
       "3  Kalaallit Nunaat  \n",
       "4  Kalaallit Nunaat  \n",
       "\n",
       "[5 rows x 21 columns]"
      ]
     },
     "execution_count": 63,
     "metadata": {},
     "output_type": "execute_result"
    }
   ],
   "source": [
    "seasonal_pollution_df.head()\n"
   ]
  },
  {
   "cell_type": "code",
   "execution_count": 64,
   "metadata": {},
   "outputs": [
    {
     "data": {
      "text/plain": [
       "city             object\n",
       "Hemisphere       object\n",
       "Season           object\n",
       "Year              int64\n",
       "Season_Year      object\n",
       "co              float64\n",
       "no              float64\n",
       "no2             float64\n",
       "o3              float64\n",
       "so2             float64\n",
       "pm2_5           float64\n",
       "pm10            float64\n",
       "nh3             float64\n",
       "name             object\n",
       "latitude        float64\n",
       "longitude       float64\n",
       "country          object\n",
       "population      float64\n",
       "is_capital         bool\n",
       "is_rural           bool\n",
       "country_full     object\n",
       "dtype: object"
      ]
     },
     "execution_count": 64,
     "metadata": {},
     "output_type": "execute_result"
    }
   ],
   "source": [
    "dtypes = seasonal_pollution_df.dtypes\n",
    "dtypes"
   ]
  },
  {
   "cell_type": "code",
   "execution_count": 65,
   "metadata": {},
   "outputs": [
    {
     "data": {
      "text/html": [
       "<div>\n",
       "<style scoped>\n",
       "    .dataframe tbody tr th:only-of-type {\n",
       "        vertical-align: middle;\n",
       "    }\n",
       "\n",
       "    .dataframe tbody tr th {\n",
       "        vertical-align: top;\n",
       "    }\n",
       "\n",
       "    .dataframe thead th {\n",
       "        text-align: right;\n",
       "    }\n",
       "</style>\n",
       "<table border=\"1\" class=\"dataframe\">\n",
       "  <thead>\n",
       "    <tr style=\"text-align: right;\">\n",
       "      <th></th>\n",
       "      <th>Year</th>\n",
       "      <th>co</th>\n",
       "      <th>no</th>\n",
       "      <th>no2</th>\n",
       "      <th>o3</th>\n",
       "      <th>so2</th>\n",
       "      <th>pm2_5</th>\n",
       "      <th>pm10</th>\n",
       "      <th>nh3</th>\n",
       "      <th>latitude</th>\n",
       "      <th>longitude</th>\n",
       "      <th>population</th>\n",
       "    </tr>\n",
       "  </thead>\n",
       "  <tbody>\n",
       "    <tr>\n",
       "      <th>count</th>\n",
       "      <td>3743.000000</td>\n",
       "      <td>3743.000000</td>\n",
       "      <td>3743.000000</td>\n",
       "      <td>3743.000000</td>\n",
       "      <td>3743.000000</td>\n",
       "      <td>3743.000000</td>\n",
       "      <td>3743.000000</td>\n",
       "      <td>3743.000000</td>\n",
       "      <td>3743.000000</td>\n",
       "      <td>3743.000000</td>\n",
       "      <td>3743.000000</td>\n",
       "      <td>3.583000e+03</td>\n",
       "    </tr>\n",
       "    <tr>\n",
       "      <th>mean</th>\n",
       "      <td>2022.801496</td>\n",
       "      <td>280.663335</td>\n",
       "      <td>0.553074</td>\n",
       "      <td>3.996631</td>\n",
       "      <td>50.799707</td>\n",
       "      <td>2.290710</td>\n",
       "      <td>10.914334</td>\n",
       "      <td>23.683782</td>\n",
       "      <td>1.625098</td>\n",
       "      <td>18.546498</td>\n",
       "      <td>11.149274</td>\n",
       "      <td>1.635218e+05</td>\n",
       "    </tr>\n",
       "    <tr>\n",
       "      <th>std</th>\n",
       "      <td>0.748330</td>\n",
       "      <td>162.313280</td>\n",
       "      <td>1.773417</td>\n",
       "      <td>6.708260</td>\n",
       "      <td>21.975908</td>\n",
       "      <td>6.806494</td>\n",
       "      <td>20.658813</td>\n",
       "      <td>55.929085</td>\n",
       "      <td>4.038999</td>\n",
       "      <td>33.077678</td>\n",
       "      <td>90.903671</td>\n",
       "      <td>5.936431e+05</td>\n",
       "    </tr>\n",
       "    <tr>\n",
       "      <th>min</th>\n",
       "      <td>2022.000000</td>\n",
       "      <td>136.984537</td>\n",
       "      <td>0.000000</td>\n",
       "      <td>0.005763</td>\n",
       "      <td>-1.666304</td>\n",
       "      <td>0.012097</td>\n",
       "      <td>0.500000</td>\n",
       "      <td>-6.560791</td>\n",
       "      <td>0.000000</td>\n",
       "      <td>-54.807200</td>\n",
       "      <td>-178.158000</td>\n",
       "      <td>1.000000e+01</td>\n",
       "    </tr>\n",
       "    <tr>\n",
       "      <th>25%</th>\n",
       "      <td>2022.000000</td>\n",
       "      <td>209.020861</td>\n",
       "      <td>0.022329</td>\n",
       "      <td>0.505223</td>\n",
       "      <td>34.793403</td>\n",
       "      <td>0.240355</td>\n",
       "      <td>1.938362</td>\n",
       "      <td>2.495681</td>\n",
       "      <td>0.071611</td>\n",
       "      <td>-8.000000</td>\n",
       "      <td>-71.735300</td>\n",
       "      <td>1.147000e+04</td>\n",
       "    </tr>\n",
       "    <tr>\n",
       "      <th>50%</th>\n",
       "      <td>2023.000000</td>\n",
       "      <td>234.757592</td>\n",
       "      <td>0.072113</td>\n",
       "      <td>1.324841</td>\n",
       "      <td>49.938478</td>\n",
       "      <td>0.608842</td>\n",
       "      <td>4.147857</td>\n",
       "      <td>6.664513</td>\n",
       "      <td>0.343797</td>\n",
       "      <td>22.912500</td>\n",
       "      <td>16.518900</td>\n",
       "      <td>2.508500e+04</td>\n",
       "    </tr>\n",
       "    <tr>\n",
       "      <th>75%</th>\n",
       "      <td>2023.000000</td>\n",
       "      <td>277.270230</td>\n",
       "      <td>0.255401</td>\n",
       "      <td>4.159782</td>\n",
       "      <td>66.840304</td>\n",
       "      <td>1.658761</td>\n",
       "      <td>9.333122</td>\n",
       "      <td>15.911112</td>\n",
       "      <td>1.320414</td>\n",
       "      <td>46.194400</td>\n",
       "      <td>88.116600</td>\n",
       "      <td>1.088600e+05</td>\n",
       "    </tr>\n",
       "    <tr>\n",
       "      <th>max</th>\n",
       "      <td>2024.000000</td>\n",
       "      <td>1800.546890</td>\n",
       "      <td>27.973810</td>\n",
       "      <td>55.992440</td>\n",
       "      <td>162.001292</td>\n",
       "      <td>98.496577</td>\n",
       "      <td>244.718690</td>\n",
       "      <td>633.222727</td>\n",
       "      <td>57.549971</td>\n",
       "      <td>71.626900</td>\n",
       "      <td>177.517000</td>\n",
       "      <td>7.674439e+06</td>\n",
       "    </tr>\n",
       "  </tbody>\n",
       "</table>\n",
       "</div>"
      ],
      "text/plain": [
       "              Year           co           no          no2           o3  \\\n",
       "count  3743.000000  3743.000000  3743.000000  3743.000000  3743.000000   \n",
       "mean   2022.801496   280.663335     0.553074     3.996631    50.799707   \n",
       "std       0.748330   162.313280     1.773417     6.708260    21.975908   \n",
       "min    2022.000000   136.984537     0.000000     0.005763    -1.666304   \n",
       "25%    2022.000000   209.020861     0.022329     0.505223    34.793403   \n",
       "50%    2023.000000   234.757592     0.072113     1.324841    49.938478   \n",
       "75%    2023.000000   277.270230     0.255401     4.159782    66.840304   \n",
       "max    2024.000000  1800.546890    27.973810    55.992440   162.001292   \n",
       "\n",
       "               so2        pm2_5         pm10          nh3     latitude  \\\n",
       "count  3743.000000  3743.000000  3743.000000  3743.000000  3743.000000   \n",
       "mean      2.290710    10.914334    23.683782     1.625098    18.546498   \n",
       "std       6.806494    20.658813    55.929085     4.038999    33.077678   \n",
       "min       0.012097     0.500000    -6.560791     0.000000   -54.807200   \n",
       "25%       0.240355     1.938362     2.495681     0.071611    -8.000000   \n",
       "50%       0.608842     4.147857     6.664513     0.343797    22.912500   \n",
       "75%       1.658761     9.333122    15.911112     1.320414    46.194400   \n",
       "max      98.496577   244.718690   633.222727    57.549971    71.626900   \n",
       "\n",
       "         longitude    population  \n",
       "count  3743.000000  3.583000e+03  \n",
       "mean     11.149274  1.635218e+05  \n",
       "std      90.903671  5.936431e+05  \n",
       "min    -178.158000  1.000000e+01  \n",
       "25%     -71.735300  1.147000e+04  \n",
       "50%      16.518900  2.508500e+04  \n",
       "75%      88.116600  1.088600e+05  \n",
       "max     177.517000  7.674439e+06  "
      ]
     },
     "execution_count": 65,
     "metadata": {},
     "output_type": "execute_result"
    }
   ],
   "source": [
    "seasonal_pollution_df.describe()"
   ]
  },
  {
   "cell_type": "code",
   "execution_count": 66,
   "metadata": {},
   "outputs": [
    {
     "name": "stdout",
     "output_type": "stream",
     "text": [
      "city              0\n",
      "Hemisphere        0\n",
      "Season            0\n",
      "Year              0\n",
      "Season_Year       0\n",
      "co                0\n",
      "no                0\n",
      "no2               0\n",
      "o3                0\n",
      "so2               0\n",
      "pm2_5             0\n",
      "pm10              0\n",
      "nh3               0\n",
      "name              0\n",
      "latitude          0\n",
      "longitude         0\n",
      "country          20\n",
      "population      160\n",
      "is_capital        0\n",
      "is_rural          0\n",
      "country_full      0\n",
      "dtype: int64\n"
     ]
    }
   ],
   "source": [
    "# Check for missing values\n",
    "print(seasonal_pollution_df.isnull().sum())"
   ]
  },
  {
   "cell_type": "code",
   "execution_count": 67,
   "metadata": {},
   "outputs": [
    {
     "data": {
      "text/plain": [
       "373"
      ]
     },
     "execution_count": 67,
     "metadata": {},
     "output_type": "execute_result"
    }
   ],
   "source": [
    "# Checking the number of mice.\n",
    "number_of_cities=seasonal_pollution_df['city'].nunique()\n",
    "number_of_cities"
   ]
  },
  {
   "cell_type": "code",
   "execution_count": 68,
   "metadata": {},
   "outputs": [
    {
     "name": "stdout",
     "output_type": "stream",
     "text": [
      "           city_season\n",
      "0  Aasiaat_Summer_2022\n",
      "1  Aasiaat_Autumn_2022\n",
      "2  Aasiaat_Winter_2022\n",
      "3  Aasiaat_Spring_2022\n",
      "4  Aasiaat_Summer_2023\n"
     ]
    }
   ],
   "source": [
    "# Create a new column by combining 'city' and 'Season_Year' with an underscore\n",
    "seasonal_pollution_df['city_season'] = seasonal_pollution_df['city'] + '_' + seasonal_pollution_df['Season_Year']\n",
    "\n",
    "# Check the first few rows to ensure the new column is correct\n",
    "print(seasonal_pollution_df[['city_season']].head())\n",
    "\n"
   ]
  },
  {
   "cell_type": "code",
   "execution_count": 69,
   "metadata": {},
   "outputs": [
    {
     "data": {
      "text/plain": [
       "3743"
      ]
     },
     "execution_count": 69,
     "metadata": {},
     "output_type": "execute_result"
    }
   ],
   "source": [
    "entry_count = len(seasonal_pollution_df['city_season'])\n",
    "entry_count"
   ]
  },
  {
   "cell_type": "code",
   "execution_count": 70,
   "metadata": {},
   "outputs": [
    {
     "data": {
      "text/plain": [
       "array(['Ciudad Lazaro Cardenas', 'Las Palmas'], dtype=object)"
      ]
     },
     "execution_count": 70,
     "metadata": {},
     "output_type": "execute_result"
    }
   ],
   "source": [
    "# Get the duplicate city\n",
    "duplicates=seasonal_pollution_df[seasonal_pollution_df.duplicated(subset=[\"city\", \"Season_Year\"], keep=False)]\n",
    "duplicates['city'].unique()"
   ]
  },
  {
   "cell_type": "code",
   "execution_count": 71,
   "metadata": {},
   "outputs": [
    {
     "name": "stdout",
     "output_type": "stream",
     "text": [
      "Duplicated entries:  40\n",
      "                       city           Hemisphere  Season  Year  Season_Year  \\\n",
      "680  Ciudad Lazaro Cardenas  Northern Hemisphere  Summer  2022  Summer_2022   \n",
      "681  Ciudad Lazaro Cardenas  Northern Hemisphere  Summer  2022  Summer_2022   \n",
      "682  Ciudad Lazaro Cardenas  Northern Hemisphere  Autumn  2022  Autumn_2022   \n",
      "683  Ciudad Lazaro Cardenas  Northern Hemisphere  Autumn  2022  Autumn_2022   \n",
      "684  Ciudad Lazaro Cardenas  Northern Hemisphere  Winter  2022  Winter_2022   \n",
      "\n",
      "             co        no        no2         o3        so2  ...       nh3  \\\n",
      "680  537.329685  1.598352  10.707319  35.977694  17.737759  ...  0.215560   \n",
      "681  537.329685  1.598352  10.707319  35.977694  17.737759  ...  0.215560   \n",
      "682  546.952225  1.675875  11.705678  37.859734  19.092701  ...  0.287976   \n",
      "683  546.952225  1.675875  11.705678  37.859734  19.092701  ...  0.287976   \n",
      "684  514.248884  0.852381  13.757188  54.377932  18.822187  ...  0.328869   \n",
      "\n",
      "                       name  latitude longitude  country  population  \\\n",
      "680  Ciudad Lazaro Cardenas   17.9561  -102.192       MX     79200.0   \n",
      "681  Ciudad Lazaro Cardenas   17.9561  -102.192       MX     79200.0   \n",
      "682  Ciudad Lazaro Cardenas   17.9561  -102.192       MX     79200.0   \n",
      "683  Ciudad Lazaro Cardenas   17.9561  -102.192       MX     79200.0   \n",
      "684  Ciudad Lazaro Cardenas   17.9561  -102.192       MX     79200.0   \n",
      "\n",
      "    is_capital  is_rural  country_full                         city_season  \n",
      "680      False     False        México  Ciudad Lazaro Cardenas_Summer_2022  \n",
      "681      False     False        México  Ciudad Lazaro Cardenas_Summer_2022  \n",
      "682      False     False        México  Ciudad Lazaro Cardenas_Autumn_2022  \n",
      "683      False     False        México  Ciudad Lazaro Cardenas_Autumn_2022  \n",
      "684      False     False        México  Ciudad Lazaro Cardenas_Winter_2022  \n",
      "\n",
      "[5 rows x 22 columns]\n"
     ]
    }
   ],
   "source": [
    "duplicated_rows=seasonal_pollution_df[seasonal_pollution_df.duplicated(subset=['city', 'Season_Year'], keep=False)]\n",
    "\n",
    "print('Duplicated entries: ', len(duplicated_rows))\n",
    "print(duplicated_rows.head())\n"
   ]
  },
  {
   "cell_type": "code",
   "execution_count": 72,
   "metadata": {},
   "outputs": [
    {
     "data": {
      "text/html": [
       "<div>\n",
       "<style scoped>\n",
       "    .dataframe tbody tr th:only-of-type {\n",
       "        vertical-align: middle;\n",
       "    }\n",
       "\n",
       "    .dataframe tbody tr th {\n",
       "        vertical-align: top;\n",
       "    }\n",
       "\n",
       "    .dataframe thead th {\n",
       "        text-align: right;\n",
       "    }\n",
       "</style>\n",
       "<table border=\"1\" class=\"dataframe\">\n",
       "  <thead>\n",
       "    <tr style=\"text-align: right;\">\n",
       "      <th></th>\n",
       "      <th>city</th>\n",
       "      <th>Hemisphere</th>\n",
       "      <th>Season</th>\n",
       "      <th>Year</th>\n",
       "      <th>Season_Year</th>\n",
       "      <th>co</th>\n",
       "      <th>no</th>\n",
       "      <th>no2</th>\n",
       "      <th>o3</th>\n",
       "      <th>so2</th>\n",
       "      <th>...</th>\n",
       "      <th>nh3</th>\n",
       "      <th>name</th>\n",
       "      <th>latitude</th>\n",
       "      <th>longitude</th>\n",
       "      <th>country</th>\n",
       "      <th>population</th>\n",
       "      <th>is_capital</th>\n",
       "      <th>is_rural</th>\n",
       "      <th>country_full</th>\n",
       "      <th>city_season</th>\n",
       "    </tr>\n",
       "  </thead>\n",
       "  <tbody>\n",
       "    <tr>\n",
       "      <th>0</th>\n",
       "      <td>Aasiaat</td>\n",
       "      <td>Northern Hemisphere</td>\n",
       "      <td>Summer</td>\n",
       "      <td>2022</td>\n",
       "      <td>Summer_2022</td>\n",
       "      <td>179.718204</td>\n",
       "      <td>0.022079</td>\n",
       "      <td>0.313528</td>\n",
       "      <td>52.637019</td>\n",
       "      <td>0.220574</td>\n",
       "      <td>...</td>\n",
       "      <td>0.000000</td>\n",
       "      <td>Aasiaat</td>\n",
       "      <td>68.7097</td>\n",
       "      <td>-52.8694</td>\n",
       "      <td>GL</td>\n",
       "      <td>3134.0</td>\n",
       "      <td>False</td>\n",
       "      <td>True</td>\n",
       "      <td>Kalaallit Nunaat</td>\n",
       "      <td>Aasiaat_Summer_2022</td>\n",
       "    </tr>\n",
       "    <tr>\n",
       "      <th>1</th>\n",
       "      <td>Aasiaat</td>\n",
       "      <td>Northern Hemisphere</td>\n",
       "      <td>Autumn</td>\n",
       "      <td>2022</td>\n",
       "      <td>Autumn_2022</td>\n",
       "      <td>187.498562</td>\n",
       "      <td>0.001525</td>\n",
       "      <td>0.180261</td>\n",
       "      <td>70.555879</td>\n",
       "      <td>0.093420</td>\n",
       "      <td>...</td>\n",
       "      <td>0.000014</td>\n",
       "      <td>Aasiaat</td>\n",
       "      <td>68.7097</td>\n",
       "      <td>-52.8694</td>\n",
       "      <td>GL</td>\n",
       "      <td>3134.0</td>\n",
       "      <td>False</td>\n",
       "      <td>True</td>\n",
       "      <td>Kalaallit Nunaat</td>\n",
       "      <td>Aasiaat_Autumn_2022</td>\n",
       "    </tr>\n",
       "    <tr>\n",
       "      <th>2</th>\n",
       "      <td>Aasiaat</td>\n",
       "      <td>Northern Hemisphere</td>\n",
       "      <td>Winter</td>\n",
       "      <td>2022</td>\n",
       "      <td>Winter_2022</td>\n",
       "      <td>210.086533</td>\n",
       "      <td>0.000000</td>\n",
       "      <td>0.104167</td>\n",
       "      <td>87.908289</td>\n",
       "      <td>0.120997</td>\n",
       "      <td>...</td>\n",
       "      <td>0.000134</td>\n",
       "      <td>Aasiaat</td>\n",
       "      <td>68.7097</td>\n",
       "      <td>-52.8694</td>\n",
       "      <td>GL</td>\n",
       "      <td>3134.0</td>\n",
       "      <td>False</td>\n",
       "      <td>True</td>\n",
       "      <td>Kalaallit Nunaat</td>\n",
       "      <td>Aasiaat_Winter_2022</td>\n",
       "    </tr>\n",
       "    <tr>\n",
       "      <th>3</th>\n",
       "      <td>Aasiaat</td>\n",
       "      <td>Northern Hemisphere</td>\n",
       "      <td>Spring</td>\n",
       "      <td>2022</td>\n",
       "      <td>Spring_2022</td>\n",
       "      <td>227.892261</td>\n",
       "      <td>0.018850</td>\n",
       "      <td>0.165229</td>\n",
       "      <td>77.791464</td>\n",
       "      <td>0.286301</td>\n",
       "      <td>...</td>\n",
       "      <td>0.000000</td>\n",
       "      <td>Aasiaat</td>\n",
       "      <td>68.7097</td>\n",
       "      <td>-52.8694</td>\n",
       "      <td>GL</td>\n",
       "      <td>3134.0</td>\n",
       "      <td>False</td>\n",
       "      <td>True</td>\n",
       "      <td>Kalaallit Nunaat</td>\n",
       "      <td>Aasiaat_Spring_2022</td>\n",
       "    </tr>\n",
       "    <tr>\n",
       "      <th>4</th>\n",
       "      <td>Aasiaat</td>\n",
       "      <td>Northern Hemisphere</td>\n",
       "      <td>Summer</td>\n",
       "      <td>2023</td>\n",
       "      <td>Summer_2023</td>\n",
       "      <td>221.827736</td>\n",
       "      <td>0.021082</td>\n",
       "      <td>0.337785</td>\n",
       "      <td>48.390688</td>\n",
       "      <td>0.218066</td>\n",
       "      <td>...</td>\n",
       "      <td>0.000983</td>\n",
       "      <td>Aasiaat</td>\n",
       "      <td>68.7097</td>\n",
       "      <td>-52.8694</td>\n",
       "      <td>GL</td>\n",
       "      <td>3134.0</td>\n",
       "      <td>False</td>\n",
       "      <td>True</td>\n",
       "      <td>Kalaallit Nunaat</td>\n",
       "      <td>Aasiaat_Summer_2023</td>\n",
       "    </tr>\n",
       "  </tbody>\n",
       "</table>\n",
       "<p>5 rows × 22 columns</p>\n",
       "</div>"
      ],
      "text/plain": [
       "      city           Hemisphere  Season  Year  Season_Year          co  \\\n",
       "0  Aasiaat  Northern Hemisphere  Summer  2022  Summer_2022  179.718204   \n",
       "1  Aasiaat  Northern Hemisphere  Autumn  2022  Autumn_2022  187.498562   \n",
       "2  Aasiaat  Northern Hemisphere  Winter  2022  Winter_2022  210.086533   \n",
       "3  Aasiaat  Northern Hemisphere  Spring  2022  Spring_2022  227.892261   \n",
       "4  Aasiaat  Northern Hemisphere  Summer  2023  Summer_2023  221.827736   \n",
       "\n",
       "         no       no2         o3       so2  ...       nh3     name  latitude  \\\n",
       "0  0.022079  0.313528  52.637019  0.220574  ...  0.000000  Aasiaat   68.7097   \n",
       "1  0.001525  0.180261  70.555879  0.093420  ...  0.000014  Aasiaat   68.7097   \n",
       "2  0.000000  0.104167  87.908289  0.120997  ...  0.000134  Aasiaat   68.7097   \n",
       "3  0.018850  0.165229  77.791464  0.286301  ...  0.000000  Aasiaat   68.7097   \n",
       "4  0.021082  0.337785  48.390688  0.218066  ...  0.000983  Aasiaat   68.7097   \n",
       "\n",
       "  longitude  country  population is_capital  is_rural      country_full  \\\n",
       "0  -52.8694       GL      3134.0      False      True  Kalaallit Nunaat   \n",
       "1  -52.8694       GL      3134.0      False      True  Kalaallit Nunaat   \n",
       "2  -52.8694       GL      3134.0      False      True  Kalaallit Nunaat   \n",
       "3  -52.8694       GL      3134.0      False      True  Kalaallit Nunaat   \n",
       "4  -52.8694       GL      3134.0      False      True  Kalaallit Nunaat   \n",
       "\n",
       "           city_season  \n",
       "0  Aasiaat_Summer_2022  \n",
       "1  Aasiaat_Autumn_2022  \n",
       "2  Aasiaat_Winter_2022  \n",
       "3  Aasiaat_Spring_2022  \n",
       "4  Aasiaat_Summer_2023  \n",
       "\n",
       "[5 rows x 22 columns]"
      ]
     },
     "execution_count": 72,
     "metadata": {},
     "output_type": "execute_result"
    }
   ],
   "source": [
    "# Dropping duplicates, keeping the first entry\n",
    "seasonal_pollution_clean_df = seasonal_pollution_df.drop_duplicates(subset=['city', 'Season_Year'], keep='first')\n",
    "seasonal_pollution_clean_df.head()"
   ]
  },
  {
   "cell_type": "code",
   "execution_count": 73,
   "metadata": {},
   "outputs": [
    {
     "data": {
      "text/plain": [
       "373"
      ]
     },
     "execution_count": 73,
     "metadata": {},
     "output_type": "execute_result"
    }
   ],
   "source": [
    "# Checking the number of mice.\n",
    "number_of_cities_no_dups=seasonal_pollution_clean_df['city'].nunique()\n",
    "number_of_cities_no_dups"
   ]
  },
  {
   "cell_type": "code",
   "execution_count": 74,
   "metadata": {},
   "outputs": [
    {
     "data": {
      "text/plain": [
       "3723"
      ]
     },
     "execution_count": 74,
     "metadata": {},
     "output_type": "execute_result"
    }
   ],
   "source": [
    "entry_count = len(seasonal_pollution_clean_df['city_season'])\n",
    "entry_count"
   ]
  },
  {
   "cell_type": "code",
   "execution_count": 84,
   "metadata": {},
   "outputs": [],
   "source": [
    "# List of columns to plot\n",
    "pollutants = ['co', 'no', 'no2', 'o3', 'so2', 'pm2_5', 'pm10', 'nh3']\n",
    "\n",
    "# Create a histogram for each column\n",
    "for pollutant in pollutants:\n",
    "    plt.figure()\n",
    "    seasonal_pollution_df[pollutant].plot(kind='hist', bins=20)\n",
    "    plt.xlabel(pollutant)\n",
    "    plt.ylabel('Frequency')\n",
    "    plt.title(f'Histogram of global {pollutant}')\n",
    "    plt.savefig(f'{stats_output_dir_season}/{pollutant}_histogram_global.png')\n",
    "    plt.close()\n"
   ]
  },
  {
   "cell_type": "code",
   "execution_count": 85,
   "metadata": {},
   "outputs": [],
   "source": [
    "seasons = seasonal_pollution_clean_df['Season'].unique()\n"
   ]
  },
  {
   "cell_type": "code",
   "execution_count": 86,
   "metadata": {},
   "outputs": [],
   "source": [
    "# Optional: Define a color map for different seasons for visual clarity\n",
    "colors = ['blue', 'green', 'red', 'purple']  # One color for each season\n",
    "season_color = {season: color for season, color in zip(seasons, colors)}\n",
    "\n",
    "for pollutant in pollutants:\n",
    "    plt.figure(figsize=(10, 6))  # Create a figure for each pollutant\n",
    "\n",
    "    for season in seasons:\n",
    "        season_data = seasonal_pollution_df[seasonal_pollution_df['Season'] == season][pollutant].dropna()\n",
    "        plt.hist(season_data, bins=20, histtype='step', linewidth=1.5, label=season, color=season_color[season])\n",
    "\n",
    "    plt.title(f'Global Histogram of {pollutant.capitalize()} by Season')\n",
    "    plt.xlabel(f'{pollutant.capitalize()} Concentration')\n",
    "    plt.ylabel('Frequency')\n",
    "    plt.legend(title='Season')\n",
    "    plt.grid(True)  # Optional: Turn on grid for better readability\n",
    "\n",
    "    # Save the plot in the output directory\n",
    "    plt.savefig(f'{stats_output_dir_season}/{pollutant}_global_histogram_by_season.png')\n",
    "    plt.close()  # Close the plot to free up memory"
   ]
  },
  {
   "cell_type": "code",
   "execution_count": 78,
   "metadata": {},
   "outputs": [
    {
     "name": "stdout",
     "output_type": "stream",
     "text": [
      "Season           Autumn       Spring       Summer       Winter\n",
      "co_Max      1772.905386  1584.519647  1188.859524  1800.546890\n",
      "co_Mean      278.781852   276.025633   245.072885   315.990026\n",
      "co_Min       138.984889   165.574386   136.984537   172.297032\n",
      "co_Std       165.874353   130.497130   116.196638   208.158210\n",
      "nh3_Max       26.433581    57.549971    16.232056    35.038651\n",
      "nh3_Mean       1.280894     2.177450     0.978113     1.952975\n",
      "nh3_Min        0.000000     0.000000     0.000000     0.000000\n",
      "nh3_Std        3.056192     5.376312     2.029203     4.432253\n",
      "no2_Max       43.326181    44.558658    34.676793    55.992440\n",
      "no2_Mean       3.899885     3.583766     2.372448     5.840046\n",
      "no2_Min        0.007333     0.007569     0.005763     0.007536\n",
      "no2_Std        6.429576     5.663821     4.155236     8.911006\n",
      "no_Max        13.639890    11.231832    16.145472    27.973810\n",
      "no_Mean        0.562781     0.404419     0.299881     0.910550\n",
      "no_Min         0.000000     0.000014     0.000000     0.000000\n",
      "no_Std         1.611563     1.053891     1.034478     2.701647\n",
      "o3_Max       109.602175   137.903412   162.001292   104.768158\n",
      "o3_Mean       44.458079    61.759284    40.913525    53.449704\n",
      "o3_Min         0.943333     2.111752    -1.666304    -0.937976\n",
      "o3_Std        19.719438    22.345633    22.192163    17.023434\n",
      "pm10_Max     412.066964   550.049804   633.222727   548.513333\n",
      "pm10_Mean     20.675457    24.824262    18.148910    29.805856\n",
      "pm10_Min       0.529690     0.507842    -6.311610    -6.560791\n",
      "pm10_Std      43.129242    58.032493    49.729855    67.340671\n",
      "pm2_5_Max    158.033553   112.892889   116.436116   244.718690\n",
      "pm2_5_Mean     9.804049    10.110810     7.638073    15.450125\n",
      "pm2_5_Min      0.511920     0.501137     0.518899     0.500000\n",
      "pm2_5_Std     17.283052    15.974130    12.265603    30.396614\n",
      "so2_Max       87.627234    78.851845    61.667144    98.496577\n",
      "so2_Mean       2.130895     2.171154     1.564818     3.032335\n",
      "so2_Min        0.012097     0.015948     0.016398     0.019033\n",
      "so2_Std        6.660599     6.411294     4.824676     8.405379\n"
     ]
    },
    {
     "name": "stderr",
     "output_type": "stream",
     "text": [
      "C:\\Users\\wware\\AppData\\Local\\Temp\\ipykernel_24480\\2952914727.py:3: SettingWithCopyWarning: \n",
      "A value is trying to be set on a copy of a slice from a DataFrame.\n",
      "Try using .loc[row_indexer,col_indexer] = value instead\n",
      "\n",
      "See the caveats in the documentation: https://pandas.pydata.org/pandas-docs/stable/user_guide/indexing.html#returning-a-view-versus-a-copy\n",
      "  seasonal_pollution_clean_df[pollutant] = pd.to_numeric(seasonal_pollution_clean_df[pollutant], errors='coerce')\n"
     ]
    }
   ],
   "source": [
    "pollutants = ['co', 'no', 'no2', 'o3', 'so2', 'pm2_5', 'pm10', 'nh3']\n",
    "for pollutant in pollutants:\n",
    "    seasonal_pollution_clean_df[pollutant] = pd.to_numeric(seasonal_pollution_clean_df[pollutant], errors='coerce')\n",
    "\n",
    "mean_pollution = seasonal_pollution_clean_df.groupby(['Season'])[pollutants].mean()\n",
    "max_pollution = seasonal_pollution_clean_df.groupby(['Season'])[pollutants].max()\n",
    "min_pollution = seasonal_pollution_clean_df.groupby(['Season'])[pollutants].min()\n",
    "std_pollution = seasonal_pollution_clean_df.groupby(['Season'])[pollutants].std()\n",
    "\n",
    "# Concatenate the statistics DataFrames along columns\n",
    "stats_by_season = pd.concat([\n",
    "    mean_pollution.add_suffix('_Mean'),\n",
    "    max_pollution.add_suffix('_Max'),\n",
    "    min_pollution.add_suffix('_Min'),\n",
    "    std_pollution.add_suffix('_Std')\n",
    "], axis=1)\n",
    "\n",
    "# Transpose the DataFrame\n",
    "transposed_stats_by_season = stats_by_season.T\n",
    "\n",
    "# Sort the DataFrame by the index directly if 'Season' is the index\n",
    "sorted_transposed_stats_by_season = transposed_stats_by_season.sort_index(ascending=True)\n",
    "\n",
    "# Print the sorted DataFrame\n",
    "print(sorted_transposed_stats_by_season)"
   ]
  },
  {
   "cell_type": "code",
   "execution_count": 79,
   "metadata": {},
   "outputs": [
    {
     "ename": "TypeError",
     "evalue": "'module' object is not callable",
     "output_type": "error",
     "traceback": [
      "\u001b[1;31m---------------------------------------------------------------------------\u001b[0m",
      "\u001b[1;31mTypeError\u001b[0m                                 Traceback (most recent call last)",
      "Cell \u001b[1;32mIn[79], line 18\u001b[0m\n\u001b[0;32m     16\u001b[0m     \u001b[38;5;28;01mif\u001b[39;00m pollutant \u001b[38;5;129;01min\u001b[39;00m season_data\u001b[38;5;241m.\u001b[39mcolumns:\n\u001b[0;32m     17\u001b[0m         clean_data \u001b[38;5;241m=\u001b[39m season_data[pollutant]\u001b[38;5;241m.\u001b[39mdropna()\n\u001b[1;32m---> 18\u001b[0m         iqr \u001b[38;5;241m=\u001b[39m \u001b[43mstats\u001b[49m\u001b[43m(\u001b[49m\u001b[43mclean_data\u001b[49m\u001b[43m)\u001b[49m\n\u001b[0;32m     19\u001b[0m         txt_file\u001b[38;5;241m.\u001b[39mwrite(\u001b[38;5;124mf\u001b[39m\u001b[38;5;124m\"\u001b[39m\u001b[38;5;132;01m{\u001b[39;00mpollutant\u001b[38;5;241m.\u001b[39mcapitalize()\u001b[38;5;132;01m}\u001b[39;00m\u001b[38;5;124m IQR: \u001b[39m\u001b[38;5;132;01m{\u001b[39;00miqr\u001b[38;5;132;01m:\u001b[39;00m\u001b[38;5;124m.2f\u001b[39m\u001b[38;5;132;01m}\u001b[39;00m\u001b[38;5;130;01m\\n\u001b[39;00m\u001b[38;5;124m\"\u001b[39m)\n\u001b[0;32m     20\u001b[0m txt_file\u001b[38;5;241m.\u001b[39mwrite(\u001b[38;5;124m\"\u001b[39m\u001b[38;5;130;01m\\n\u001b[39;00m\u001b[38;5;124m\"\u001b[39m)\n",
      "\u001b[1;31mTypeError\u001b[0m: 'module' object is not callable"
     ]
    }
   ],
   "source": [
    "# IQR plots\n",
    "\n",
    "# Output file path\n",
    "txt_file_path = os.path.join(stats_output_dir_season, 'IQR.txt')\n",
    "\n",
    "# Open the output file and write to it\n",
    "with open(txt_file_path, 'w') as txt_file:\n",
    "    # Loop over seasons\n",
    "    for season in seasonal_pollution_clean_df['Season'].unique():\n",
    "        txt_file.write(f\"Season: {season}\\n\")\n",
    "        # Filter the data for the current season\n",
    "        season_data = seasonal_pollution_clean_df[seasonal_pollution_clean_df['Season'] == season]\n",
    "\n",
    "        # Calculate the IQR for each pollutant for the current season\n",
    "        for pollutant in pollutants:\n",
    "            if pollutant in season_data.columns:\n",
    "                clean_data = season_data[pollutant].dropna()\n",
    "                iqr = stats(clean_data)\n",
    "                txt_file.write(f\"{pollutant.capitalize()} IQR: {iqr:.2f}\\n\")\n",
    "        txt_file.write(\"\\n\")  # Add a new line after each season\n",
    "    \n",
    "\n"
   ]
  },
  {
   "cell_type": "code",
   "execution_count": null,
   "metadata": {},
   "outputs": [
    {
     "data": {
      "application/vnd.plotly.v1+json": {
       "config": {
        "plotlyServerURL": "https://plot.ly"
       },
       "data": [
        {
         "alignmentgroup": "True",
         "hovertemplate": "city=Aasiaat<br>Season=%{x}<br>co=%{y}<extra></extra>",
         "legendgroup": "Aasiaat",
         "marker": {
          "color": "#636efa",
          "pattern": {
           "shape": ""
          }
         },
         "name": "Aasiaat",
         "offsetgroup": "Aasiaat",
         "orientation": "v",
         "showlegend": true,
         "textposition": "auto",
         "type": "bar",
         "x": [
          "Autumn",
          "Spring",
          "Summer",
          "Winter"
         ],
         "xaxis": "x",
         "y": [
          222.28798252442004,
          236.4524924707032,
          200.77296960547505,
          230.3941069899968
         ],
         "yaxis": "y"
        },
        {
         "alignmentgroup": "True",
         "hovertemplate": "city=Abeokuta<br>Season=%{x}<br>co=%{y}<extra></extra>",
         "legendgroup": "Abeokuta",
         "marker": {
          "color": "#EF553B",
          "pattern": {
           "shape": ""
          }
         },
         "name": "Abeokuta",
         "offsetgroup": "Abeokuta",
         "orientation": "v",
         "showlegend": true,
         "textposition": "auto",
         "type": "bar",
         "x": [
          "Autumn",
          "Spring",
          "Summer",
          "Winter"
         ],
         "xaxis": "x",
         "y": [
          993.9531828260692,
          835.0640834662196,
          762.5335756843801,
          1055.136748634193
         ],
         "yaxis": "y"
        },
        {
         "alignmentgroup": "True",
         "hovertemplate": "city=Acapulco De Juarez<br>Season=%{x}<br>co=%{y}<extra></extra>",
         "legendgroup": "Acapulco De Juarez",
         "marker": {
          "color": "#00cc96",
          "pattern": {
           "shape": ""
          }
         },
         "name": "Acapulco De Juarez",
         "offsetgroup": "Acapulco De Juarez",
         "orientation": "v",
         "showlegend": true,
         "textposition": "auto",
         "type": "bar",
         "x": [
          "Autumn",
          "Spring",
          "Summer",
          "Winter"
         ],
         "xaxis": "x",
         "y": [
          354.906510989011,
          312.3442770061929,
          323.90839623590983,
          396.82920312767504
         ],
         "yaxis": "y"
        },
        {
         "alignmentgroup": "True",
         "hovertemplate": "city=Acarau<br>Season=%{x}<br>co=%{y}<extra></extra>",
         "legendgroup": "Acarau",
         "marker": {
          "color": "#ab63fa",
          "pattern": {
           "shape": ""
          }
         },
         "name": "Acarau",
         "offsetgroup": "Acarau",
         "orientation": "v",
         "showlegend": true,
         "textposition": "auto",
         "type": "bar",
         "x": [
          "Autumn",
          "Spring",
          "Summer",
          "Winter"
         ],
         "xaxis": "x",
         "y": [
          266.09899412114913,
          285.06739741045993,
          305.3248683949055,
          231.91069384057968
         ],
         "yaxis": "y"
        },
        {
         "alignmentgroup": "True",
         "hovertemplate": "city=Achacachi<br>Season=%{x}<br>co=%{y}<extra></extra>",
         "legendgroup": "Achacachi",
         "marker": {
          "color": "#FFA15A",
          "pattern": {
           "shape": ""
          }
         },
         "name": "Achacachi",
         "offsetgroup": "Achacachi",
         "orientation": "v",
         "showlegend": true,
         "textposition": "auto",
         "type": "bar",
         "x": [
          "Autumn",
          "Spring",
          "Summer",
          "Winter"
         ],
         "xaxis": "x",
         "y": [
          191.99706295788633,
          252.9154252136752,
          209.50999645364053,
          183.50509198872788
         ],
         "yaxis": "y"
        },
        {
         "alignmentgroup": "True",
         "hovertemplate": "city=Agadez<br>Season=%{x}<br>co=%{y}<extra></extra>",
         "legendgroup": "Agadez",
         "marker": {
          "color": "#19d3f3",
          "pattern": {
           "shape": ""
          }
         },
         "name": "Agadez",
         "offsetgroup": "Agadez",
         "orientation": "v",
         "showlegend": true,
         "textposition": "auto",
         "type": "bar",
         "x": [
          "Autumn",
          "Spring",
          "Summer",
          "Winter"
         ],
         "xaxis": "x",
         "y": [
          212.1431247942133,
          220.27379624093638,
          315.17011795491146,
          201.09319849906447
         ],
         "yaxis": "y"
        },
        {
         "alignmentgroup": "True",
         "hovertemplate": "city=Aginskoye<br>Season=%{x}<br>co=%{y}<extra></extra>",
         "legendgroup": "Aginskoye",
         "marker": {
          "color": "#FF6692",
          "pattern": {
           "shape": ""
          }
         },
         "name": "Aginskoye",
         "offsetgroup": "Aginskoye",
         "orientation": "v",
         "showlegend": true,
         "textposition": "auto",
         "type": "bar",
         "x": [
          "Autumn",
          "Spring",
          "Summer",
          "Winter"
         ],
         "xaxis": "x",
         "y": [
          198.28070351523476,
          220.84853935971964,
          172.63513263125765,
          233.41998950231735
         ],
         "yaxis": "y"
        },
        {
         "alignmentgroup": "True",
         "hovertemplate": "city=Al Ghayzah<br>Season=%{x}<br>co=%{y}<extra></extra>",
         "legendgroup": "Al Ghayzah",
         "marker": {
          "color": "#B6E880",
          "pattern": {
           "shape": ""
          }
         },
         "name": "Al Ghayzah",
         "offsetgroup": "Al Ghayzah",
         "orientation": "v",
         "showlegend": true,
         "textposition": "auto",
         "type": "bar",
         "x": [
          "Autumn",
          "Spring",
          "Summer",
          "Winter"
         ],
         "xaxis": "x",
         "y": [
          216.90897608243813,
          226.5965426118614,
          230.72072126610306,
          231.9197467257319
         ],
         "yaxis": "y"
        },
        {
         "alignmentgroup": "True",
         "hovertemplate": "city=Al Jawf<br>Season=%{x}<br>co=%{y}<extra></extra>",
         "legendgroup": "Al Jawf",
         "marker": {
          "color": "#FF97FF",
          "pattern": {
           "shape": ""
          }
         },
         "name": "Al Jawf",
         "offsetgroup": "Al Jawf",
         "orientation": "v",
         "showlegend": true,
         "textposition": "auto",
         "type": "bar",
         "x": [
          "Autumn",
          "Spring",
          "Summer",
          "Winter"
         ],
         "xaxis": "x",
         "y": [
          188.95334369983948,
          200.22081367992465,
          189.3137151268116,
          231.68162887577344
         ],
         "yaxis": "y"
        },
        {
         "alignmentgroup": "True",
         "hovertemplate": "city=Al Wajh<br>Season=%{x}<br>co=%{y}<extra></extra>",
         "legendgroup": "Al Wajh",
         "marker": {
          "color": "#FECB52",
          "pattern": {
           "shape": ""
          }
         },
         "name": "Al Wajh",
         "offsetgroup": "Al Wajh",
         "orientation": "v",
         "showlegend": true,
         "textposition": "auto",
         "type": "bar",
         "x": [
          "Autumn",
          "Spring",
          "Summer",
          "Winter"
         ],
         "xaxis": "x",
         "y": [
          205.54991920298804,
          212.0922133902362,
          199.66586518719805,
          230.6235141747377
         ],
         "yaxis": "y"
        },
        {
         "alignmentgroup": "True",
         "hovertemplate": "city=Alamosa<br>Season=%{x}<br>co=%{y}<extra></extra>",
         "legendgroup": "Alamosa",
         "marker": {
          "color": "#636efa",
          "pattern": {
           "shape": ""
          }
         },
         "name": "Alamosa",
         "offsetgroup": "Alamosa",
         "orientation": "v",
         "showlegend": true,
         "textposition": "auto",
         "type": "bar",
         "x": [
          "Autumn",
          "Spring",
          "Summer",
          "Winter"
         ],
         "xaxis": "x",
         "y": [
          182.14536630036628,
          188.0603236448787,
          168.0718482789855,
          220.5835239463338
         ],
         "yaxis": "y"
        },
        {
         "alignmentgroup": "True",
         "hovertemplate": "city=Albany<br>Season=%{x}<br>co=%{y}<extra></extra>",
         "legendgroup": "Albany",
         "marker": {
          "color": "#EF553B",
          "pattern": {
           "shape": ""
          }
         },
         "name": "Albany",
         "offsetgroup": "Albany",
         "orientation": "v",
         "showlegend": true,
         "textposition": "auto",
         "type": "bar",
         "x": [
          "Autumn",
          "Spring",
          "Summer",
          "Winter"
         ],
         "xaxis": "x",
         "y": [
          276.476257020757,
          273.56160149485964,
          251.08148520531398,
          334.135162184802
         ],
         "yaxis": "y"
        },
        {
         "alignmentgroup": "True",
         "hovertemplate": "city=Albu Kamal<br>Season=%{x}<br>co=%{y}<extra></extra>",
         "legendgroup": "Albu Kamal",
         "marker": {
          "color": "#00cc96",
          "pattern": {
           "shape": ""
          }
         },
         "name": "Albu Kamal",
         "offsetgroup": "Albu Kamal",
         "orientation": "v",
         "showlegend": true,
         "textposition": "auto",
         "type": "bar",
         "x": [
          "Autumn",
          "Spring",
          "Summer",
          "Winter"
         ],
         "xaxis": "x",
         "y": [
          258.58237243795526,
          239.59661330424092,
          200.91743785225444,
          314.58529610955196
         ],
         "yaxis": "y"
        },
        {
         "alignmentgroup": "True",
         "hovertemplate": "city=Alice Springs<br>Season=%{x}<br>co=%{y}<extra></extra>",
         "legendgroup": "Alice Springs",
         "marker": {
          "color": "#ab63fa",
          "pattern": {
           "shape": ""
          }
         },
         "name": "Alice Springs",
         "offsetgroup": "Alice Springs",
         "orientation": "v",
         "showlegend": true,
         "textposition": "auto",
         "type": "bar",
         "x": [
          "Autumn",
          "Spring",
          "Summer",
          "Winter"
         ],
         "xaxis": "x",
         "y": [
          210.79914116291675,
          242.1988675739969,
          229.73996439500942,
          205.12915013227516
         ],
         "yaxis": "y"
        },
        {
         "alignmentgroup": "True",
         "hovertemplate": "city=Alotau<br>Season=%{x}<br>co=%{y}<extra></extra>",
         "legendgroup": "Alotau",
         "marker": {
          "color": "#FFA15A",
          "pattern": {
           "shape": ""
          }
         },
         "name": "Alotau",
         "offsetgroup": "Alotau",
         "orientation": "v",
         "showlegend": true,
         "textposition": "auto",
         "type": "bar",
         "x": [
          "Autumn",
          "Spring",
          "Summer",
          "Winter"
         ],
         "xaxis": "x",
         "y": [
          210.99608103575042,
          195.15410387983667,
          213.972316972693,
          196.22360129222628
         ],
         "yaxis": "y"
        },
        {
         "alignmentgroup": "True",
         "hovertemplate": "city=Altay<br>Season=%{x}<br>co=%{y}<extra></extra>",
         "legendgroup": "Altay",
         "marker": {
          "color": "#19d3f3",
          "pattern": {
           "shape": ""
          }
         },
         "name": "Altay",
         "offsetgroup": "Altay",
         "orientation": "v",
         "showlegend": true,
         "textposition": "auto",
         "type": "bar",
         "x": [
          "Autumn",
          "Spring",
          "Summer",
          "Winter"
         ],
         "xaxis": "x",
         "y": [
          204.00896697637572,
          214.64448812265462,
          170.3522265720391,
          257.33510966199526
         ],
         "yaxis": "y"
        },
        {
         "alignmentgroup": "True",
         "hovertemplate": "city=Ambon<br>Season=%{x}<br>co=%{y}<extra></extra>",
         "legendgroup": "Ambon",
         "marker": {
          "color": "#FF6692",
          "pattern": {
           "shape": ""
          }
         },
         "name": "Ambon",
         "offsetgroup": "Ambon",
         "orientation": "v",
         "showlegend": true,
         "textposition": "auto",
         "type": "bar",
         "x": [
          "Autumn",
          "Spring",
          "Summer",
          "Winter"
         ],
         "xaxis": "x",
         "y": [
          290.9019866935194,
          273.2986221070596,
          308.5550355973476,
          209.93861240842492
         ],
         "yaxis": "y"
        },
        {
         "alignmentgroup": "True",
         "hovertemplate": "city=Anadyr<br>Season=%{x}<br>co=%{y}<extra></extra>",
         "legendgroup": "Anadyr",
         "marker": {
          "color": "#B6E880",
          "pattern": {
           "shape": ""
          }
         },
         "name": "Anadyr",
         "offsetgroup": "Anadyr",
         "orientation": "v",
         "showlegend": true,
         "textposition": "auto",
         "type": "bar",
         "x": [
          "Autumn",
          "Spring",
          "Summer",
          "Winter"
         ],
         "xaxis": "x",
         "y": [
          215.22414332554422,
          238.79508855510687,
          188.7195966625967,
          239.1551910142588
         ],
         "yaxis": "y"
        },
        {
         "alignmentgroup": "True",
         "hovertemplate": "city=Anamosa<br>Season=%{x}<br>co=%{y}<extra></extra>",
         "legendgroup": "Anamosa",
         "marker": {
          "color": "#FF97FF",
          "pattern": {
           "shape": ""
          }
         },
         "name": "Anamosa",
         "offsetgroup": "Anamosa",
         "orientation": "v",
         "showlegend": true,
         "textposition": "auto",
         "type": "bar",
         "x": [
          "Autumn",
          "Spring",
          "Summer",
          "Winter"
         ],
         "xaxis": "x",
         "y": [
          239.64162545787548,
          247.15304246874118,
          233.0132798409823,
          276.5570412814587
         ],
         "yaxis": "y"
        },
        {
         "alignmentgroup": "True",
         "hovertemplate": "city=Ancud<br>Season=%{x}<br>co=%{y}<extra></extra>",
         "legendgroup": "Ancud",
         "marker": {
          "color": "#FECB52",
          "pattern": {
           "shape": ""
          }
         },
         "name": "Ancud",
         "offsetgroup": "Ancud",
         "orientation": "v",
         "showlegend": true,
         "textposition": "auto",
         "type": "bar",
         "x": [
          "Autumn",
          "Spring",
          "Summer",
          "Winter"
         ],
         "xaxis": "x",
         "y": [
          224.9289701882831,
          217.54280835368337,
          194.98540864914276,
          237.4032259963768
         ],
         "yaxis": "y"
        },
        {
         "alignmentgroup": "True",
         "hovertemplate": "city=Ankang<br>Season=%{x}<br>co=%{y}<extra></extra>",
         "legendgroup": "Ankang",
         "marker": {
          "color": "#636efa",
          "pattern": {
           "shape": ""
          }
         },
         "name": "Ankang",
         "offsetgroup": "Ankang",
         "orientation": "v",
         "showlegend": true,
         "textposition": "auto",
         "type": "bar",
         "x": [
          "Autumn",
          "Spring",
          "Summer",
          "Winter"
         ],
         "xaxis": "x",
         "y": [
          462.2001073145604,
          410.54386438661487,
          305.52274501424506,
          677.931776561774
         ],
         "yaxis": "y"
        },
        {
         "alignmentgroup": "True",
         "hovertemplate": "city=Antsiranana<br>Season=%{x}<br>co=%{y}<extra></extra>",
         "legendgroup": "Antsiranana",
         "marker": {
          "color": "#EF553B",
          "pattern": {
           "shape": ""
          }
         },
         "name": "Antsiranana",
         "offsetgroup": "Antsiranana",
         "orientation": "v",
         "showlegend": true,
         "textposition": "auto",
         "type": "bar",
         "x": [
          "Autumn",
          "Spring",
          "Summer",
          "Winter"
         ],
         "xaxis": "x",
         "y": [
          221.05587085054586,
          218.8761655502737,
          217.69792051874683,
          209.53169132447667
         ],
         "yaxis": "y"
        },
        {
         "alignmentgroup": "True",
         "hovertemplate": "city=Arafat<br>Season=%{x}<br>co=%{y}<extra></extra>",
         "legendgroup": "Arafat",
         "marker": {
          "color": "#00cc96",
          "pattern": {
           "shape": ""
          }
         },
         "name": "Arafat",
         "offsetgroup": "Arafat",
         "orientation": "v",
         "showlegend": true,
         "textposition": "auto",
         "type": "bar",
         "x": [
          "Autumn",
          "Spring",
          "Summer",
          "Winter"
         ],
         "xaxis": "x",
         "y": [
          262.55254889092384,
          269.5276439184541,
          220.9494175724638,
          285.47440457847233
         ],
         "yaxis": "y"
        },
        {
         "alignmentgroup": "True",
         "hovertemplate": "city=Asau<br>Season=%{x}<br>co=%{y}<extra></extra>",
         "legendgroup": "Asau",
         "marker": {
          "color": "#ab63fa",
          "pattern": {
           "shape": ""
          }
         },
         "name": "Asau",
         "offsetgroup": "Asau",
         "orientation": "v",
         "showlegend": true,
         "textposition": "auto",
         "type": "bar",
         "x": [
          "Autumn",
          "Spring",
          "Summer",
          "Winter"
         ],
         "xaxis": "x",
         "y": [
          201.65256245211654,
          175.2397435897436,
          189.71040697956835,
          182.5271156904187
         ],
         "yaxis": "y"
        },
        {
         "alignmentgroup": "True",
         "hovertemplate": "city=Avarua<br>Season=%{x}<br>co=%{y}<extra></extra>",
         "legendgroup": "Avarua",
         "marker": {
          "color": "#FFA15A",
          "pattern": {
           "shape": ""
          }
         },
         "name": "Avarua",
         "offsetgroup": "Avarua",
         "orientation": "v",
         "showlegend": true,
         "textposition": "auto",
         "type": "bar",
         "x": [
          "Autumn",
          "Spring",
          "Summer",
          "Winter"
         ],
         "xaxis": "x",
         "y": [
          209.26958051213126,
          202.46779990842492,
          197.0665632643016,
          205.29847030998388
         ],
         "yaxis": "y"
        },
        {
         "alignmentgroup": "True",
         "hovertemplate": "city=Aydincik<br>Season=%{x}<br>co=%{y}<extra></extra>",
         "legendgroup": "Aydincik",
         "marker": {
          "color": "#19d3f3",
          "pattern": {
           "shape": ""
          }
         },
         "name": "Aydincik",
         "offsetgroup": "Aydincik",
         "orientation": "v",
         "showlegend": true,
         "textposition": "auto",
         "type": "bar",
         "x": [
          "Autumn",
          "Spring",
          "Summer",
          "Winter"
         ],
         "xaxis": "x",
         "y": [
          218.32837091513355,
          234.1472424716509,
          214.94262354066024,
          254.33699619912807
         ],
         "yaxis": "y"
        },
        {
         "alignmentgroup": "True",
         "hovertemplate": "city=Az Zubayr<br>Season=%{x}<br>co=%{y}<extra></extra>",
         "legendgroup": "Az Zubayr",
         "marker": {
          "color": "#FF6692",
          "pattern": {
           "shape": ""
          }
         },
         "name": "Az Zubayr",
         "offsetgroup": "Az Zubayr",
         "orientation": "v",
         "showlegend": true,
         "textposition": "auto",
         "type": "bar",
         "x": [
          "Autumn",
          "Spring",
          "Summer",
          "Winter"
         ],
         "xaxis": "x",
         "y": [
          521.3160574865209,
          409.1927080347441,
          325.2618372081321,
          571.6411177567137
         ],
         "yaxis": "y"
        },
        {
         "alignmentgroup": "True",
         "hovertemplate": "city=Badger<br>Season=%{x}<br>co=%{y}<extra></extra>",
         "legendgroup": "Badger",
         "marker": {
          "color": "#B6E880",
          "pattern": {
           "shape": ""
          }
         },
         "name": "Badger",
         "offsetgroup": "Badger",
         "orientation": "v",
         "showlegend": true,
         "textposition": "auto",
         "type": "bar",
         "x": [
          "Autumn",
          "Spring",
          "Summer",
          "Winter"
         ],
         "xaxis": "x",
         "y": [
          231.3095604395604,
          248.69348478317443,
          240.21342446658616,
          275.1135553591301
         ],
         "yaxis": "y"
        },
        {
         "alignmentgroup": "True",
         "hovertemplate": "city=Baiquan<br>Season=%{x}<br>co=%{y}<extra></extra>",
         "legendgroup": "Baiquan",
         "marker": {
          "color": "#FF97FF",
          "pattern": {
           "shape": ""
          }
         },
         "name": "Baiquan",
         "offsetgroup": "Baiquan",
         "orientation": "v",
         "showlegend": true,
         "textposition": "auto",
         "type": "bar",
         "x": [
          "Autumn",
          "Spring",
          "Summer",
          "Winter"
         ],
         "xaxis": "x",
         "y": [
          316.0411829576674,
          309.8763582074683,
          248.72273237179485,
          425.1359016695404
         ],
         "yaxis": "y"
        },
        {
         "alignmentgroup": "True",
         "hovertemplate": "city=Ballina<br>Season=%{x}<br>co=%{y}<extra></extra>",
         "legendgroup": "Ballina",
         "marker": {
          "color": "#FECB52",
          "pattern": {
           "shape": ""
          }
         },
         "name": "Ballina",
         "offsetgroup": "Ballina",
         "orientation": "v",
         "showlegend": true,
         "textposition": "auto",
         "type": "bar",
         "x": [
          "Autumn",
          "Spring",
          "Summer",
          "Winter"
         ],
         "xaxis": "x",
         "y": [
          209.05911483647776,
          204.9796793292914,
          196.14023191968104,
          213.12849175824178
         ],
         "yaxis": "y"
        },
        {
         "alignmentgroup": "True",
         "hovertemplate": "city=Balurghat<br>Season=%{x}<br>co=%{y}<extra></extra>",
         "legendgroup": "Balurghat",
         "marker": {
          "color": "#636efa",
          "pattern": {
           "shape": ""
          }
         },
         "name": "Balurghat",
         "offsetgroup": "Balurghat",
         "orientation": "v",
         "showlegend": true,
         "textposition": "auto",
         "type": "bar",
         "x": [
          "Autumn",
          "Spring",
          "Summer",
          "Winter"
         ],
         "xaxis": "x",
         "y": [
          820.0822464450343,
          687.561092551854,
          482.6437022792023,
          1205.8473494096534
         ],
         "yaxis": "y"
        },
        {
         "alignmentgroup": "True",
         "hovertemplate": "city=Banda Aceh<br>Season=%{x}<br>co=%{y}<extra></extra>",
         "legendgroup": "Banda Aceh",
         "marker": {
          "color": "#EF553B",
          "pattern": {
           "shape": ""
          }
         },
         "name": "Banda Aceh",
         "offsetgroup": "Banda Aceh",
         "orientation": "v",
         "showlegend": true,
         "textposition": "auto",
         "type": "bar",
         "x": [
          "Autumn",
          "Spring",
          "Summer",
          "Winter"
         ],
         "xaxis": "x",
         "y": [
          510.850729230975,
          512.3339909506818,
          386.8971910612536,
          468.6242897306907
         ],
         "yaxis": "y"
        },
        {
         "alignmentgroup": "True",
         "hovertemplate": "city=Bandarbeyla<br>Season=%{x}<br>co=%{y}<extra></extra>",
         "legendgroup": "Bandarbeyla",
         "marker": {
          "color": "#00cc96",
          "pattern": {
           "shape": ""
          }
         },
         "name": "Bandarbeyla",
         "offsetgroup": "Bandarbeyla",
         "orientation": "v",
         "showlegend": true,
         "textposition": "auto",
         "type": "bar",
         "x": [
          "Autumn",
          "Spring",
          "Summer",
          "Winter"
         ],
         "xaxis": "x",
         "y": [
          226.4826337613697,
          226.0748233164509,
          201.63982306763285,
          230.3728180488297
         ],
         "yaxis": "y"
        },
        {
         "alignmentgroup": "True",
         "hovertemplate": "city=Banjarmasin<br>Season=%{x}<br>co=%{y}<extra></extra>",
         "legendgroup": "Banjarmasin",
         "marker": {
          "color": "#ab63fa",
          "pattern": {
           "shape": ""
          }
         },
         "name": "Banjarmasin",
         "offsetgroup": "Banjarmasin",
         "orientation": "v",
         "showlegend": true,
         "textposition": "auto",
         "type": "bar",
         "x": [
          "Autumn",
          "Spring",
          "Summer",
          "Winter"
         ],
         "xaxis": "x",
         "y": [
          821.7411423800564,
          798.0189059117965,
          659.4631911426615,
          751.658361975987
         ],
         "yaxis": "y"
        },
        {
         "alignmentgroup": "True",
         "hovertemplate": "city=Barcelos<br>Season=%{x}<br>co=%{y}<extra></extra>",
         "legendgroup": "Barcelos",
         "marker": {
          "color": "#FFA15A",
          "pattern": {
           "shape": ""
          }
         },
         "name": "Barcelos",
         "offsetgroup": "Barcelos",
         "orientation": "v",
         "showlegend": true,
         "textposition": "auto",
         "type": "bar",
         "x": [
          "Autumn",
          "Spring",
          "Summer",
          "Winter"
         ],
         "xaxis": "x",
         "y": [
          178.96993692665015,
          212.265636472324,
          180.69819642398565,
          175.57253567834135
         ],
         "yaxis": "y"
        },
        {
         "alignmentgroup": "True",
         "hovertemplate": "city=Barreiras<br>Season=%{x}<br>co=%{y}<extra></extra>",
         "legendgroup": "Barreiras",
         "marker": {
          "color": "#19d3f3",
          "pattern": {
           "shape": ""
          }
         },
         "name": "Barreiras",
         "offsetgroup": "Barreiras",
         "orientation": "v",
         "showlegend": true,
         "textposition": "auto",
         "type": "bar",
         "x": [
          "Autumn",
          "Spring",
          "Summer",
          "Winter"
         ],
         "xaxis": "x",
         "y": [
          268.52889340469466,
          302.5679340659341,
          301.6752019170213,
          246.56653371578096
         ],
         "yaxis": "y"
        },
        {
         "alignmentgroup": "True",
         "hovertemplate": "city=Basco<br>Season=%{x}<br>co=%{y}<extra></extra>",
         "legendgroup": "Basco",
         "marker": {
          "color": "#FF6692",
          "pattern": {
           "shape": ""
          }
         },
         "name": "Basco",
         "offsetgroup": "Basco",
         "orientation": "v",
         "showlegend": true,
         "textposition": "auto",
         "type": "bar",
         "x": [
          "Autumn",
          "Spring",
          "Summer",
          "Winter"
         ],
         "xaxis": "x",
         "y": [
          231.93556721923912,
          251.36175303705713,
          248.04989036426537,
          249.27371047796365
         ],
         "yaxis": "y"
        },
        {
         "alignmentgroup": "True",
         "hovertemplate": "city=Batticaloa<br>Season=%{x}<br>co=%{y}<extra></extra>",
         "legendgroup": "Batticaloa",
         "marker": {
          "color": "#B6E880",
          "pattern": {
           "shape": ""
          }
         },
         "name": "Batticaloa",
         "offsetgroup": "Batticaloa",
         "orientation": "v",
         "showlegend": true,
         "textposition": "auto",
         "type": "bar",
         "x": [
          "Autumn",
          "Spring",
          "Summer",
          "Winter"
         ],
         "xaxis": "x",
         "y": [
          302.3524941350784,
          285.1345507586271,
          239.39615799247048,
          324.41265670093793
         ],
         "yaxis": "y"
        },
        {
         "alignmentgroup": "True",
         "hovertemplate": "city=Bayanhongor<br>Season=%{x}<br>co=%{y}<extra></extra>",
         "legendgroup": "Bayanhongor",
         "marker": {
          "color": "#FF97FF",
          "pattern": {
           "shape": ""
          }
         },
         "name": "Bayanhongor",
         "offsetgroup": "Bayanhongor",
         "orientation": "v",
         "showlegend": true,
         "textposition": "auto",
         "type": "bar",
         "x": [
          "Autumn",
          "Spring",
          "Summer",
          "Winter"
         ],
         "xaxis": "x",
         "y": [
          168.76667155760907,
          180.33378330549203,
          149.32405102767603,
          197.73587461326338
         ],
         "yaxis": "y"
        },
        {
         "alignmentgroup": "True",
         "hovertemplate": "city=Benghazi<br>Season=%{x}<br>co=%{y}<extra></extra>",
         "legendgroup": "Benghazi",
         "marker": {
          "color": "#FECB52",
          "pattern": {
           "shape": ""
          }
         },
         "name": "Benghazi",
         "offsetgroup": "Benghazi",
         "orientation": "v",
         "showlegend": true,
         "textposition": "auto",
         "type": "bar",
         "x": [
          "Autumn",
          "Spring",
          "Summer",
          "Winter"
         ],
         "xaxis": "x",
         "y": [
          333.1742995277195,
          372.3175112915583,
          277.59894464573273,
          333.10913482586153
         ],
         "yaxis": "y"
        },
        {
         "alignmentgroup": "True",
         "hovertemplate": "city=Benguela<br>Season=%{x}<br>co=%{y}<extra></extra>",
         "legendgroup": "Benguela",
         "marker": {
          "color": "#636efa",
          "pattern": {
           "shape": ""
          }
         },
         "name": "Benguela",
         "offsetgroup": "Benguela",
         "orientation": "v",
         "showlegend": true,
         "textposition": "auto",
         "type": "bar",
         "x": [
          "Autumn",
          "Spring",
          "Summer",
          "Winter"
         ],
         "xaxis": "x",
         "y": [
          419.5910809599911,
          367.99185336667074,
          338.65868391466114,
          460.10511161433175
         ],
         "yaxis": "y"
        },
        {
         "alignmentgroup": "True",
         "hovertemplate": "city=Bethel Park<br>Season=%{x}<br>co=%{y}<extra></extra>",
         "legendgroup": "Bethel Park",
         "marker": {
          "color": "#EF553B",
          "pattern": {
           "shape": ""
          }
         },
         "name": "Bethel Park",
         "offsetgroup": "Bethel Park",
         "orientation": "v",
         "showlegend": true,
         "textposition": "auto",
         "type": "bar",
         "x": [
          "Autumn",
          "Spring",
          "Summer",
          "Winter"
         ],
         "xaxis": "x",
         "y": [
          299.2262568681318,
          301.0628924524835,
          283.3659290458937,
          353.01553574867927
         ],
         "yaxis": "y"
        },
        {
         "alignmentgroup": "True",
         "hovertemplate": "city=Biggleswade<br>Season=%{x}<br>co=%{y}<extra></extra>",
         "legendgroup": "Biggleswade",
         "marker": {
          "color": "#00cc96",
          "pattern": {
           "shape": ""
          }
         },
         "name": "Biggleswade",
         "offsetgroup": "Biggleswade",
         "orientation": "v",
         "showlegend": true,
         "textposition": "auto",
         "type": "bar",
         "x": [
          "Autumn",
          "Spring",
          "Summer",
          "Winter"
         ],
         "xaxis": "x",
         "y": [
          218.24858117114366,
          224.57684437998014,
          188.08422987117552,
          243.0535472193179
         ],
         "yaxis": "y"
        },
        {
         "alignmentgroup": "True",
         "hovertemplate": "city=Bilibino<br>Season=%{x}<br>co=%{y}<extra></extra>",
         "legendgroup": "Bilibino",
         "marker": {
          "color": "#ab63fa",
          "pattern": {
           "shape": ""
          }
         },
         "name": "Bilibino",
         "offsetgroup": "Bilibino",
         "orientation": "v",
         "showlegend": true,
         "textposition": "auto",
         "type": "bar",
         "x": [
          "Autumn",
          "Spring",
          "Summer",
          "Winter"
         ],
         "xaxis": "x",
         "y": [
          209.9134204612438,
          228.58596149648315,
          181.11372354497354,
          233.9186077711131
         ],
         "yaxis": "y"
        },
        {
         "alignmentgroup": "True",
         "hovertemplate": "city=Box Elder<br>Season=%{x}<br>co=%{y}<extra></extra>",
         "legendgroup": "Box Elder",
         "marker": {
          "color": "#FFA15A",
          "pattern": {
           "shape": ""
          }
         },
         "name": "Box Elder",
         "offsetgroup": "Box Elder",
         "orientation": "v",
         "showlegend": true,
         "textposition": "auto",
         "type": "bar",
         "x": [
          "Autumn",
          "Spring",
          "Summer",
          "Winter"
         ],
         "xaxis": "x",
         "y": [
          205.5432600732601,
          218.56019494336286,
          190.9031861916264,
          233.40954683028835
         ],
         "yaxis": "y"
        },
        {
         "alignmentgroup": "True",
         "hovertemplate": "city=Bratsk<br>Season=%{x}<br>co=%{y}<extra></extra>",
         "legendgroup": "Bratsk",
         "marker": {
          "color": "#19d3f3",
          "pattern": {
           "shape": ""
          }
         },
         "name": "Bratsk",
         "offsetgroup": "Bratsk",
         "orientation": "v",
         "showlegend": true,
         "textposition": "auto",
         "type": "bar",
         "x": [
          "Autumn",
          "Spring",
          "Summer",
          "Winter"
         ],
         "xaxis": "x",
         "y": [
          353.04274668040296,
          361.26962688469376,
          296.8065195868946,
          435.59967938693836
         ],
         "yaxis": "y"
        },
        {
         "alignmentgroup": "True",
         "hovertemplate": "city=Bredasdorp<br>Season=%{x}<br>co=%{y}<extra></extra>",
         "legendgroup": "Bredasdorp",
         "marker": {
          "color": "#FF6692",
          "pattern": {
           "shape": ""
          }
         },
         "name": "Bredasdorp",
         "offsetgroup": "Bredasdorp",
         "orientation": "v",
         "showlegend": true,
         "textposition": "auto",
         "type": "bar",
         "x": [
          "Autumn",
          "Spring",
          "Summer",
          "Winter"
         ],
         "xaxis": "x",
         "y": [
          235.74487069434886,
          217.69353616187183,
          191.66079291324263,
          255.55682175925926
         ],
         "yaxis": "y"
        },
        {
         "alignmentgroup": "True",
         "hovertemplate": "city=Broken Hill<br>Season=%{x}<br>co=%{y}<extra></extra>",
         "legendgroup": "Broken Hill",
         "marker": {
          "color": "#B6E880",
          "pattern": {
           "shape": ""
          }
         },
         "name": "Broken Hill",
         "offsetgroup": "Broken Hill",
         "orientation": "v",
         "showlegend": true,
         "textposition": "auto",
         "type": "bar",
         "x": [
          "Autumn",
          "Spring",
          "Summer",
          "Winter"
         ],
         "xaxis": "x",
         "y": [
          213.33740130047056,
          211.82354487705777,
          212.67653808438504,
          214.93628006715505
         ],
         "yaxis": "y"
        },
        {
         "alignmentgroup": "True",
         "hovertemplate": "city=Brookings<br>Season=%{x}<br>co=%{y}<extra></extra>",
         "legendgroup": "Brookings",
         "marker": {
          "color": "#FF97FF",
          "pattern": {
           "shape": ""
          }
         },
         "name": "Brookings",
         "offsetgroup": "Brookings",
         "orientation": "v",
         "showlegend": true,
         "textposition": "auto",
         "type": "bar",
         "x": [
          "Autumn",
          "Spring",
          "Summer",
          "Winter"
         ],
         "xaxis": "x",
         "y": [
          231.1489491758242,
          242.18582289657704,
          217.66437842190015,
          264.94874602563164
         ],
         "yaxis": "y"
        },
        {
         "alignmentgroup": "True",
         "hovertemplate": "city=Brownwood<br>Season=%{x}<br>co=%{y}<extra></extra>",
         "legendgroup": "Brownwood",
         "marker": {
          "color": "#FECB52",
          "pattern": {
           "shape": ""
          }
         },
         "name": "Brownwood",
         "offsetgroup": "Brownwood",
         "orientation": "v",
         "showlegend": true,
         "textposition": "auto",
         "type": "bar",
         "x": [
          "Autumn",
          "Spring",
          "Summer",
          "Winter"
         ],
         "xaxis": "x",
         "y": [
          219.394271978022,
          234.87170701602952,
          211.4267667069243,
          237.06505851875286
         ],
         "yaxis": "y"
        },
        {
         "alignmentgroup": "True",
         "hovertemplate": "city=Buenaventura<br>Season=%{x}<br>co=%{y}<extra></extra>",
         "legendgroup": "Buenaventura",
         "marker": {
          "color": "#636efa",
          "pattern": {
           "shape": ""
          }
         },
         "name": "Buenaventura",
         "offsetgroup": "Buenaventura",
         "orientation": "v",
         "showlegend": true,
         "textposition": "auto",
         "type": "bar",
         "x": [
          "Autumn",
          "Spring",
          "Summer",
          "Winter"
         ],
         "xaxis": "x",
         "y": [
          269.01459249084246,
          272.91965534383286,
          268.914407055153,
          234.2185618365862
         ],
         "yaxis": "y"
        },
        {
         "alignmentgroup": "True",
         "hovertemplate": "city=Byalynichy<br>Season=%{x}<br>co=%{y}<extra></extra>",
         "legendgroup": "Byalynichy",
         "marker": {
          "color": "#EF553B",
          "pattern": {
           "shape": ""
          }
         },
         "name": "Byalynichy",
         "offsetgroup": "Byalynichy",
         "orientation": "v",
         "showlegend": true,
         "textposition": "auto",
         "type": "bar",
         "x": [
          "Autumn",
          "Spring",
          "Summer",
          "Winter"
         ],
         "xaxis": "x",
         "y": [
          217.7792189879409,
          228.73876834996477,
          180.13619223027376,
          265.09477217697554
         ],
         "yaxis": "y"
        },
        {
         "alignmentgroup": "True",
         "hovertemplate": "city=Byron Bay<br>Season=%{x}<br>co=%{y}<extra></extra>",
         "legendgroup": "Byron Bay",
         "marker": {
          "color": "#00cc96",
          "pattern": {
           "shape": ""
          }
         },
         "name": "Byron Bay",
         "offsetgroup": "Byron Bay",
         "orientation": "v",
         "showlegend": true,
         "textposition": "auto",
         "type": "bar",
         "x": [
          "Autumn",
          "Spring",
          "Summer",
          "Winter"
         ],
         "xaxis": "x",
         "y": [
          210.08934182367966,
          206.76456117637156,
          198.07698040483527,
          213.61535057997557
         ],
         "yaxis": "y"
        },
        {
         "alignmentgroup": "True",
         "hovertemplate": "city=Cabo San Lucas<br>Season=%{x}<br>co=%{y}<extra></extra>",
         "legendgroup": "Cabo San Lucas",
         "marker": {
          "color": "#ab63fa",
          "pattern": {
           "shape": ""
          }
         },
         "name": "Cabo San Lucas",
         "offsetgroup": "Cabo San Lucas",
         "orientation": "v",
         "showlegend": true,
         "textposition": "auto",
         "type": "bar",
         "x": [
          "Autumn",
          "Spring",
          "Summer",
          "Winter"
         ],
         "xaxis": "x",
         "y": [
          207.18321886446887,
          220.60603528266083,
          193.27594207930758,
          228.08631873364394
         ],
         "yaxis": "y"
        },
        {
         "alignmentgroup": "True",
         "hovertemplate": "city=Caluula<br>Season=%{x}<br>co=%{y}<extra></extra>",
         "legendgroup": "Caluula",
         "marker": {
          "color": "#FFA15A",
          "pattern": {
           "shape": ""
          }
         },
         "name": "Caluula",
         "offsetgroup": "Caluula",
         "orientation": "v",
         "showlegend": true,
         "textposition": "auto",
         "type": "bar",
         "x": [
          "Autumn",
          "Spring",
          "Summer",
          "Winter"
         ],
         "xaxis": "x",
         "y": [
          232.24079518561962,
          232.94540867667715,
          227.35158635265697,
          231.93190930185634
         ],
         "yaxis": "y"
        },
        {
         "alignmentgroup": "True",
         "hovertemplate": "city=Camabatela<br>Season=%{x}<br>co=%{y}<extra></extra>",
         "legendgroup": "Camabatela",
         "marker": {
          "color": "#19d3f3",
          "pattern": {
           "shape": ""
          }
         },
         "name": "Camabatela",
         "offsetgroup": "Camabatela",
         "orientation": "v",
         "showlegend": true,
         "textposition": "auto",
         "type": "bar",
         "x": [
          "Autumn",
          "Spring",
          "Summer",
          "Winter"
         ],
         "xaxis": "x",
         "y": [
          240.76277163164687,
          357.9957029417212,
          302.68843072446623,
          396.2717719404187
         ],
         "yaxis": "y"
        },
        {
         "alignmentgroup": "True",
         "hovertemplate": "city=Camana<br>Season=%{x}<br>co=%{y}<extra></extra>",
         "legendgroup": "Camana",
         "marker": {
          "color": "#FF6692",
          "pattern": {
           "shape": ""
          }
         },
         "name": "Camana",
         "offsetgroup": "Camana",
         "orientation": "v",
         "showlegend": true,
         "textposition": "auto",
         "type": "bar",
         "x": [
          "Autumn",
          "Spring",
          "Summer",
          "Winter"
         ],
         "xaxis": "x",
         "y": [
          238.01924481103583,
          205.6478927045177,
          220.95791093822606,
          222.57346829710144
         ],
         "yaxis": "y"
        },
        {
         "alignmentgroup": "True",
         "hovertemplate": "city=Camiri<br>Season=%{x}<br>co=%{y}<extra></extra>",
         "legendgroup": "Camiri",
         "marker": {
          "color": "#B6E880",
          "pattern": {
           "shape": ""
          }
         },
         "name": "Camiri",
         "offsetgroup": "Camiri",
         "orientation": "v",
         "showlegend": true,
         "textposition": "auto",
         "type": "bar",
         "x": [
          "Autumn",
          "Spring",
          "Summer",
          "Winter"
         ],
         "xaxis": "x",
         "y": [
          223.18694071225096,
          365.3488316544567,
          253.45910350478144,
          258.3163888385668
         ],
         "yaxis": "y"
        },
        {
         "alignmentgroup": "True",
         "hovertemplate": "city=Carnarvon<br>Season=%{x}<br>co=%{y}<extra></extra>",
         "legendgroup": "Carnarvon",
         "marker": {
          "color": "#FF97FF",
          "pattern": {
           "shape": ""
          }
         },
         "name": "Carnarvon",
         "offsetgroup": "Carnarvon",
         "orientation": "v",
         "showlegend": true,
         "textposition": "auto",
         "type": "bar",
         "x": [
          "Autumn",
          "Spring",
          "Summer",
          "Winter"
         ],
         "xaxis": "x",
         "y": [
          216.61805265075427,
          221.18594404659012,
          211.26650354559516,
          217.84252646940422
         ],
         "yaxis": "y"
        },
        {
         "alignmentgroup": "True",
         "hovertemplate": "city=Cerklje Na Gorenjskem<br>Season=%{x}<br>co=%{y}<extra></extra>",
         "legendgroup": "Cerklje Na Gorenjskem",
         "marker": {
          "color": "#FECB52",
          "pattern": {
           "shape": ""
          }
         },
         "name": "Cerklje Na Gorenjskem",
         "offsetgroup": "Cerklje Na Gorenjskem",
         "orientation": "v",
         "showlegend": true,
         "textposition": "auto",
         "type": "bar",
         "x": [
          "Autumn",
          "Spring",
          "Summer",
          "Winter"
         ],
         "xaxis": "x",
         "y": [
          340.70374724760256,
          290.52014012036756,
          200.5159181763285,
          551.0384503249811
         ],
         "yaxis": "y"
        },
        {
         "alignmentgroup": "True",
         "hovertemplate": "city=Changchun<br>Season=%{x}<br>co=%{y}<extra></extra>",
         "legendgroup": "Changchun",
         "marker": {
          "color": "#636efa",
          "pattern": {
           "shape": ""
          }
         },
         "name": "Changchun",
         "offsetgroup": "Changchun",
         "orientation": "v",
         "showlegend": true,
         "textposition": "auto",
         "type": "bar",
         "x": [
          "Autumn",
          "Spring",
          "Summer",
          "Winter"
         ],
         "xaxis": "x",
         "y": [
          609.6686034538378,
          501.8292956131998,
          450.7434465557591,
          684.8839587613423
         ],
         "yaxis": "y"
        },
        {
         "alignmentgroup": "True",
         "hovertemplate": "city=Chibougamau<br>Season=%{x}<br>co=%{y}<extra></extra>",
         "legendgroup": "Chibougamau",
         "marker": {
          "color": "#EF553B",
          "pattern": {
           "shape": ""
          }
         },
         "name": "Chibougamau",
         "offsetgroup": "Chibougamau",
         "orientation": "v",
         "showlegend": true,
         "textposition": "auto",
         "type": "bar",
         "x": [
          "Autumn",
          "Spring",
          "Summer",
          "Winter"
         ],
         "xaxis": "x",
         "y": [
          204.02140094627595,
          217.85243081527074,
          210.63396095008054,
          229.71915195386066
         ],
         "yaxis": "y"
        },
        {
         "alignmentgroup": "True",
         "hovertemplate": "city=Chinde<br>Season=%{x}<br>co=%{y}<extra></extra>",
         "legendgroup": "Chinde",
         "marker": {
          "color": "#00cc96",
          "pattern": {
           "shape": ""
          }
         },
         "name": "Chinde",
         "offsetgroup": "Chinde",
         "orientation": "v",
         "showlegend": true,
         "textposition": "auto",
         "type": "bar",
         "x": [
          "Autumn",
          "Spring",
          "Summer",
          "Winter"
         ],
         "xaxis": "x",
         "y": [
          224.74603367368454,
          235.93719363501668,
          224.3526034520447,
          223.17838712761676
         ],
         "yaxis": "y"
        },
        {
         "alignmentgroup": "True",
         "hovertemplate": "city=Chonchi<br>Season=%{x}<br>co=%{y}<extra></extra>",
         "legendgroup": "Chonchi",
         "marker": {
          "color": "#ab63fa",
          "pattern": {
           "shape": ""
          }
         },
         "name": "Chonchi",
         "offsetgroup": "Chonchi",
         "orientation": "v",
         "showlegend": true,
         "textposition": "auto",
         "type": "bar",
         "x": [
          "Autumn",
          "Spring",
          "Summer",
          "Winter"
         ],
         "xaxis": "x",
         "y": [
          217.41432653752494,
          208.57426175213675,
          182.82205470259498,
          236.74976595209344
         ],
         "yaxis": "y"
        },
        {
         "alignmentgroup": "True",
         "hovertemplate": "city=Christchurch<br>Season=%{x}<br>co=%{y}<extra></extra>",
         "legendgroup": "Christchurch",
         "marker": {
          "color": "#FFA15A",
          "pattern": {
           "shape": ""
          }
         },
         "name": "Christchurch",
         "offsetgroup": "Christchurch",
         "orientation": "v",
         "showlegend": true,
         "textposition": "auto",
         "type": "bar",
         "x": [
          "Autumn",
          "Spring",
          "Summer",
          "Winter"
         ],
         "xaxis": "x",
         "y": [
          237.50776278665865,
          223.80274985790072,
          192.66308382325067,
          260.3955731328856
         ],
         "yaxis": "y"
        },
        {
         "alignmentgroup": "True",
         "hovertemplate": "city=Chui<br>Season=%{x}<br>co=%{y}<extra></extra>",
         "legendgroup": "Chui",
         "marker": {
          "color": "#19d3f3",
          "pattern": {
           "shape": ""
          }
         },
         "name": "Chui",
         "offsetgroup": "Chui",
         "orientation": "v",
         "showlegend": true,
         "textposition": "auto",
         "type": "bar",
         "x": [
          "Autumn",
          "Spring",
          "Summer",
          "Winter"
         ],
         "xaxis": "x",
         "y": [
          243.2169486253873,
          225.49739629120882,
          212.01652761727442,
          256.2507183474235
         ],
         "yaxis": "y"
        },
        {
         "alignmentgroup": "True",
         "hovertemplate": "city=City Of Isabela<br>Season=%{x}<br>co=%{y}<extra></extra>",
         "legendgroup": "City Of Isabela",
         "marker": {
          "color": "#FF6692",
          "pattern": {
           "shape": ""
          }
         },
         "name": "City Of Isabela",
         "offsetgroup": "City Of Isabela",
         "orientation": "v",
         "showlegend": true,
         "textposition": "auto",
         "type": "bar",
         "x": [
          "Autumn",
          "Spring",
          "Summer",
          "Winter"
         ],
         "xaxis": "x",
         "y": [
          270.9198645885365,
          267.31982185179004,
          246.32129901811155,
          247.52253072874632
         ],
         "yaxis": "y"
        },
        {
         "alignmentgroup": "True",
         "hovertemplate": "city=City Of Paranaque<br>Season=%{x}<br>co=%{y}<extra></extra>",
         "legendgroup": "City Of Paranaque",
         "marker": {
          "color": "#B6E880",
          "pattern": {
           "shape": ""
          }
         },
         "name": "City Of Paranaque",
         "offsetgroup": "City Of Paranaque",
         "orientation": "v",
         "showlegend": true,
         "textposition": "auto",
         "type": "bar",
         "x": [
          "Autumn",
          "Spring",
          "Summer",
          "Winter"
         ],
         "xaxis": "x",
         "y": [
          653.926108656968,
          512.9061812244611,
          741.4872058913309,
          417.09188336910273
         ],
         "yaxis": "y"
        },
        {
         "alignmentgroup": "True",
         "hovertemplate": "city=Ciudad Lazaro Cardenas<br>Season=%{x}<br>co=%{y}<extra></extra>",
         "legendgroup": "Ciudad Lazaro Cardenas",
         "marker": {
          "color": "#FF97FF",
          "pattern": {
           "shape": ""
          }
         },
         "name": "Ciudad Lazaro Cardenas",
         "offsetgroup": "Ciudad Lazaro Cardenas",
         "orientation": "v",
         "showlegend": true,
         "textposition": "auto",
         "type": "bar",
         "x": [
          "Autumn",
          "Spring",
          "Summer",
          "Winter"
         ],
         "xaxis": "x",
         "y": [
          547.7483608058608,
          483.12921145810924,
          525.4880015599839,
          515.7678657030352
         ],
         "yaxis": "y"
        },
        {
         "alignmentgroup": "True",
         "hovertemplate": "city=Coari<br>Season=%{x}<br>co=%{y}<extra></extra>",
         "legendgroup": "Coari",
         "marker": {
          "color": "#FECB52",
          "pattern": {
           "shape": ""
          }
         },
         "name": "Coari",
         "offsetgroup": "Coari",
         "orientation": "v",
         "showlegend": true,
         "textposition": "auto",
         "type": "bar",
         "x": [
          "Autumn",
          "Spring",
          "Summer",
          "Winter"
         ],
         "xaxis": "x",
         "y": [
          197.96318484963385,
          285.72325869963373,
          195.36475460950302,
          225.18067154790663
         ],
         "yaxis": "y"
        },
        {
         "alignmentgroup": "True",
         "hovertemplate": "city=Cobourg<br>Season=%{x}<br>co=%{y}<extra></extra>",
         "legendgroup": "Cobourg",
         "marker": {
          "color": "#636efa",
          "pattern": {
           "shape": ""
          }
         },
         "name": "Cobourg",
         "offsetgroup": "Cobourg",
         "orientation": "v",
         "showlegend": true,
         "textposition": "auto",
         "type": "bar",
         "x": [
          "Autumn",
          "Spring",
          "Summer",
          "Winter"
         ],
         "xaxis": "x",
         "y": [
          257.6489148351648,
          269.27637375569657,
          250.0121326489533,
          289.60201983133396
         ],
         "yaxis": "y"
        },
        {
         "alignmentgroup": "True",
         "hovertemplate": "city=College Station<br>Season=%{x}<br>co=%{y}<extra></extra>",
         "legendgroup": "College Station",
         "marker": {
          "color": "#EF553B",
          "pattern": {
           "shape": ""
          }
         },
         "name": "College Station",
         "offsetgroup": "College Station",
         "orientation": "v",
         "showlegend": true,
         "textposition": "auto",
         "type": "bar",
         "x": [
          "Autumn",
          "Spring",
          "Summer",
          "Winter"
         ],
         "xaxis": "x",
         "y": [
          233.76946886446888,
          240.5638802804203,
          221.95337505032205,
          246.22295384994007
         ],
         "yaxis": "y"
        },
        {
         "alignmentgroup": "True",
         "hovertemplate": "city=Colonia Del Sol<br>Season=%{x}<br>co=%{y}<extra></extra>",
         "legendgroup": "Colonia Del Sol",
         "marker": {
          "color": "#00cc96",
          "pattern": {
           "shape": ""
          }
         },
         "name": "Colonia Del Sol",
         "offsetgroup": "Colonia Del Sol",
         "orientation": "v",
         "showlegend": true,
         "textposition": "auto",
         "type": "bar",
         "x": [
          "Autumn",
          "Spring",
          "Summer",
          "Winter"
         ],
         "xaxis": "x",
         "y": [
          210.5459203296703,
          213.1327771681123,
          192.4686868961353,
          248.6506741904517
         ],
         "yaxis": "y"
        },
        {
         "alignmentgroup": "True",
         "hovertemplate": "city=Conception Bay South<br>Season=%{x}<br>co=%{y}<extra></extra>",
         "legendgroup": "Conception Bay South",
         "marker": {
          "color": "#ab63fa",
          "pattern": {
           "shape": ""
          }
         },
         "name": "Conception Bay South",
         "offsetgroup": "Conception Bay South",
         "orientation": "v",
         "showlegend": true,
         "textposition": "auto",
         "type": "bar",
         "x": [
          "Autumn",
          "Spring",
          "Summer",
          "Winter"
         ],
         "xaxis": "x",
         "y": [
          221.62203523097276,
          237.44281398475428,
          217.24241082930757,
          229.39722394954387
         ],
         "yaxis": "y"
        },
        {
         "alignmentgroup": "True",
         "hovertemplate": "city=Coquimbo<br>Season=%{x}<br>co=%{y}<extra></extra>",
         "legendgroup": "Coquimbo",
         "marker": {
          "color": "#FFA15A",
          "pattern": {
           "shape": ""
          }
         },
         "name": "Coquimbo",
         "offsetgroup": "Coquimbo",
         "orientation": "v",
         "showlegend": true,
         "textposition": "auto",
         "type": "bar",
         "x": [
          "Autumn",
          "Spring",
          "Summer",
          "Winter"
         ],
         "xaxis": "x",
         "y": [
          326.20265824019924,
          242.9491883140008,
          218.91692094216987,
          414.24051892109503
         ],
         "yaxis": "y"
        },
        {
         "alignmentgroup": "True",
         "hovertemplate": "city=Corner Brook<br>Season=%{x}<br>co=%{y}<extra></extra>",
         "legendgroup": "Corner Brook",
         "marker": {
          "color": "#19d3f3",
          "pattern": {
           "shape": ""
          }
         },
         "name": "Corner Brook",
         "offsetgroup": "Corner Brook",
         "orientation": "v",
         "showlegend": true,
         "textposition": "auto",
         "type": "bar",
         "x": [
          "Autumn",
          "Spring",
          "Summer",
          "Winter"
         ],
         "xaxis": "x",
         "y": [
          207.50730601343102,
          224.04227636683257,
          191.42847800925927,
          228.38322279621275
         ],
         "yaxis": "y"
        },
        {
         "alignmentgroup": "True",
         "hovertemplate": "city=Cruz Alta<br>Season=%{x}<br>co=%{y}<extra></extra>",
         "legendgroup": "Cruz Alta",
         "marker": {
          "color": "#FF6692",
          "pattern": {
           "shape": ""
          }
         },
         "name": "Cruz Alta",
         "offsetgroup": "Cruz Alta",
         "orientation": "v",
         "showlegend": true,
         "textposition": "auto",
         "type": "bar",
         "x": [
          "Autumn",
          "Spring",
          "Summer",
          "Winter"
         ],
         "xaxis": "x",
         "y": [
          380.5200526605445,
          356.304871464184,
          337.34387196725123,
          384.20652974033817
         ],
         "yaxis": "y"
        },
        {
         "alignmentgroup": "True",
         "hovertemplate": "city=Darlowo<br>Season=%{x}<br>co=%{y}<extra></extra>",
         "legendgroup": "Darlowo",
         "marker": {
          "color": "#B6E880",
          "pattern": {
           "shape": ""
          }
         },
         "name": "Darlowo",
         "offsetgroup": "Darlowo",
         "orientation": "v",
         "showlegend": true,
         "textposition": "auto",
         "type": "bar",
         "x": [
          "Autumn",
          "Spring",
          "Summer",
          "Winter"
         ],
         "xaxis": "x",
         "y": [
          232.8175677810018,
          238.71976146223582,
          187.06733212560385,
          270.06826333859175
         ],
         "yaxis": "y"
        },
        {
         "alignmentgroup": "True",
         "hovertemplate": "city=Diapaga<br>Season=%{x}<br>co=%{y}<extra></extra>",
         "legendgroup": "Diapaga",
         "marker": {
          "color": "#FF97FF",
          "pattern": {
           "shape": ""
          }
         },
         "name": "Diapaga",
         "offsetgroup": "Diapaga",
         "orientation": "v",
         "showlegend": true,
         "textposition": "auto",
         "type": "bar",
         "x": [
          "Autumn",
          "Spring",
          "Summer",
          "Winter"
         ],
         "xaxis": "x",
         "y": [
          329.95338746438745,
          328.0236924157413,
          360.4044306561997,
          250.70059544827816
         ],
         "yaxis": "y"
        },
        {
         "alignmentgroup": "True",
         "hovertemplate": "city=Dillingen<br>Season=%{x}<br>co=%{y}<extra></extra>",
         "legendgroup": "Dillingen",
         "marker": {
          "color": "#FECB52",
          "pattern": {
           "shape": ""
          }
         },
         "name": "Dillingen",
         "offsetgroup": "Dillingen",
         "orientation": "v",
         "showlegend": true,
         "textposition": "auto",
         "type": "bar",
         "x": [
          "Autumn",
          "Spring",
          "Summer",
          "Winter"
         ],
         "xaxis": "x",
         "y": [
          239.4589973556406,
          239.1033318479658,
          196.42116601247986,
          285.8937815121555
         ],
         "yaxis": "y"
        },
        {
         "alignmentgroup": "True",
         "hovertemplate": "city=Dubbo<br>Season=%{x}<br>co=%{y}<extra></extra>",
         "legendgroup": "Dubbo",
         "marker": {
          "color": "#636efa",
          "pattern": {
           "shape": ""
          }
         },
         "name": "Dubbo",
         "offsetgroup": "Dubbo",
         "orientation": "v",
         "showlegend": true,
         "textposition": "auto",
         "type": "bar",
         "x": [
          "Autumn",
          "Spring",
          "Summer",
          "Winter"
         ],
         "xaxis": "x",
         "y": [
          214.3564336950385,
          211.34111003220917,
          210.93697134403965,
          212.85345393264143
         ],
         "yaxis": "y"
        },
        {
         "alignmentgroup": "True",
         "hovertemplate": "city=Dudinka<br>Season=%{x}<br>co=%{y}<extra></extra>",
         "legendgroup": "Dudinka",
         "marker": {
          "color": "#EF553B",
          "pattern": {
           "shape": ""
          }
         },
         "name": "Dudinka",
         "offsetgroup": "Dudinka",
         "orientation": "v",
         "showlegend": true,
         "textposition": "auto",
         "type": "bar",
         "x": [
          "Autumn",
          "Spring",
          "Summer",
          "Winter"
         ],
         "xaxis": "x",
         "y": [
          216.76281680865952,
          242.87712387312249,
          181.8564374236874,
          251.10039258734437
         ],
         "yaxis": "y"
        },
        {
         "alignmentgroup": "True",
         "hovertemplate": "city=Dunedin<br>Season=%{x}<br>co=%{y}<extra></extra>",
         "legendgroup": "Dunedin",
         "marker": {
          "color": "#00cc96",
          "pattern": {
           "shape": ""
          }
         },
         "name": "Dunedin",
         "offsetgroup": "Dunedin",
         "orientation": "v",
         "showlegend": true,
         "textposition": "auto",
         "type": "bar",
         "x": [
          "Autumn",
          "Spring",
          "Summer",
          "Winter"
         ],
         "xaxis": "x",
         "y": [
          211.9249638946069,
          207.68234595385454,
          182.39674856158436,
          231.23109923178674
         ],
         "yaxis": "y"
        },
        {
         "alignmentgroup": "True",
         "hovertemplate": "city=East London<br>Season=%{x}<br>co=%{y}<extra></extra>",
         "legendgroup": "East London",
         "marker": {
          "color": "#ab63fa",
          "pattern": {
           "shape": ""
          }
         },
         "name": "East London",
         "offsetgroup": "East London",
         "orientation": "v",
         "showlegend": true,
         "textposition": "auto",
         "type": "bar",
         "x": [
          "Autumn",
          "Spring",
          "Summer",
          "Winter"
         ],
         "xaxis": "x",
         "y": [
          312.0405579348089,
          269.90952805387496,
          215.0691823310282,
          379.7597874396135
         ],
         "yaxis": "y"
        },
        {
         "alignmentgroup": "True",
         "hovertemplate": "city=Edinburgh Of The Seven Seas<br>Season=%{x}<br>co=%{y}<extra></extra>",
         "legendgroup": "Edinburgh Of The Seven Seas",
         "marker": {
          "color": "#FFA15A",
          "pattern": {
           "shape": ""
          }
         },
         "name": "Edinburgh Of The Seven Seas",
         "offsetgroup": "Edinburgh Of The Seven Seas",
         "orientation": "v",
         "showlegend": true,
         "textposition": "auto",
         "type": "bar",
         "x": [
          "Autumn",
          "Spring",
          "Summer",
          "Winter"
         ],
         "xaxis": "x",
         "y": [
          213.11552135361373,
          206.74885233516483,
          192.5228517201372,
          221.99887052133656
         ],
         "yaxis": "y"
        },
        {
         "alignmentgroup": "True",
         "hovertemplate": "city=Eisenstadt<br>Season=%{x}<br>co=%{y}<extra></extra>",
         "legendgroup": "Eisenstadt",
         "marker": {
          "color": "#19d3f3",
          "pattern": {
           "shape": ""
          }
         },
         "name": "Eisenstadt",
         "offsetgroup": "Eisenstadt",
         "orientation": "v",
         "showlegend": true,
         "textposition": "auto",
         "type": "bar",
         "x": [
          "Autumn",
          "Spring",
          "Summer",
          "Winter"
         ],
         "xaxis": "x",
         "y": [
          264.01150023665474,
          261.7565317668838,
          204.13192718397744,
          357.6053280993959
         ],
         "yaxis": "y"
        },
        {
         "alignmentgroup": "True",
         "hovertemplate": "city=El Calafate<br>Season=%{x}<br>co=%{y}<extra></extra>",
         "legendgroup": "El Calafate",
         "marker": {
          "color": "#FF6692",
          "pattern": {
           "shape": ""
          }
         },
         "name": "El Calafate",
         "offsetgroup": "El Calafate",
         "orientation": "v",
         "showlegend": true,
         "textposition": "auto",
         "type": "bar",
         "x": [
          "Autumn",
          "Spring",
          "Summer",
          "Winter"
         ],
         "xaxis": "x",
         "y": [
          233.20939114390447,
          220.20595527082207,
          186.43932806041653,
          262.40974381038643
         ],
         "yaxis": "y"
        },
        {
         "alignmentgroup": "True",
         "hovertemplate": "city=Espargos<br>Season=%{x}<br>co=%{y}<extra></extra>",
         "legendgroup": "Espargos",
         "marker": {
          "color": "#B6E880",
          "pattern": {
           "shape": ""
          }
         },
         "name": "Espargos",
         "offsetgroup": "Espargos",
         "orientation": "v",
         "showlegend": true,
         "textposition": "auto",
         "type": "bar",
         "x": [
          "Autumn",
          "Spring",
          "Summer",
          "Winter"
         ],
         "xaxis": "x",
         "y": [
          186.94847440984938,
          193.74129218653403,
          182.22540967190017,
          200.87603136388097
         ],
         "yaxis": "y"
        },
        {
         "alignmentgroup": "True",
         "hovertemplate": "city=Fabens<br>Season=%{x}<br>co=%{y}<extra></extra>",
         "legendgroup": "Fabens",
         "marker": {
          "color": "#FF97FF",
          "pattern": {
           "shape": ""
          }
         },
         "name": "Fabens",
         "offsetgroup": "Fabens",
         "orientation": "v",
         "showlegend": true,
         "textposition": "auto",
         "type": "bar",
         "x": [
          "Autumn",
          "Spring",
          "Summer",
          "Winter"
         ],
         "xaxis": "x",
         "y": [
          244.2686836080586,
          240.31799561729247,
          216.11529765499193,
          313.3712685572431
         ],
         "yaxis": "y"
        },
        {
         "alignmentgroup": "True",
         "hovertemplate": "city=Farafangana<br>Season=%{x}<br>co=%{y}<extra></extra>",
         "legendgroup": "Farafangana",
         "marker": {
          "color": "#FECB52",
          "pattern": {
           "shape": ""
          }
         },
         "name": "Farafangana",
         "offsetgroup": "Farafangana",
         "orientation": "v",
         "showlegend": true,
         "textposition": "auto",
         "type": "bar",
         "x": [
          "Autumn",
          "Spring",
          "Summer",
          "Winter"
         ],
         "xaxis": "x",
         "y": [
          226.254614774694,
          219.59045718092767,
          209.44225301211267,
          226.26094922504026
         ],
         "yaxis": "y"
        },
        {
         "alignmentgroup": "True",
         "hovertemplate": "city=Feodosiya<br>Season=%{x}<br>co=%{y}<extra></extra>",
         "legendgroup": "Feodosiya",
         "marker": {
          "color": "#636efa",
          "pattern": {
           "shape": ""
          }
         },
         "name": "Feodosiya",
         "offsetgroup": "Feodosiya",
         "orientation": "v",
         "showlegend": true,
         "textposition": "auto",
         "type": "bar",
         "x": [
          "Autumn",
          "Spring",
          "Summer",
          "Winter"
         ],
         "xaxis": "x",
         "y": [
          213.34899061612543,
          231.88196537272202,
          200.2567271537842,
          246.35790463273779
         ],
         "yaxis": "y"
        },
        {
         "alignmentgroup": "True",
         "hovertemplate": "city=Florence<br>Season=%{x}<br>co=%{y}<extra></extra>",
         "legendgroup": "Florence",
         "marker": {
          "color": "#EF553B",
          "pattern": {
           "shape": ""
          }
         },
         "name": "Florence",
         "offsetgroup": "Florence",
         "orientation": "v",
         "showlegend": true,
         "textposition": "auto",
         "type": "bar",
         "x": [
          "Autumn",
          "Spring",
          "Summer",
          "Winter"
         ],
         "xaxis": "x",
         "y": [
          547.8204237148618,
          448.5916291691665,
          284.5721270632045,
          790.1183970225866
         ],
         "yaxis": "y"
        },
        {
         "alignmentgroup": "True",
         "hovertemplate": "city=Floro<br>Season=%{x}<br>co=%{y}<extra></extra>",
         "legendgroup": "Floro",
         "marker": {
          "color": "#00cc96",
          "pattern": {
           "shape": ""
          }
         },
         "name": "Floro",
         "offsetgroup": "Floro",
         "orientation": "v",
         "showlegend": true,
         "textposition": "auto",
         "type": "bar",
         "x": [
          "Autumn",
          "Spring",
          "Summer",
          "Winter"
         ],
         "xaxis": "x",
         "y": [
          210.79878639852657,
          225.17105404858475,
          182.1501097020934,
          229.25992444496418
         ],
         "yaxis": "y"
        },
        {
         "alignmentgroup": "True",
         "hovertemplate": "city=Fonte Boa<br>Season=%{x}<br>co=%{y}<extra></extra>",
         "legendgroup": "Fonte Boa",
         "marker": {
          "color": "#ab63fa",
          "pattern": {
           "shape": ""
          }
         },
         "name": "Fonte Boa",
         "offsetgroup": "Fonte Boa",
         "orientation": "v",
         "showlegend": true,
         "textposition": "auto",
         "type": "bar",
         "x": [
          "Autumn",
          "Spring",
          "Summer",
          "Winter"
         ],
         "xaxis": "x",
         "y": [
          159.45465548984964,
          216.15758522727276,
          167.93943824213684,
          191.37079096540438
         ],
         "yaxis": "y"
        },
        {
         "alignmentgroup": "True",
         "hovertemplate": "city=Fort Bragg<br>Season=%{x}<br>co=%{y}<extra></extra>",
         "legendgroup": "Fort Bragg",
         "marker": {
          "color": "#FFA15A",
          "pattern": {
           "shape": ""
          }
         },
         "name": "Fort Bragg",
         "offsetgroup": "Fort Bragg",
         "orientation": "v",
         "showlegend": true,
         "textposition": "auto",
         "type": "bar",
         "x": [
          "Autumn",
          "Spring",
          "Summer",
          "Winter"
         ],
         "xaxis": "x",
         "y": [
          209.3969001831502,
          219.05171758067698,
          174.6359669887279,
          229.6448481141622
         ],
         "yaxis": "y"
        },
        {
         "alignmentgroup": "True",
         "hovertemplate": "city=Fort Saskatchewan<br>Season=%{x}<br>co=%{y}<extra></extra>",
         "legendgroup": "Fort Saskatchewan",
         "marker": {
          "color": "#19d3f3",
          "pattern": {
           "shape": ""
          }
         },
         "name": "Fort Saskatchewan",
         "offsetgroup": "Fort Saskatchewan",
         "orientation": "v",
         "showlegend": true,
         "textposition": "auto",
         "type": "bar",
         "x": [
          "Autumn",
          "Spring",
          "Summer",
          "Winter"
         ],
         "xaxis": "x",
         "y": [
          254.88272435897437,
          260.3909557998368,
          218.6114801731079,
          320.96026495661823
         ],
         "yaxis": "y"
        },
        {
         "alignmentgroup": "True",
         "hovertemplate": "city=Fort St. John<br>Season=%{x}<br>co=%{y}<extra></extra>",
         "legendgroup": "Fort St. John",
         "marker": {
          "color": "#FF6692",
          "pattern": {
           "shape": ""
          }
         },
         "name": "Fort St. John",
         "offsetgroup": "Fort St. John",
         "orientation": "v",
         "showlegend": true,
         "textposition": "auto",
         "type": "bar",
         "x": [
          "Autumn",
          "Spring",
          "Summer",
          "Winter"
         ],
         "xaxis": "x",
         "y": [
          234.10448946886447,
          242.94979348067235,
          215.49590589774556,
          254.35466332514002
         ],
         "yaxis": "y"
        },
        {
         "alignmentgroup": "True",
         "hovertemplate": "city=Fort Wayne<br>Season=%{x}<br>co=%{y}<extra></extra>",
         "legendgroup": "Fort Wayne",
         "marker": {
          "color": "#B6E880",
          "pattern": {
           "shape": ""
          }
         },
         "name": "Fort Wayne",
         "offsetgroup": "Fort Wayne",
         "orientation": "v",
         "showlegend": true,
         "textposition": "auto",
         "type": "bar",
         "x": [
          "Autumn",
          "Spring",
          "Summer",
          "Winter"
         ],
         "xaxis": "x",
         "y": [
          260.8052655677656,
          262.98867781528145,
          260.07357503019324,
          294.9186363292428
         ],
         "yaxis": "y"
        },
        {
         "alignmentgroup": "True",
         "hovertemplate": "city=Freeland<br>Season=%{x}<br>co=%{y}<extra></extra>",
         "legendgroup": "Freeland",
         "marker": {
          "color": "#FF97FF",
          "pattern": {
           "shape": ""
          }
         },
         "name": "Freeland",
         "offsetgroup": "Freeland",
         "orientation": "v",
         "showlegend": true,
         "textposition": "auto",
         "type": "bar",
         "x": [
          "Autumn",
          "Spring",
          "Summer",
          "Winter"
         ],
         "xaxis": "x",
         "y": [
          251.9252358058608,
          254.62130742966312,
          234.55241183574879,
          283.62504597274193
         ],
         "yaxis": "y"
        },
        {
         "alignmentgroup": "True",
         "hovertemplate": "city=Freeport<br>Season=%{x}<br>co=%{y}<extra></extra>",
         "legendgroup": "Freeport",
         "marker": {
          "color": "#FECB52",
          "pattern": {
           "shape": ""
          }
         },
         "name": "Freeport",
         "offsetgroup": "Freeport",
         "orientation": "v",
         "showlegend": true,
         "textposition": "auto",
         "type": "bar",
         "x": [
          "Autumn",
          "Spring",
          "Summer",
          "Winter"
         ],
         "xaxis": "x",
         "y": [
          345.2000385887261,
          351.5742521098246,
          346.2610437298712,
          399.70513468523
         ],
         "yaxis": "y"
        },
        {
         "alignmentgroup": "True",
         "hovertemplate": "city=Freetown<br>Season=%{x}<br>co=%{y}<extra></extra>",
         "legendgroup": "Freetown",
         "marker": {
          "color": "#636efa",
          "pattern": {
           "shape": ""
          }
         },
         "name": "Freetown",
         "offsetgroup": "Freetown",
         "orientation": "v",
         "showlegend": true,
         "textposition": "auto",
         "type": "bar",
         "x": [
          "Autumn",
          "Spring",
          "Summer",
          "Winter"
         ],
         "xaxis": "x",
         "y": [
          900.4812932183556,
          605.1642436579434,
          680.8743682568438,
          737.7980401739857
         ],
         "yaxis": "y"
        },
        {
         "alignmentgroup": "True",
         "hovertemplate": "city=Gaspe<br>Season=%{x}<br>co=%{y}<extra></extra>",
         "legendgroup": "Gaspe",
         "marker": {
          "color": "#EF553B",
          "pattern": {
           "shape": ""
          }
         },
         "name": "Gaspe",
         "offsetgroup": "Gaspe",
         "orientation": "v",
         "showlegend": true,
         "textposition": "auto",
         "type": "bar",
         "x": [
          "Autumn",
          "Spring",
          "Summer",
          "Winter"
         ],
         "xaxis": "x",
         "y": [
          213.86655972730972,
          231.13991673992496,
          207.39023827495976,
          235.44656327958762
         ],
         "yaxis": "y"
        },
        {
         "alignmentgroup": "True",
         "hovertemplate": "city=Georgetown<br>Season=%{x}<br>co=%{y}<extra></extra>",
         "legendgroup": "Georgetown",
         "marker": {
          "color": "#00cc96",
          "pattern": {
           "shape": ""
          }
         },
         "name": "Georgetown",
         "offsetgroup": "Georgetown",
         "orientation": "v",
         "showlegend": true,
         "textposition": "auto",
         "type": "bar",
         "x": [
          "Autumn",
          "Spring",
          "Summer",
          "Winter"
         ],
         "xaxis": "x",
         "y": [
          270.2736996845747,
          241.94351767665503,
          247.21361453301128,
          236.90363526686357
         ],
         "yaxis": "y"
        },
        {
         "alignmentgroup": "True",
         "hovertemplate": "city=Geraldton<br>Season=%{x}<br>co=%{y}<extra></extra>",
         "legendgroup": "Geraldton",
         "marker": {
          "color": "#ab63fa",
          "pattern": {
           "shape": ""
          }
         },
         "name": "Geraldton",
         "offsetgroup": "Geraldton",
         "orientation": "v",
         "showlegend": true,
         "textposition": "auto",
         "type": "bar",
         "x": [
          "Autumn",
          "Spring",
          "Summer",
          "Winter"
         ],
         "xaxis": "x",
         "y": [
          233.07821391945254,
          228.56960435397934,
          218.18111121811333,
          230.54487711131463
         ],
         "yaxis": "y"
        },
        {
         "alignmentgroup": "True",
         "hovertemplate": "city=Ghadamis<br>Season=%{x}<br>co=%{y}<extra></extra>",
         "legendgroup": "Ghadamis",
         "marker": {
          "color": "#FFA15A",
          "pattern": {
           "shape": ""
          }
         },
         "name": "Ghadamis",
         "offsetgroup": "Ghadamis",
         "orientation": "v",
         "showlegend": true,
         "textposition": "auto",
         "type": "bar",
         "x": [
          "Autumn",
          "Spring",
          "Summer",
          "Winter"
         ],
         "xaxis": "x",
         "y": [
          205.16734187862696,
          212.26322135353612,
          197.46658408816427,
          235.32858144092256
         ],
         "yaxis": "y"
        },
        {
         "alignmentgroup": "True",
         "hovertemplate": "city=Ghanzi<br>Season=%{x}<br>co=%{y}<extra></extra>",
         "legendgroup": "Ghanzi",
         "marker": {
          "color": "#19d3f3",
          "pattern": {
           "shape": ""
          }
         },
         "name": "Ghanzi",
         "offsetgroup": "Ghanzi",
         "orientation": "v",
         "showlegend": true,
         "textposition": "auto",
         "type": "bar",
         "x": [
          "Autumn",
          "Spring",
          "Summer",
          "Winter"
         ],
         "xaxis": "x",
         "y": [
          236.09578966207383,
          292.68667294316174,
          247.4810965473439,
          252.252438305153
         ],
         "yaxis": "y"
        },
        {
         "alignmentgroup": "True",
         "hovertemplate": "city=Gorontalo<br>Season=%{x}<br>co=%{y}<extra></extra>",
         "legendgroup": "Gorontalo",
         "marker": {
          "color": "#FF6692",
          "pattern": {
           "shape": ""
          }
         },
         "name": "Gorontalo",
         "offsetgroup": "Gorontalo",
         "orientation": "v",
         "showlegend": true,
         "textposition": "auto",
         "type": "bar",
         "x": [
          "Autumn",
          "Spring",
          "Summer",
          "Winter"
         ],
         "xaxis": "x",
         "y": [
          429.2943515859141,
          415.02219740234113,
          353.9366248982499,
          297.5289807350136
         ],
         "yaxis": "y"
        },
        {
         "alignmentgroup": "True",
         "hovertemplate": "city=Greymouth<br>Season=%{x}<br>co=%{y}<extra></extra>",
         "legendgroup": "Greymouth",
         "marker": {
          "color": "#B6E880",
          "pattern": {
           "shape": ""
          }
         },
         "name": "Greymouth",
         "offsetgroup": "Greymouth",
         "orientation": "v",
         "showlegend": true,
         "textposition": "auto",
         "type": "bar",
         "x": [
          "Autumn",
          "Spring",
          "Summer",
          "Winter"
         ],
         "xaxis": "x",
         "y": [
          202.60578167347649,
          199.78761028483012,
          178.37604600407835,
          216.43233765771265
         ],
         "yaxis": "y"
        },
        {
         "alignmentgroup": "True",
         "hovertemplate": "city=Groningen<br>Season=%{x}<br>co=%{y}<extra></extra>",
         "legendgroup": "Groningen",
         "marker": {
          "color": "#FF97FF",
          "pattern": {
           "shape": ""
          }
         },
         "name": "Groningen",
         "offsetgroup": "Groningen",
         "orientation": "v",
         "showlegend": true,
         "textposition": "auto",
         "type": "bar",
         "x": [
          "Autumn",
          "Spring",
          "Summer",
          "Winter"
         ],
         "xaxis": "x",
         "y": [
          230.5868593087624,
          231.51250140048157,
          189.0276531300322,
          263.9151062264595
         ],
         "yaxis": "y"
        },
        {
         "alignmentgroup": "True",
         "hovertemplate": "city=Grytviken<br>Season=%{x}<br>co=%{y}<extra></extra>",
         "legendgroup": "Grytviken",
         "marker": {
          "color": "#FECB52",
          "pattern": {
           "shape": ""
          }
         },
         "name": "Grytviken",
         "offsetgroup": "Grytviken",
         "orientation": "v",
         "showlegend": true,
         "textposition": "auto",
         "type": "bar",
         "x": [
          "Autumn",
          "Spring",
          "Summer",
          "Winter"
         ],
         "xaxis": "x",
         "y": [
          210.4255109404329,
          208.46206585775332,
          180.86885492714677,
          229.83439850040259
         ],
         "yaxis": "y"
        },
        {
         "alignmentgroup": "True",
         "hovertemplate": "city=Guangshui<br>Season=%{x}<br>co=%{y}<extra></extra>",
         "legendgroup": "Guangshui",
         "marker": {
          "color": "#636efa",
          "pattern": {
           "shape": ""
          }
         },
         "name": "Guangshui",
         "offsetgroup": "Guangshui",
         "orientation": "v",
         "showlegend": true,
         "textposition": "auto",
         "type": "bar",
         "x": [
          "Autumn",
          "Spring",
          "Summer",
          "Winter"
         ],
         "xaxis": "x",
         "y": [
          670.5513834082584,
          677.94634756908,
          468.56024435286935,
          1052.0742349149793
         ],
         "yaxis": "y"
        },
        {
         "alignmentgroup": "True",
         "hovertemplate": "city=Guerrero Negro<br>Season=%{x}<br>co=%{y}<extra></extra>",
         "legendgroup": "Guerrero Negro",
         "marker": {
          "color": "#EF553B",
          "pattern": {
           "shape": ""
          }
         },
         "name": "Guerrero Negro",
         "offsetgroup": "Guerrero Negro",
         "orientation": "v",
         "showlegend": true,
         "textposition": "auto",
         "type": "bar",
         "x": [
          "Autumn",
          "Spring",
          "Summer",
          "Winter"
         ],
         "xaxis": "x",
         "y": [
          203.97716804029304,
          215.7821835715415,
          166.86310144927535,
          228.02701850144913
         ],
         "yaxis": "y"
        },
        {
         "alignmentgroup": "True",
         "hovertemplate": "city=Hadibu<br>Season=%{x}<br>co=%{y}<extra></extra>",
         "legendgroup": "Hadibu",
         "marker": {
          "color": "#00cc96",
          "pattern": {
           "shape": ""
          }
         },
         "name": "Hadibu",
         "offsetgroup": "Hadibu",
         "orientation": "v",
         "showlegend": true,
         "textposition": "auto",
         "type": "bar",
         "x": [
          "Autumn",
          "Spring",
          "Summer",
          "Winter"
         ],
         "xaxis": "x",
         "y": [
          226.9410965345516,
          225.82954661679946,
          197.2072346866097,
          230.73911676541445
         ],
         "yaxis": "y"
        },
        {
         "alignmentgroup": "True",
         "hovertemplate": "city=Haiku-Pauwela<br>Season=%{x}<br>co=%{y}<extra></extra>",
         "legendgroup": "Haiku-Pauwela",
         "marker": {
          "color": "#ab63fa",
          "pattern": {
           "shape": ""
          }
         },
         "name": "Haiku-Pauwela",
         "offsetgroup": "Haiku-Pauwela",
         "orientation": "v",
         "showlegend": true,
         "textposition": "auto",
         "type": "bar",
         "x": [
          "Autumn",
          "Spring",
          "Summer",
          "Winter"
         ],
         "xaxis": "x",
         "y": [
          173.20104166666667,
          198.67989719649105,
          156.74867320853463,
          202.3137927359246
         ],
         "yaxis": "y"
        },
        {
         "alignmentgroup": "True",
         "hovertemplate": "city=Hamilton<br>Season=%{x}<br>co=%{y}<extra></extra>",
         "legendgroup": "Hamilton",
         "marker": {
          "color": "#FFA15A",
          "pattern": {
           "shape": ""
          }
         },
         "name": "Hamilton",
         "offsetgroup": "Hamilton",
         "orientation": "v",
         "showlegend": true,
         "textposition": "auto",
         "type": "bar",
         "x": [
          "Autumn",
          "Spring",
          "Summer",
          "Winter"
         ],
         "xaxis": "x",
         "y": [
          307.6679212454212,
          328.15924774163113,
          292.747997534219,
          355.5643029989667
         ],
         "yaxis": "y"
        },
        {
         "alignmentgroup": "True",
         "hovertemplate": "city=Hammerfest<br>Season=%{x}<br>co=%{y}<extra></extra>",
         "legendgroup": "Hammerfest",
         "marker": {
          "color": "#19d3f3",
          "pattern": {
           "shape": ""
          }
         },
         "name": "Hammerfest",
         "offsetgroup": "Hammerfest",
         "orientation": "v",
         "showlegend": true,
         "textposition": "auto",
         "type": "bar",
         "x": [
          "Autumn",
          "Spring",
          "Summer",
          "Winter"
         ],
         "xaxis": "x",
         "y": [
          211.15177866609048,
          229.92320733407783,
          184.1174026268116,
          234.6670906706288
         ],
         "yaxis": "y"
        },
        {
         "alignmentgroup": "True",
         "hovertemplate": "city=Harstad<br>Season=%{x}<br>co=%{y}<extra></extra>",
         "legendgroup": "Harstad",
         "marker": {
          "color": "#FF6692",
          "pattern": {
           "shape": ""
          }
         },
         "name": "Harstad",
         "offsetgroup": "Harstad",
         "orientation": "v",
         "showlegend": true,
         "textposition": "auto",
         "type": "bar",
         "x": [
          "Autumn",
          "Spring",
          "Summer",
          "Winter"
         ],
         "xaxis": "x",
         "y": [
          211.2510949397045,
          227.60410363643666,
          180.83506743156198,
          230.61788181451314
         ],
         "yaxis": "y"
        },
        {
         "alignmentgroup": "True",
         "hovertemplate": "city=Hawaiian Paradise Park<br>Season=%{x}<br>co=%{y}<extra></extra>",
         "legendgroup": "Hawaiian Paradise Park",
         "marker": {
          "color": "#B6E880",
          "pattern": {
           "shape": ""
          }
         },
         "name": "Hawaiian Paradise Park",
         "offsetgroup": "Hawaiian Paradise Park",
         "orientation": "v",
         "showlegend": true,
         "textposition": "auto",
         "type": "bar",
         "x": [
          "Autumn",
          "Spring",
          "Summer",
          "Winter"
         ],
         "xaxis": "x",
         "y": [
          178.04115384615386,
          201.51824629938537,
          160.64988476247987,
          208.1180419739159
         ],
         "yaxis": "y"
        },
        {
         "alignmentgroup": "True",
         "hovertemplate": "city=Hermanus<br>Season=%{x}<br>co=%{y}<extra></extra>",
         "legendgroup": "Hermanus",
         "marker": {
          "color": "#FF97FF",
          "pattern": {
           "shape": ""
          }
         },
         "name": "Hermanus",
         "offsetgroup": "Hermanus",
         "orientation": "v",
         "showlegend": true,
         "textposition": "auto",
         "type": "bar",
         "x": [
          "Autumn",
          "Spring",
          "Summer",
          "Winter"
         ],
         "xaxis": "x",
         "y": [
          246.27314242890432,
          226.30166468596946,
          191.60179079689144,
          267.0947883957327
         ],
         "yaxis": "y"
        },
        {
         "alignmentgroup": "True",
         "hovertemplate": "city=Highland Park<br>Season=%{x}<br>co=%{y}<extra></extra>",
         "legendgroup": "Highland Park",
         "marker": {
          "color": "#FECB52",
          "pattern": {
           "shape": ""
          }
         },
         "name": "Highland Park",
         "offsetgroup": "Highland Park",
         "orientation": "v",
         "showlegend": true,
         "textposition": "auto",
         "type": "bar",
         "x": [
          "Autumn",
          "Spring",
          "Summer",
          "Winter"
         ],
         "xaxis": "x",
         "y": [
          336.2348923738299,
          329.38663971707473,
          304.5545019625604,
          424.4868928349781
         ],
         "yaxis": "y"
        },
        {
         "alignmentgroup": "True",
         "hovertemplate": "city=Hikone<br>Season=%{x}<br>co=%{y}<extra></extra>",
         "legendgroup": "Hikone",
         "marker": {
          "color": "#636efa",
          "pattern": {
           "shape": ""
          }
         },
         "name": "Hikone",
         "offsetgroup": "Hikone",
         "orientation": "v",
         "showlegend": true,
         "textposition": "auto",
         "type": "bar",
         "x": [
          "Autumn",
          "Spring",
          "Summer",
          "Winter"
         ],
         "xaxis": "x",
         "y": [
          248.74905103995624,
          278.7197245700045,
          232.48823112535612,
          274.4551449880157
         ],
         "yaxis": "y"
        },
        {
         "alignmentgroup": "True",
         "hovertemplate": "city=Hinton<br>Season=%{x}<br>co=%{y}<extra></extra>",
         "legendgroup": "Hinton",
         "marker": {
          "color": "#EF553B",
          "pattern": {
           "shape": ""
          }
         },
         "name": "Hinton",
         "offsetgroup": "Hinton",
         "orientation": "v",
         "showlegend": true,
         "textposition": "auto",
         "type": "bar",
         "x": [
          "Autumn",
          "Spring",
          "Summer",
          "Winter"
         ],
         "xaxis": "x",
         "y": [
          192.69897664835165,
          223.0308763752819,
          173.06058600040257,
          228.43260817542864
         ],
         "yaxis": "y"
        },
        {
         "alignmentgroup": "True",
         "hovertemplate": "city=Hithadhoo<br>Season=%{x}<br>co=%{y}<extra></extra>",
         "legendgroup": "Hithadhoo",
         "marker": {
          "color": "#00cc96",
          "pattern": {
           "shape": ""
          }
         },
         "name": "Hithadhoo",
         "offsetgroup": "Hithadhoo",
         "orientation": "v",
         "showlegend": true,
         "textposition": "auto",
         "type": "bar",
         "x": [
          "Autumn",
          "Spring",
          "Summer",
          "Winter"
         ],
         "xaxis": "x",
         "y": [
          234.90141729048938,
          236.58831982857964,
          274.5986061431506,
          198.2274393060643
         ],
         "yaxis": "y"
        },
        {
         "alignmentgroup": "True",
         "hovertemplate": "city=Hoa Binh<br>Season=%{x}<br>co=%{y}<extra></extra>",
         "legendgroup": "Hoa Binh",
         "marker": {
          "color": "#ab63fa",
          "pattern": {
           "shape": ""
          }
         },
         "name": "Hoa Binh",
         "offsetgroup": "Hoa Binh",
         "orientation": "v",
         "showlegend": true,
         "textposition": "auto",
         "type": "bar",
         "x": [
          "Autumn",
          "Spring",
          "Summer",
          "Winter"
         ],
         "xaxis": "x",
         "y": [
          742.2353265744672,
          695.0429308852298,
          710.0407591320716,
          806.6658227057195
         ],
         "yaxis": "y"
        },
        {
         "alignmentgroup": "True",
         "hovertemplate": "city=Hotan<br>Season=%{x}<br>co=%{y}<extra></extra>",
         "legendgroup": "Hotan",
         "marker": {
          "color": "#FFA15A",
          "pattern": {
           "shape": ""
          }
         },
         "name": "Hotan",
         "offsetgroup": "Hotan",
         "orientation": "v",
         "showlegend": true,
         "textposition": "auto",
         "type": "bar",
         "x": [
          "Autumn",
          "Spring",
          "Summer",
          "Winter"
         ],
         "xaxis": "x",
         "y": [
          248.10184431205496,
          219.32871118167182,
          178.23932809320308,
          338.2853159431788
         ],
         "yaxis": "y"
        },
        {
         "alignmentgroup": "True",
         "hovertemplate": "city=Howard Springs<br>Season=%{x}<br>co=%{y}<extra></extra>",
         "legendgroup": "Howard Springs",
         "marker": {
          "color": "#19d3f3",
          "pattern": {
           "shape": ""
          }
         },
         "name": "Howard Springs",
         "offsetgroup": "Howard Springs",
         "orientation": "v",
         "showlegend": true,
         "textposition": "auto",
         "type": "bar",
         "x": [
          "Autumn",
          "Spring",
          "Summer",
          "Winter"
         ],
         "xaxis": "x",
         "y": [
          247.12099394249014,
          243.87640252976195,
          296.45905350034855,
          217.77226355820108
         ],
         "yaxis": "y"
        },
        {
         "alignmentgroup": "True",
         "hovertemplate": "city=Huarmey<br>Season=%{x}<br>co=%{y}<extra></extra>",
         "legendgroup": "Huarmey",
         "marker": {
          "color": "#FF6692",
          "pattern": {
           "shape": ""
          }
         },
         "name": "Huarmey",
         "offsetgroup": "Huarmey",
         "orientation": "v",
         "showlegend": true,
         "textposition": "auto",
         "type": "bar",
         "x": [
          "Autumn",
          "Spring",
          "Summer",
          "Winter"
         ],
         "xaxis": "x",
         "y": [
          248.12707001911545,
          211.88893315018316,
          228.9521359096412,
          229.60688199476652
         ],
         "yaxis": "y"
        },
        {
         "alignmentgroup": "True",
         "hovertemplate": "city=Ilulissat<br>Season=%{x}<br>co=%{y}<extra></extra>",
         "legendgroup": "Ilulissat",
         "marker": {
          "color": "#B6E880",
          "pattern": {
           "shape": ""
          }
         },
         "name": "Ilulissat",
         "offsetgroup": "Ilulissat",
         "orientation": "v",
         "showlegend": true,
         "textposition": "auto",
         "type": "bar",
         "x": [
          "Autumn",
          "Spring",
          "Summer",
          "Winter"
         ],
         "xaxis": "x",
         "y": [
          221.06202464896216,
          234.60640057127958,
          199.9435041767311,
          231.90775012152395
         ],
         "yaxis": "y"
        },
        {
         "alignmentgroup": "True",
         "hovertemplate": "city=Imbituba<br>Season=%{x}<br>co=%{y}<extra></extra>",
         "legendgroup": "Imbituba",
         "marker": {
          "color": "#FF97FF",
          "pattern": {
           "shape": ""
          }
         },
         "name": "Imbituba",
         "offsetgroup": "Imbituba",
         "orientation": "v",
         "showlegend": true,
         "textposition": "auto",
         "type": "bar",
         "x": [
          "Autumn",
          "Spring",
          "Summer",
          "Winter"
         ],
         "xaxis": "x",
         "y": [
          256.7245814309579,
          253.0924331501831,
          246.14235984619197,
          272.831576489533
         ],
         "yaxis": "y"
        },
        {
         "alignmentgroup": "True",
         "hovertemplate": "city=Invercargill<br>Season=%{x}<br>co=%{y}<extra></extra>",
         "legendgroup": "Invercargill",
         "marker": {
          "color": "#FECB52",
          "pattern": {
           "shape": ""
          }
         },
         "name": "Invercargill",
         "offsetgroup": "Invercargill",
         "orientation": "v",
         "showlegend": true,
         "textposition": "auto",
         "type": "bar",
         "x": [
          "Autumn",
          "Spring",
          "Summer",
          "Winter"
         ],
         "xaxis": "x",
         "y": [
          209.18874986870955,
          205.9373580059787,
          180.3069581827659,
          228.43426816239318
         ],
         "yaxis": "y"
        },
        {
         "alignmentgroup": "True",
         "hovertemplate": "city=Iqaluit<br>Season=%{x}<br>co=%{y}<extra></extra>",
         "legendgroup": "Iqaluit",
         "marker": {
          "color": "#636efa",
          "pattern": {
           "shape": ""
          }
         },
         "name": "Iqaluit",
         "offsetgroup": "Iqaluit",
         "orientation": "v",
         "showlegend": true,
         "textposition": "auto",
         "type": "bar",
         "x": [
          "Autumn",
          "Spring",
          "Summer",
          "Winter"
         ],
         "xaxis": "x",
         "y": [
          219.45758305352052,
          236.78188770161123,
          193.62495360305957,
          236.3347168186098
         ],
         "yaxis": "y"
        },
        {
         "alignmentgroup": "True",
         "hovertemplate": "city=Iringa<br>Season=%{x}<br>co=%{y}<extra></extra>",
         "legendgroup": "Iringa",
         "marker": {
          "color": "#EF553B",
          "pattern": {
           "shape": ""
          }
         },
         "name": "Iringa",
         "offsetgroup": "Iringa",
         "orientation": "v",
         "showlegend": true,
         "textposition": "auto",
         "type": "bar",
         "x": [
          "Autumn",
          "Spring",
          "Summer",
          "Winter"
         ],
         "xaxis": "x",
         "y": [
          219.0978656483547,
          228.16599968617527,
          310.8913432486181,
          200.44649189814814
         ],
         "yaxis": "y"
        },
        {
         "alignmentgroup": "True",
         "hovertemplate": "city=Ironwood<br>Season=%{x}<br>co=%{y}<extra></extra>",
         "legendgroup": "Ironwood",
         "marker": {
          "color": "#00cc96",
          "pattern": {
           "shape": ""
          }
         },
         "name": "Ironwood",
         "offsetgroup": "Ironwood",
         "orientation": "v",
         "showlegend": true,
         "textposition": "auto",
         "type": "bar",
         "x": [
          "Autumn",
          "Spring",
          "Summer",
          "Winter"
         ],
         "xaxis": "x",
         "y": [
          215.93461538461537,
          228.22485737625857,
          202.91716732085348,
          248.3263771415731
         ],
         "yaxis": "y"
        },
        {
         "alignmentgroup": "True",
         "hovertemplate": "city=Ishinari<br>Season=%{x}<br>co=%{y}<extra></extra>",
         "legendgroup": "Ishinari",
         "marker": {
          "color": "#ab63fa",
          "pattern": {
           "shape": ""
          }
         },
         "name": "Ishinari",
         "offsetgroup": "Ishinari",
         "orientation": "v",
         "showlegend": true,
         "textposition": "auto",
         "type": "bar",
         "x": [
          "Autumn",
          "Spring",
          "Summer",
          "Winter"
         ],
         "xaxis": "x",
         "y": [
          276.82201894459706,
          306.59665119640357,
          246.1044393060643,
          322.4471766430956
         ],
         "yaxis": "y"
        },
        {
         "alignmentgroup": "True",
         "hovertemplate": "city=Itoman<br>Season=%{x}<br>co=%{y}<extra></extra>",
         "legendgroup": "Itoman",
         "marker": {
          "color": "#FFA15A",
          "pattern": {
           "shape": ""
          }
         },
         "name": "Itoman",
         "offsetgroup": "Itoman",
         "orientation": "v",
         "showlegend": true,
         "textposition": "auto",
         "type": "bar",
         "x": [
          "Autumn",
          "Spring",
          "Summer",
          "Winter"
         ],
         "xaxis": "x",
         "y": [
          216.76575552052114,
          242.13567091835355,
          209.89313326719576,
          262.83615248275737
         ],
         "yaxis": "y"
        },
        {
         "alignmentgroup": "True",
         "hovertemplate": "city=Jalalpur Jattan<br>Season=%{x}<br>co=%{y}<extra></extra>",
         "legendgroup": "Jalalpur Jattan",
         "marker": {
          "color": "#19d3f3",
          "pattern": {
           "shape": ""
          }
         },
         "name": "Jalalpur Jattan",
         "offsetgroup": "Jalalpur Jattan",
         "orientation": "v",
         "showlegend": true,
         "textposition": "auto",
         "type": "bar",
         "x": [
          "Autumn",
          "Spring",
          "Summer",
          "Winter"
         ],
         "xaxis": "x",
         "y": [
          782.4093228587891,
          533.0974438442441,
          555.3299283933659,
          1180.3865599969122
         ],
         "yaxis": "y"
        },
        {
         "alignmentgroup": "True",
         "hovertemplate": "city=Jamestown<br>Season=%{x}<br>co=%{y}<extra></extra>",
         "legendgroup": "Jamestown",
         "marker": {
          "color": "#FF6692",
          "pattern": {
           "shape": ""
          }
         },
         "name": "Jamestown",
         "offsetgroup": "Jamestown",
         "orientation": "v",
         "showlegend": true,
         "textposition": "auto",
         "type": "bar",
         "x": [
          "Autumn",
          "Spring",
          "Summer",
          "Winter"
         ],
         "xaxis": "x",
         "y": [
          226.51392628205127,
          236.4573443079062,
          223.54401655595808,
          262.10291158023944
         ],
         "yaxis": "y"
        },
        {
         "alignmentgroup": "True",
         "hovertemplate": "city=Jayapura<br>Season=%{x}<br>co=%{y}<extra></extra>",
         "legendgroup": "Jayapura",
         "marker": {
          "color": "#B6E880",
          "pattern": {
           "shape": ""
          }
         },
         "name": "Jayapura",
         "offsetgroup": "Jayapura",
         "orientation": "v",
         "showlegend": true,
         "textposition": "auto",
         "type": "bar",
         "x": [
          "Autumn",
          "Spring",
          "Summer",
          "Winter"
         ],
         "xaxis": "x",
         "y": [
          320.6707384912333,
          300.0152225432613,
          375.9859153696468,
          268.58064473951976
         ],
         "yaxis": "y"
        },
        {
         "alignmentgroup": "True",
         "hovertemplate": "city=Jeddah<br>Season=%{x}<br>co=%{y}<extra></extra>",
         "legendgroup": "Jeddah",
         "marker": {
          "color": "#FF97FF",
          "pattern": {
           "shape": ""
          }
         },
         "name": "Jeddah",
         "offsetgroup": "Jeddah",
         "orientation": "v",
         "showlegend": true,
         "textposition": "auto",
         "type": "bar",
         "x": [
          "Autumn",
          "Spring",
          "Summer",
          "Winter"
         ],
         "xaxis": "x",
         "y": [
          334.6538070800922,
          315.87903919502736,
          301.2549040358293,
          314.55965850239687
         ],
         "yaxis": "y"
        },
        {
         "alignmentgroup": "True",
         "hovertemplate": "city=Jiayuguan<br>Season=%{x}<br>co=%{y}<extra></extra>",
         "legendgroup": "Jiayuguan",
         "marker": {
          "color": "#FECB52",
          "pattern": {
           "shape": ""
          }
         },
         "name": "Jiayuguan",
         "offsetgroup": "Jiayuguan",
         "orientation": "v",
         "showlegend": true,
         "textposition": "auto",
         "type": "bar",
         "x": [
          "Autumn",
          "Spring",
          "Summer",
          "Winter"
         ],
         "xaxis": "x",
         "y": [
          303.8162748744701,
          250.05896326261413,
          225.2800312118437,
          416.81670974270554
         ],
         "yaxis": "y"
        },
        {
         "alignmentgroup": "True",
         "hovertemplate": "city=Jumla<br>Season=%{x}<br>co=%{y}<extra></extra>",
         "legendgroup": "Jumla",
         "marker": {
          "color": "#636efa",
          "pattern": {
           "shape": ""
          }
         },
         "name": "Jumla",
         "offsetgroup": "Jumla",
         "orientation": "v",
         "showlegend": true,
         "textposition": "auto",
         "type": "bar",
         "x": [
          "Autumn",
          "Spring",
          "Summer",
          "Winter"
         ],
         "xaxis": "x",
         "y": [
          232.34367036053834,
          259.937102885378,
          252.7028016381767,
          231.9063717608898
         ],
         "yaxis": "y"
        },
        {
         "alignmentgroup": "True",
         "hovertemplate": "city=Kamina<br>Season=%{x}<br>co=%{y}<extra></extra>",
         "legendgroup": "Kamina",
         "marker": {
          "color": "#EF553B",
          "pattern": {
           "shape": ""
          }
         },
         "name": "Kamina",
         "offsetgroup": "Kamina",
         "orientation": "v",
         "showlegend": true,
         "textposition": "auto",
         "type": "bar",
         "x": [
          "Autumn",
          "Spring",
          "Summer",
          "Winter"
         ],
         "xaxis": "x",
         "y": [
          242.4394861191237,
          320.5798771967733,
          348.70071087310754,
          370.5674130938003
         ],
         "yaxis": "y"
        },
        {
         "alignmentgroup": "True",
         "hovertemplate": "city=Kamloops<br>Season=%{x}<br>co=%{y}<extra></extra>",
         "legendgroup": "Kamloops",
         "marker": {
          "color": "#00cc96",
          "pattern": {
           "shape": ""
          }
         },
         "name": "Kamloops",
         "offsetgroup": "Kamloops",
         "orientation": "v",
         "showlegend": true,
         "textposition": "auto",
         "type": "bar",
         "x": [
          "Autumn",
          "Spring",
          "Summer",
          "Winter"
         ],
         "xaxis": "x",
         "y": [
          258.9263438644689,
          237.95734219647457,
          199.98902264492753,
          302.93018690613764
         ],
         "yaxis": "y"
        },
        {
         "alignmentgroup": "True",
         "hovertemplate": "city=Kapuskasing<br>Season=%{x}<br>co=%{y}<extra></extra>",
         "legendgroup": "Kapuskasing",
         "marker": {
          "color": "#ab63fa",
          "pattern": {
           "shape": ""
          }
         },
         "name": "Kapuskasing",
         "offsetgroup": "Kapuskasing",
         "orientation": "v",
         "showlegend": true,
         "textposition": "auto",
         "type": "bar",
         "x": [
          "Autumn",
          "Spring",
          "Summer",
          "Winter"
         ],
         "xaxis": "x",
         "y": [
          207.98632097069594,
          222.4168095587976,
          189.80976157407406,
          239.64868545090735
         ],
         "yaxis": "y"
        },
        {
         "alignmentgroup": "True",
         "hovertemplate": "city=Karabanovo<br>Season=%{x}<br>co=%{y}<extra></extra>",
         "legendgroup": "Karabanovo",
         "marker": {
          "color": "#FFA15A",
          "pattern": {
           "shape": ""
          }
         },
         "name": "Karabanovo",
         "offsetgroup": "Karabanovo",
         "orientation": "v",
         "showlegend": true,
         "textposition": "auto",
         "type": "bar",
         "x": [
          "Autumn",
          "Spring",
          "Summer",
          "Winter"
         ],
         "xaxis": "x",
         "y": [
          224.57871607091414,
          244.23113268676647,
          181.09086312399356,
          270.9022467448395
         ],
         "yaxis": "y"
        },
        {
         "alignmentgroup": "True",
         "hovertemplate": "city=Karbala'<br>Season=%{x}<br>co=%{y}<extra></extra>",
         "legendgroup": "Karbala'",
         "marker": {
          "color": "#19d3f3",
          "pattern": {
           "shape": ""
          }
         },
         "name": "Karbala'",
         "offsetgroup": "Karbala'",
         "orientation": "v",
         "showlegend": true,
         "textposition": "auto",
         "type": "bar",
         "x": [
          "Autumn",
          "Spring",
          "Summer",
          "Winter"
         ],
         "xaxis": "x",
         "y": [
          332.6761725212989,
          290.0252832699664,
          232.9283248792271,
          373.3554074033311
         ],
         "yaxis": "y"
        },
        {
         "alignmentgroup": "True",
         "hovertemplate": "city=Karratha<br>Season=%{x}<br>co=%{y}<extra></extra>",
         "legendgroup": "Karratha",
         "marker": {
          "color": "#FF6692",
          "pattern": {
           "shape": ""
          }
         },
         "name": "Karratha",
         "offsetgroup": "Karratha",
         "orientation": "v",
         "showlegend": true,
         "textposition": "auto",
         "type": "bar",
         "x": [
          "Autumn",
          "Spring",
          "Summer",
          "Winter"
         ],
         "xaxis": "x",
         "y": [
          244.68903647866648,
          257.07327654116716,
          246.30983974123805,
          212.91695098188848
         ],
         "yaxis": "y"
        },
        {
         "alignmentgroup": "True",
         "hovertemplate": "city=Karukh<br>Season=%{x}<br>co=%{y}<extra></extra>",
         "legendgroup": "Karukh",
         "marker": {
          "color": "#B6E880",
          "pattern": {
           "shape": ""
          }
         },
         "name": "Karukh",
         "offsetgroup": "Karukh",
         "orientation": "v",
         "showlegend": true,
         "textposition": "auto",
         "type": "bar",
         "x": [
          "Autumn",
          "Spring",
          "Summer",
          "Winter"
         ],
         "xaxis": "x",
         "y": [
          377.82423573383545,
          307.0436935130545,
          201.77829326923077,
          501.87133385535134
         ],
         "yaxis": "y"
        },
        {
         "alignmentgroup": "True",
         "hovertemplate": "city=Katsuura<br>Season=%{x}<br>co=%{y}<extra></extra>",
         "legendgroup": "Katsuura",
         "marker": {
          "color": "#FF97FF",
          "pattern": {
           "shape": ""
          }
         },
         "name": "Katsuura",
         "offsetgroup": "Katsuura",
         "orientation": "v",
         "showlegend": true,
         "textposition": "auto",
         "type": "bar",
         "x": [
          "Autumn",
          "Spring",
          "Summer",
          "Winter"
         ],
         "xaxis": "x",
         "y": [
          222.54382562839461,
          251.3410674856102,
          198.0639247303622,
          279.08870479538115
         ],
         "yaxis": "y"
        },
        {
         "alignmentgroup": "True",
         "hovertemplate": "city=Kavaratti<br>Season=%{x}<br>co=%{y}<extra></extra>",
         "legendgroup": "Kavaratti",
         "marker": {
          "color": "#FECB52",
          "pattern": {
           "shape": ""
          }
         },
         "name": "Kavaratti",
         "offsetgroup": "Kavaratti",
         "orientation": "v",
         "showlegend": true,
         "textposition": "auto",
         "type": "bar",
         "x": [
          "Autumn",
          "Spring",
          "Summer",
          "Winter"
         ],
         "xaxis": "x",
         "y": [
          268.5476548545088,
          230.33187505048895,
          194.9118610856736,
          345.7820411820994
         ],
         "yaxis": "y"
        },
        {
         "alignmentgroup": "True",
         "hovertemplate": "city=Kavieng<br>Season=%{x}<br>co=%{y}<extra></extra>",
         "legendgroup": "Kavieng",
         "marker": {
          "color": "#636efa",
          "pattern": {
           "shape": ""
          }
         },
         "name": "Kavieng",
         "offsetgroup": "Kavieng",
         "orientation": "v",
         "showlegend": true,
         "textposition": "auto",
         "type": "bar",
         "x": [
          "Autumn",
          "Spring",
          "Summer",
          "Winter"
         ],
         "xaxis": "x",
         "y": [
          205.11156282213665,
          188.04436515830915,
          196.0192415567601,
          194.49634467846965
         ],
         "yaxis": "y"
        },
        {
         "alignmentgroup": "True",
         "hovertemplate": "city=Keflavik<br>Season=%{x}<br>co=%{y}<extra></extra>",
         "legendgroup": "Keflavik",
         "marker": {
          "color": "#EF553B",
          "pattern": {
           "shape": ""
          }
         },
         "name": "Keflavik",
         "offsetgroup": "Keflavik",
         "orientation": "v",
         "showlegend": true,
         "textposition": "auto",
         "type": "bar",
         "x": [
          "Autumn",
          "Spring",
          "Summer",
          "Winter"
         ],
         "xaxis": "x",
         "y": [
          226.1874464031339,
          235.6341397493642,
          191.29057734500805,
          243.73112685190281
         ],
         "yaxis": "y"
        },
        {
         "alignmentgroup": "True",
         "hovertemplate": "city=Kerben<br>Season=%{x}<br>co=%{y}<extra></extra>",
         "legendgroup": "Kerben",
         "marker": {
          "color": "#00cc96",
          "pattern": {
           "shape": ""
          }
         },
         "name": "Kerben",
         "offsetgroup": "Kerben",
         "orientation": "v",
         "showlegend": true,
         "textposition": "auto",
         "type": "bar",
         "x": [
          "Autumn",
          "Spring",
          "Summer",
          "Winter"
         ],
         "xaxis": "x",
         "y": [
          190.02186823476146,
          196.95111487489945,
          176.32758768315017,
          227.40294114342578
         ],
         "yaxis": "y"
        },
        {
         "alignmentgroup": "True",
         "hovertemplate": "city=Kerikeri<br>Season=%{x}<br>co=%{y}<extra></extra>",
         "legendgroup": "Kerikeri",
         "marker": {
          "color": "#ab63fa",
          "pattern": {
           "shape": ""
          }
         },
         "name": "Kerikeri",
         "offsetgroup": "Kerikeri",
         "orientation": "v",
         "showlegend": true,
         "textposition": "auto",
         "type": "bar",
         "x": [
          "Autumn",
          "Spring",
          "Summer",
          "Winter"
         ],
         "xaxis": "x",
         "y": [
          206.00044417329445,
          198.42616337206852,
          182.72523441894737,
          211.7467874440374
         ],
         "yaxis": "y"
        },
        {
         "alignmentgroup": "True",
         "hovertemplate": "city=Ketchikan<br>Season=%{x}<br>co=%{y}<extra></extra>",
         "legendgroup": "Ketchikan",
         "marker": {
          "color": "#FFA15A",
          "pattern": {
           "shape": ""
          }
         },
         "name": "Ketchikan",
         "offsetgroup": "Ketchikan",
         "orientation": "v",
         "showlegend": true,
         "textposition": "auto",
         "type": "bar",
         "x": [
          "Autumn",
          "Spring",
          "Summer",
          "Winter"
         ],
         "xaxis": "x",
         "y": [
          197.93868131868135,
          221.6505052846758,
          170.4870295390499,
          230.3573920041823
         ],
         "yaxis": "y"
        },
        {
         "alignmentgroup": "True",
         "hovertemplate": "city=Khandyga<br>Season=%{x}<br>co=%{y}<extra></extra>",
         "legendgroup": "Khandyga",
         "marker": {
          "color": "#19d3f3",
          "pattern": {
           "shape": ""
          }
         },
         "name": "Khandyga",
         "offsetgroup": "Khandyga",
         "orientation": "v",
         "showlegend": true,
         "textposition": "auto",
         "type": "bar",
         "x": [
          "Autumn",
          "Spring",
          "Summer",
          "Winter"
         ],
         "xaxis": "x",
         "y": [
          215.7532065755126,
          232.70728566563102,
          216.78511790293038,
          234.31255640928046
         ],
         "yaxis": "y"
        },
        {
         "alignmentgroup": "True",
         "hovertemplate": "city=Khorugh<br>Season=%{x}<br>co=%{y}<extra></extra>",
         "legendgroup": "Khorugh",
         "marker": {
          "color": "#FF6692",
          "pattern": {
           "shape": ""
          }
         },
         "name": "Khorugh",
         "offsetgroup": "Khorugh",
         "orientation": "v",
         "showlegend": true,
         "textposition": "auto",
         "type": "bar",
         "x": [
          "Autumn",
          "Spring",
          "Summer",
          "Winter"
         ],
         "xaxis": "x",
         "y": [
          181.99676469831667,
          199.16945306713805,
          170.461723519536,
          221.06949706661044
         ],
         "yaxis": "y"
        },
        {
         "alignmentgroup": "True",
         "hovertemplate": "city=Kidal<br>Season=%{x}<br>co=%{y}<extra></extra>",
         "legendgroup": "Kidal",
         "marker": {
          "color": "#B6E880",
          "pattern": {
           "shape": ""
          }
         },
         "name": "Kidal",
         "offsetgroup": "Kidal",
         "orientation": "v",
         "showlegend": true,
         "textposition": "auto",
         "type": "bar",
         "x": [
          "Autumn",
          "Spring",
          "Summer",
          "Winter"
         ],
         "xaxis": "x",
         "y": [
          197.86830583536835,
          215.72635094027217,
          268.03668015297905,
          195.0603164743684
         ],
         "yaxis": "y"
        },
        {
         "alignmentgroup": "True",
         "hovertemplate": "city=Kingscliff<br>Season=%{x}<br>co=%{y}<extra></extra>",
         "legendgroup": "Kingscliff",
         "marker": {
          "color": "#FF97FF",
          "pattern": {
           "shape": ""
          }
         },
         "name": "Kingscliff",
         "offsetgroup": "Kingscliff",
         "orientation": "v",
         "showlegend": true,
         "textposition": "auto",
         "type": "bar",
         "x": [
          "Autumn",
          "Spring",
          "Summer",
          "Winter"
         ],
         "xaxis": "x",
         "y": [
          216.19193193332796,
          212.21911874763168,
          202.6867910261819,
          225.84402431827436
         ],
         "yaxis": "y"
        },
        {
         "alignmentgroup": "True",
         "hovertemplate": "city=Kingston<br>Season=%{x}<br>co=%{y}<extra></extra>",
         "legendgroup": "Kingston",
         "marker": {
          "color": "#FECB52",
          "pattern": {
           "shape": ""
          }
         },
         "name": "Kingston",
         "offsetgroup": "Kingston",
         "orientation": "v",
         "showlegend": true,
         "textposition": "auto",
         "type": "bar",
         "x": [
          "Autumn",
          "Spring",
          "Summer",
          "Winter"
         ],
         "xaxis": "x",
         "y": [
          1223.2050389194137,
          774.6038456184339,
          823.5776508152173,
          897.9492743720498
         ],
         "yaxis": "y"
        },
        {
         "alignmentgroup": "True",
         "hovertemplate": "city=Klyuchi<br>Season=%{x}<br>co=%{y}<extra></extra>",
         "legendgroup": "Klyuchi",
         "marker": {
          "color": "#636efa",
          "pattern": {
           "shape": ""
          }
         },
         "name": "Klyuchi",
         "offsetgroup": "Klyuchi",
         "orientation": "v",
         "showlegend": true,
         "textposition": "auto",
         "type": "bar",
         "x": [
          "Autumn",
          "Spring",
          "Summer",
          "Winter"
         ],
         "xaxis": "x",
         "y": [
          215.72387288956256,
          239.1241974693074,
          187.56453573972323,
          242.3815534927055
         ],
         "yaxis": "y"
        },
        {
         "alignmentgroup": "True",
         "hovertemplate": "city=Kodiak<br>Season=%{x}<br>co=%{y}<extra></extra>",
         "legendgroup": "Kodiak",
         "marker": {
          "color": "#EF553B",
          "pattern": {
           "shape": ""
          }
         },
         "name": "Kodiak",
         "offsetgroup": "Kodiak",
         "orientation": "v",
         "showlegend": true,
         "textposition": "auto",
         "type": "bar",
         "x": [
          "Autumn",
          "Spring",
          "Summer",
          "Winter"
         ],
         "xaxis": "x",
         "y": [
          208.57776327838826,
          232.19028715516652,
          194.4231700885668,
          223.70039450956293
         ],
         "yaxis": "y"
        },
        {
         "alignmentgroup": "True",
         "hovertemplate": "city=Kostroma<br>Season=%{x}<br>co=%{y}<extra></extra>",
         "legendgroup": "Kostroma",
         "marker": {
          "color": "#00cc96",
          "pattern": {
           "shape": ""
          }
         },
         "name": "Kostroma",
         "offsetgroup": "Kostroma",
         "orientation": "v",
         "showlegend": true,
         "textposition": "auto",
         "type": "bar",
         "x": [
          "Autumn",
          "Spring",
          "Summer",
          "Winter"
         ],
         "xaxis": "x",
         "y": [
          223.87273711775117,
          243.2818676209938,
          183.60469041867952,
          272.93189162738156
         ],
         "yaxis": "y"
        },
        {
         "alignmentgroup": "True",
         "hovertemplate": "city=Kourou<br>Season=%{x}<br>co=%{y}<extra></extra>",
         "legendgroup": "Kourou",
         "marker": {
          "color": "#ab63fa",
          "pattern": {
           "shape": ""
          }
         },
         "name": "Kourou",
         "offsetgroup": "Kourou",
         "orientation": "v",
         "showlegend": true,
         "textposition": "auto",
         "type": "bar",
         "x": [
          "Autumn",
          "Spring",
          "Summer",
          "Winter"
         ],
         "xaxis": "x",
         "y": [
          277.34011131461136,
          229.44406177977058,
          231.86787379227053,
          230.33792866620195
         ],
         "yaxis": "y"
        },
        {
         "alignmentgroup": "True",
         "hovertemplate": "city=Kudahuvadhoo<br>Season=%{x}<br>co=%{y}<extra></extra>",
         "legendgroup": "Kudahuvadhoo",
         "marker": {
          "color": "#FFA15A",
          "pattern": {
           "shape": ""
          }
         },
         "name": "Kudahuvadhoo",
         "offsetgroup": "Kudahuvadhoo",
         "orientation": "v",
         "showlegend": true,
         "textposition": "auto",
         "type": "bar",
         "x": [
          "Autumn",
          "Spring",
          "Summer",
          "Winter"
         ],
         "xaxis": "x",
         "y": [
          236.95790902683459,
          244.52483161535915,
          195.72971703296707,
          300.08504294228607
         ],
         "yaxis": "y"
        },
        {
         "alignmentgroup": "True",
         "hovertemplate": "city=Kumagaya<br>Season=%{x}<br>co=%{y}<extra></extra>",
         "legendgroup": "Kumagaya",
         "marker": {
          "color": "#19d3f3",
          "pattern": {
           "shape": ""
          }
         },
         "name": "Kumagaya",
         "offsetgroup": "Kumagaya",
         "orientation": "v",
         "showlegend": true,
         "textposition": "auto",
         "type": "bar",
         "x": [
          "Autumn",
          "Spring",
          "Summer",
          "Winter"
         ],
         "xaxis": "x",
         "y": [
          283.64632910193257,
          297.4981191422254,
          250.36066185897437,
          329.42550082391716
         ],
         "yaxis": "y"
        },
        {
         "alignmentgroup": "True",
         "hovertemplate": "city=Kununurra<br>Season=%{x}<br>co=%{y}<extra></extra>",
         "legendgroup": "Kununurra",
         "marker": {
          "color": "#FF6692",
          "pattern": {
           "shape": ""
          }
         },
         "name": "Kununurra",
         "offsetgroup": "Kununurra",
         "orientation": "v",
         "showlegend": true,
         "textposition": "auto",
         "type": "bar",
         "x": [
          "Autumn",
          "Spring",
          "Summer",
          "Winter"
         ],
         "xaxis": "x",
         "y": [
          240.71230202615925,
          301.4815102605728,
          279.7347983313767,
          214.40902884615386
         ],
         "yaxis": "y"
        },
        {
         "alignmentgroup": "True",
         "hovertemplate": "city=Kyrenia<br>Season=%{x}<br>co=%{y}<extra></extra>",
         "legendgroup": "Kyrenia",
         "marker": {
          "color": "#B6E880",
          "pattern": {
           "shape": ""
          }
         },
         "name": "Kyrenia",
         "offsetgroup": "Kyrenia",
         "orientation": "v",
         "showlegend": true,
         "textposition": "auto",
         "type": "bar",
         "x": [
          "Autumn",
          "Spring",
          "Summer",
          "Winter"
         ],
         "xaxis": "x",
         "y": [
          210.0494864335103,
          226.6149252461117,
          216.58942476851854,
          239.7329265567295
         ],
         "yaxis": "y"
        },
        {
         "alignmentgroup": "True",
         "hovertemplate": "city=La Huacana<br>Season=%{x}<br>co=%{y}<extra></extra>",
         "legendgroup": "La Huacana",
         "marker": {
          "color": "#FF97FF",
          "pattern": {
           "shape": ""
          }
         },
         "name": "La Huacana",
         "offsetgroup": "La Huacana",
         "orientation": "v",
         "showlegend": true,
         "textposition": "auto",
         "type": "bar",
         "x": [
          "Autumn",
          "Spring",
          "Summer",
          "Winter"
         ],
         "xaxis": "x",
         "y": [
          248.9038186813187,
          255.22299031165926,
          250.88611961553946,
          248.13767225065422
         ],
         "yaxis": "y"
        },
        {
         "alignmentgroup": "True",
         "hovertemplate": "city=La Ronge<br>Season=%{x}<br>co=%{y}<extra></extra>",
         "legendgroup": "La Ronge",
         "marker": {
          "color": "#FECB52",
          "pattern": {
           "shape": ""
          }
         },
         "name": "La Ronge",
         "offsetgroup": "La Ronge",
         "orientation": "v",
         "showlegend": true,
         "textposition": "auto",
         "type": "bar",
         "x": [
          "Autumn",
          "Spring",
          "Summer",
          "Winter"
         ],
         "xaxis": "x",
         "y": [
          212.40843864468866,
          242.89559611735228,
          224.15860799114336,
          231.32997656651256
         ],
         "yaxis": "y"
        },
        {
         "alignmentgroup": "True",
         "hovertemplate": "city=Labrador City<br>Season=%{x}<br>co=%{y}<extra></extra>",
         "legendgroup": "Labrador City",
         "marker": {
          "color": "#636efa",
          "pattern": {
           "shape": ""
          }
         },
         "name": "Labrador City",
         "offsetgroup": "Labrador City",
         "orientation": "v",
         "showlegend": true,
         "textposition": "auto",
         "type": "bar",
         "x": [
          "Autumn",
          "Spring",
          "Summer",
          "Winter"
         ],
         "xaxis": "x",
         "y": [
          200.15907127594627,
          215.28500592456066,
          190.0914197363124,
          220.6666129668354
         ],
         "yaxis": "y"
        },
        {
         "alignmentgroup": "True",
         "hovertemplate": "city=Labytnangi<br>Season=%{x}<br>co=%{y}<extra></extra>",
         "legendgroup": "Labytnangi",
         "marker": {
          "color": "#EF553B",
          "pattern": {
           "shape": ""
          }
         },
         "name": "Labytnangi",
         "offsetgroup": "Labytnangi",
         "orientation": "v",
         "showlegend": true,
         "textposition": "auto",
         "type": "bar",
         "x": [
          "Autumn",
          "Spring",
          "Summer",
          "Winter"
         ],
         "xaxis": "x",
         "y": [
          214.74605486274027,
          239.06028404245626,
          184.63657048738298,
          252.25869715236504
         ],
         "yaxis": "y"
        },
        {
         "alignmentgroup": "True",
         "hovertemplate": "city=Lagunas<br>Season=%{x}<br>co=%{y}<extra></extra>",
         "legendgroup": "Lagunas",
         "marker": {
          "color": "#00cc96",
          "pattern": {
           "shape": ""
          }
         },
         "name": "Lagunas",
         "offsetgroup": "Lagunas",
         "orientation": "v",
         "showlegend": true,
         "textposition": "auto",
         "type": "bar",
         "x": [
          "Autumn",
          "Spring",
          "Summer",
          "Winter"
         ],
         "xaxis": "x",
         "y": [
          235.83133443398523,
          193.00249516687018,
          216.63517791412917,
          212.8689036835749
         ],
         "yaxis": "y"
        },
        {
         "alignmentgroup": "True",
         "hovertemplate": "city=Lake Havasu City<br>Season=%{x}<br>co=%{y}<extra></extra>",
         "legendgroup": "Lake Havasu City",
         "marker": {
          "color": "#ab63fa",
          "pattern": {
           "shape": ""
          }
         },
         "name": "Lake Havasu City",
         "offsetgroup": "Lake Havasu City",
         "orientation": "v",
         "showlegend": true,
         "textposition": "auto",
         "type": "bar",
         "x": [
          "Autumn",
          "Spring",
          "Summer",
          "Winter"
         ],
         "xaxis": "x",
         "y": [
          209.6656891025641,
          217.59545846153432,
          195.80582669082128,
          239.23351435817005
         ],
         "yaxis": "y"
        },
        {
         "alignmentgroup": "True",
         "hovertemplate": "city=Las Palmas<br>Season=%{x}<br>co=%{y}<extra></extra>",
         "legendgroup": "Las Palmas",
         "marker": {
          "color": "#FFA15A",
          "pattern": {
           "shape": ""
          }
         },
         "name": "Las Palmas",
         "offsetgroup": "Las Palmas",
         "orientation": "v",
         "showlegend": true,
         "textposition": "auto",
         "type": "bar",
         "x": [
          "Autumn",
          "Spring",
          "Summer",
          "Winter"
         ],
         "xaxis": "x",
         "y": [
          190.99612815425317,
          203.0459752931008,
          184.21192874396135,
          219.5265406447954
         ],
         "yaxis": "y"
        },
        {
         "alignmentgroup": "True",
         "hovertemplate": "city=Las Tablas<br>Season=%{x}<br>co=%{y}<extra></extra>",
         "legendgroup": "Las Tablas",
         "marker": {
          "color": "#19d3f3",
          "pattern": {
           "shape": ""
          }
         },
         "name": "Las Tablas",
         "offsetgroup": "Las Tablas",
         "orientation": "v",
         "showlegend": true,
         "textposition": "auto",
         "type": "bar",
         "x": [
          "Autumn",
          "Spring",
          "Summer",
          "Winter"
         ],
         "xaxis": "x",
         "y": [
          258.91187042124545,
          259.2323223773111,
          252.75025327093397,
          213.47135031076505
         ],
         "yaxis": "y"
        },
        {
         "alignmentgroup": "True",
         "hovertemplate": "city=Leava<br>Season=%{x}<br>co=%{y}<extra></extra>",
         "legendgroup": "Leava",
         "marker": {
          "color": "#FF6692",
          "pattern": {
           "shape": ""
          }
         },
         "name": "Leava",
         "offsetgroup": "Leava",
         "orientation": "v",
         "showlegend": true,
         "textposition": "auto",
         "type": "bar",
         "x": [
          "Autumn",
          "Spring",
          "Summer",
          "Winter"
         ],
         "xaxis": "x",
         "y": [
          210.6050741208459,
          187.9093612637363,
          199.3284347442681,
          195.33096004428342
         ],
         "yaxis": "y"
        },
        {
         "alignmentgroup": "True",
         "hovertemplate": "city=Lerwick<br>Season=%{x}<br>co=%{y}<extra></extra>",
         "legendgroup": "Lerwick",
         "marker": {
          "color": "#B6E880",
          "pattern": {
           "shape": ""
          }
         },
         "name": "Lerwick",
         "offsetgroup": "Lerwick",
         "orientation": "v",
         "showlegend": true,
         "textposition": "auto",
         "type": "bar",
         "x": [
          "Autumn",
          "Spring",
          "Summer",
          "Winter"
         ],
         "xaxis": "x",
         "y": [
          207.52719101037854,
          222.23261216945772,
          184.226344555153,
          219.62721188886448
         ],
         "yaxis": "y"
        },
        {
         "alignmentgroup": "True",
         "hovertemplate": "city=Lethem<br>Season=%{x}<br>co=%{y}<extra></extra>",
         "legendgroup": "Lethem",
         "marker": {
          "color": "#FF97FF",
          "pattern": {
           "shape": ""
          }
         },
         "name": "Lethem",
         "offsetgroup": "Lethem",
         "orientation": "v",
         "showlegend": true,
         "textposition": "auto",
         "type": "bar",
         "x": [
          "Autumn",
          "Spring",
          "Summer",
          "Winter"
         ],
         "xaxis": "x",
         "y": [
          245.17702340252342,
          225.2917478280721,
          199.8130882145733,
          219.4069735337638
         ],
         "yaxis": "y"
        },
        {
         "alignmentgroup": "True",
         "hovertemplate": "city=Lihue<br>Season=%{x}<br>co=%{y}<extra></extra>",
         "legendgroup": "Lihue",
         "marker": {
          "color": "#FECB52",
          "pattern": {
           "shape": ""
          }
         },
         "name": "Lihue",
         "offsetgroup": "Lihue",
         "orientation": "v",
         "showlegend": true,
         "textposition": "auto",
         "type": "bar",
         "x": [
          "Autumn",
          "Spring",
          "Summer",
          "Winter"
         ],
         "xaxis": "x",
         "y": [
          171.76558379120877,
          195.65459046233164,
          152.71511030595812,
          200.6099319962641
         ],
         "yaxis": "y"
        },
        {
         "alignmentgroup": "True",
         "hovertemplate": "city=Lillehammer<br>Season=%{x}<br>co=%{y}<extra></extra>",
         "legendgroup": "Lillehammer",
         "marker": {
          "color": "#636efa",
          "pattern": {
           "shape": ""
          }
         },
         "name": "Lillehammer",
         "offsetgroup": "Lillehammer",
         "orientation": "v",
         "showlegend": true,
         "textposition": "auto",
         "type": "bar",
         "x": [
          "Autumn",
          "Spring",
          "Summer",
          "Winter"
         ],
         "xaxis": "x",
         "y": [
          202.59810344384078,
          217.68104545091572,
          160.11070994363928,
          238.95804745395847
         ],
         "yaxis": "y"
        },
        {
         "alignmentgroup": "True",
         "hovertemplate": "city=Lipany<br>Season=%{x}<br>co=%{y}<extra></extra>",
         "legendgroup": "Lipany",
         "marker": {
          "color": "#EF553B",
          "pattern": {
           "shape": ""
          }
         },
         "name": "Lipany",
         "offsetgroup": "Lipany",
         "orientation": "v",
         "showlegend": true,
         "textposition": "auto",
         "type": "bar",
         "x": [
          "Autumn",
          "Spring",
          "Summer",
          "Winter"
         ],
         "xaxis": "x",
         "y": [
          212.14903030723957,
          220.00284391206165,
          176.5069953200483,
          270.4038959089992
         ],
         "yaxis": "y"
        },
        {
         "alignmentgroup": "True",
         "hovertemplate": "city=Lompoc<br>Season=%{x}<br>co=%{y}<extra></extra>",
         "legendgroup": "Lompoc",
         "marker": {
          "color": "#00cc96",
          "pattern": {
           "shape": ""
          }
         },
         "name": "Lompoc",
         "offsetgroup": "Lompoc",
         "orientation": "v",
         "showlegend": true,
         "textposition": "auto",
         "type": "bar",
         "x": [
          "Autumn",
          "Spring",
          "Summer",
          "Winter"
         ],
         "xaxis": "x",
         "y": [
          219.89721611721615,
          221.0774286791766,
          172.69177098429952,
          241.38636360961308
         ],
         "yaxis": "y"
        },
        {
         "alignmentgroup": "True",
         "hovertemplate": "city=Lubango<br>Season=%{x}<br>co=%{y}<extra></extra>",
         "legendgroup": "Lubango",
         "marker": {
          "color": "#ab63fa",
          "pattern": {
           "shape": ""
          }
         },
         "name": "Lubango",
         "offsetgroup": "Lubango",
         "orientation": "v",
         "showlegend": true,
         "textposition": "auto",
         "type": "bar",
         "x": [
          "Autumn",
          "Spring",
          "Summer",
          "Winter"
         ],
         "xaxis": "x",
         "y": [
          311.8174110137722,
          337.4765584485739,
          308.68552948522756,
          324.59746557971016
         ],
         "yaxis": "y"
        },
        {
         "alignmentgroup": "True",
         "hovertemplate": "city=Luderitz<br>Season=%{x}<br>co=%{y}<extra></extra>",
         "legendgroup": "Luderitz",
         "marker": {
          "color": "#FFA15A",
          "pattern": {
           "shape": ""
          }
         },
         "name": "Luderitz",
         "offsetgroup": "Luderitz",
         "orientation": "v",
         "showlegend": true,
         "textposition": "auto",
         "type": "bar",
         "x": [
          "Autumn",
          "Spring",
          "Summer",
          "Winter"
         ],
         "xaxis": "x",
         "y": [
          225.16233297074814,
          209.8931125241799,
          193.85267803641742,
          233.43497936795495
         ],
         "yaxis": "y"
        },
        {
         "alignmentgroup": "True",
         "hovertemplate": "city=Luganville<br>Season=%{x}<br>co=%{y}<extra></extra>",
         "legendgroup": "Luganville",
         "marker": {
          "color": "#19d3f3",
          "pattern": {
           "shape": ""
          }
         },
         "name": "Luganville",
         "offsetgroup": "Luganville",
         "orientation": "v",
         "showlegend": true,
         "textposition": "auto",
         "type": "bar",
         "x": [
          "Autumn",
          "Spring",
          "Summer",
          "Winter"
         ],
         "xaxis": "x",
         "y": [
          203.88906677000605,
          188.51115595132836,
          195.80599519712868,
          196.92972748779
         ],
         "yaxis": "y"
        },
        {
         "alignmentgroup": "True",
         "hovertemplate": "city=Luleburgaz<br>Season=%{x}<br>co=%{y}<extra></extra>",
         "legendgroup": "Luleburgaz",
         "marker": {
          "color": "#FF6692",
          "pattern": {
           "shape": ""
          }
         },
         "name": "Luleburgaz",
         "offsetgroup": "Luleburgaz",
         "orientation": "v",
         "showlegend": true,
         "textposition": "auto",
         "type": "bar",
         "x": [
          "Autumn",
          "Spring",
          "Summer",
          "Winter"
         ],
         "xaxis": "x",
         "y": [
          226.0380641643001,
          257.16199581376526,
          207.67246477455717,
          272.17985746539244
         ],
         "yaxis": "y"
        },
        {
         "alignmentgroup": "True",
         "hovertemplate": "city=Macau<br>Season=%{x}<br>co=%{y}<extra></extra>",
         "legendgroup": "Macau",
         "marker": {
          "color": "#B6E880",
          "pattern": {
           "shape": ""
          }
         },
         "name": "Macau",
         "offsetgroup": "Macau",
         "orientation": "v",
         "showlegend": true,
         "textposition": "auto",
         "type": "bar",
         "x": [
          "Autumn",
          "Spring",
          "Summer",
          "Winter"
         ],
         "xaxis": "x",
         "y": [
          573.5182686063937,
          422.0523789579245,
          331.29421408221407,
          788.8866851933377
         ],
         "yaxis": "y"
        },
        {
         "alignmentgroup": "True",
         "hovertemplate": "city=Machakos<br>Season=%{x}<br>co=%{y}<extra></extra>",
         "legendgroup": "Machakos",
         "marker": {
          "color": "#FF97FF",
          "pattern": {
           "shape": ""
          }
         },
         "name": "Machakos",
         "offsetgroup": "Machakos",
         "orientation": "v",
         "showlegend": true,
         "textposition": "auto",
         "type": "bar",
         "x": [
          "Autumn",
          "Spring",
          "Summer",
          "Winter"
         ],
         "xaxis": "x",
         "y": [
          250.30037610660477,
          222.55224230357658,
          276.6068043059224,
          223.14801253019323
         ],
         "yaxis": "y"
        },
        {
         "alignmentgroup": "True",
         "hovertemplate": "city=Madalena<br>Season=%{x}<br>co=%{y}<extra></extra>",
         "legendgroup": "Madalena",
         "marker": {
          "color": "#FECB52",
          "pattern": {
           "shape": ""
          }
         },
         "name": "Madalena",
         "offsetgroup": "Madalena",
         "orientation": "v",
         "showlegend": true,
         "textposition": "auto",
         "type": "bar",
         "x": [
          "Autumn",
          "Spring",
          "Summer",
          "Winter"
         ],
         "xaxis": "x",
         "y": [
          197.32028276353273,
          206.63041474934667,
          188.1216388888889,
          208.1774698444799
         ],
         "yaxis": "y"
        },
        {
         "alignmentgroup": "True",
         "hovertemplate": "city=Magadan<br>Season=%{x}<br>co=%{y}<extra></extra>",
         "legendgroup": "Magadan",
         "marker": {
          "color": "#636efa",
          "pattern": {
           "shape": ""
          }
         },
         "name": "Magadan",
         "offsetgroup": "Magadan",
         "orientation": "v",
         "showlegend": true,
         "textposition": "auto",
         "type": "bar",
         "x": [
          "Autumn",
          "Spring",
          "Summer",
          "Winter"
         ],
         "xaxis": "x",
         "y": [
          217.29326391520357,
          244.69666904181463,
          196.0633389041514,
          249.6391109490792
         ],
         "yaxis": "y"
        },
        {
         "alignmentgroup": "True",
         "hovertemplate": "city=Mahibadhoo<br>Season=%{x}<br>co=%{y}<extra></extra>",
         "legendgroup": "Mahibadhoo",
         "marker": {
          "color": "#EF553B",
          "pattern": {
           "shape": ""
          }
         },
         "name": "Mahibadhoo",
         "offsetgroup": "Mahibadhoo",
         "orientation": "v",
         "showlegend": true,
         "textposition": "auto",
         "type": "bar",
         "x": [
          "Autumn",
          "Spring",
          "Summer",
          "Winter"
         ],
         "xaxis": "x",
         "y": [
          240.1007874686175,
          248.95170306501427,
          196.1968887362637,
          311.23107322850177
         ],
         "yaxis": "y"
        },
        {
         "alignmentgroup": "True",
         "hovertemplate": "city=Makassar<br>Season=%{x}<br>co=%{y}<extra></extra>",
         "legendgroup": "Makassar",
         "marker": {
          "color": "#00cc96",
          "pattern": {
           "shape": ""
          }
         },
         "name": "Makassar",
         "offsetgroup": "Makassar",
         "orientation": "v",
         "showlegend": true,
         "textposition": "auto",
         "type": "bar",
         "x": [
          "Autumn",
          "Spring",
          "Summer",
          "Winter"
         ],
         "xaxis": "x",
         "y": [
          1536.6262305037537,
          1390.6320751384035,
          1037.6452054251656,
          1535.6541971916972
         ],
         "yaxis": "y"
        },
        {
         "alignmentgroup": "True",
         "hovertemplate": "city=Malanje<br>Season=%{x}<br>co=%{y}<extra></extra>",
         "legendgroup": "Malanje",
         "marker": {
          "color": "#ab63fa",
          "pattern": {
           "shape": ""
          }
         },
         "name": "Malanje",
         "offsetgroup": "Malanje",
         "orientation": "v",
         "showlegend": true,
         "textposition": "auto",
         "type": "bar",
         "x": [
          "Autumn",
          "Spring",
          "Summer",
          "Winter"
         ],
         "xaxis": "x",
         "y": [
          414.02645697071216,
          489.27195054945054,
          432.5389576110683,
          527.501536936393
         ],
         "yaxis": "y"
        },
        {
         "alignmentgroup": "True",
         "hovertemplate": "city=Mandi Bahauddin<br>Season=%{x}<br>co=%{y}<extra></extra>",
         "legendgroup": "Mandi Bahauddin",
         "marker": {
          "color": "#FFA15A",
          "pattern": {
           "shape": ""
          }
         },
         "name": "Mandi Bahauddin",
         "offsetgroup": "Mandi Bahauddin",
         "orientation": "v",
         "showlegend": true,
         "textposition": "auto",
         "type": "bar",
         "x": [
          "Autumn",
          "Spring",
          "Summer",
          "Winter"
         ],
         "xaxis": "x",
         "y": [
          1016.8280194056879,
          692.7485248789617,
          595.6326315628816,
          1558.5535543311444
         ],
         "yaxis": "y"
        },
        {
         "alignmentgroup": "True",
         "hovertemplate": "city=Manokwari<br>Season=%{x}<br>co=%{y}<extra></extra>",
         "legendgroup": "Manokwari",
         "marker": {
          "color": "#19d3f3",
          "pattern": {
           "shape": ""
          }
         },
         "name": "Manokwari",
         "offsetgroup": "Manokwari",
         "orientation": "v",
         "showlegend": true,
         "textposition": "auto",
         "type": "bar",
         "x": [
          "Autumn",
          "Spring",
          "Summer",
          "Winter"
         ],
         "xaxis": "x",
         "y": [
          547.5551586206857,
          620.9522270641237,
          497.35725850361973,
          625.0752127340252
         ],
         "yaxis": "y"
        },
        {
         "alignmentgroup": "True",
         "hovertemplate": "city=Manta<br>Season=%{x}<br>co=%{y}<extra></extra>",
         "legendgroup": "Manta",
         "marker": {
          "color": "#FF6692",
          "pattern": {
           "shape": ""
          }
         },
         "name": "Manta",
         "offsetgroup": "Manta",
         "orientation": "v",
         "showlegend": true,
         "textposition": "auto",
         "type": "bar",
         "x": [
          "Autumn",
          "Spring",
          "Summer",
          "Winter"
         ],
         "xaxis": "x",
         "y": [
          334.66538571398456,
          248.5869230769231,
          268.73407203848416,
          255.79337011876004
         ],
         "yaxis": "y"
        },
        {
         "alignmentgroup": "True",
         "hovertemplate": "city=Margaret River<br>Season=%{x}<br>co=%{y}<extra></extra>",
         "legendgroup": "Margaret River",
         "marker": {
          "color": "#B6E880",
          "pattern": {
           "shape": ""
          }
         },
         "name": "Margaret River",
         "offsetgroup": "Margaret River",
         "orientation": "v",
         "showlegend": true,
         "textposition": "auto",
         "type": "bar",
         "x": [
          "Autumn",
          "Spring",
          "Summer",
          "Winter"
         ],
         "xaxis": "x",
         "y": [
          214.0141962077911,
          205.5288781010656,
          189.750655350417,
          217.53046049552296
         ],
         "yaxis": "y"
        },
        {
         "alignmentgroup": "True",
         "hovertemplate": "city=Margate<br>Season=%{x}<br>co=%{y}<extra></extra>",
         "legendgroup": "Margate",
         "marker": {
          "color": "#FF97FF",
          "pattern": {
           "shape": ""
          }
         },
         "name": "Margate",
         "offsetgroup": "Margate",
         "orientation": "v",
         "showlegend": true,
         "textposition": "auto",
         "type": "bar",
         "x": [
          "Autumn",
          "Spring",
          "Summer",
          "Winter"
         ],
         "xaxis": "x",
         "y": [
          287.85844322344326,
          283.3986152909638,
          273.4002955917874,
          292.0705198817778
         ],
         "yaxis": "y"
        },
        {
         "alignmentgroup": "True",
         "hovertemplate": "city=Mariehamn<br>Season=%{x}<br>co=%{y}<extra></extra>",
         "legendgroup": "Mariehamn",
         "marker": {
          "color": "#FECB52",
          "pattern": {
           "shape": ""
          }
         },
         "name": "Mariehamn",
         "offsetgroup": "Mariehamn",
         "orientation": "v",
         "showlegend": true,
         "textposition": "auto",
         "type": "bar",
         "x": [
          "Autumn",
          "Spring",
          "Summer",
          "Winter"
         ],
         "xaxis": "x",
         "y": [
          216.28299435115446,
          236.14816008998034,
          185.0295399557166,
          245.66071483983296
         ],
         "yaxis": "y"
        },
        {
         "alignmentgroup": "True",
         "hovertemplate": "city=Mariestad<br>Season=%{x}<br>co=%{y}<extra></extra>",
         "legendgroup": "Mariestad",
         "marker": {
          "color": "#636efa",
          "pattern": {
           "shape": ""
          }
         },
         "name": "Mariestad",
         "offsetgroup": "Mariestad",
         "orientation": "v",
         "showlegend": true,
         "textposition": "auto",
         "type": "bar",
         "x": [
          "Autumn",
          "Spring",
          "Summer",
          "Winter"
         ],
         "xaxis": "x",
         "y": [
          212.6695211857431,
          226.33204266004304,
          176.80501942431565,
          246.3866540289395
         ],
         "yaxis": "y"
        },
        {
         "alignmentgroup": "True",
         "hovertemplate": "city=Matola<br>Season=%{x}<br>co=%{y}<extra></extra>",
         "legendgroup": "Matola",
         "marker": {
          "color": "#EF553B",
          "pattern": {
           "shape": ""
          }
         },
         "name": "Matola",
         "offsetgroup": "Matola",
         "orientation": "v",
         "showlegend": true,
         "textposition": "auto",
         "type": "bar",
         "x": [
          "Autumn",
          "Spring",
          "Summer",
          "Winter"
         ],
         "xaxis": "x",
         "y": [
          492.7192410011978,
          430.7876608480471,
          383.9617081338506,
          550.1948285527375
         ],
         "yaxis": "y"
        },
        {
         "alignmentgroup": "True",
         "hovertemplate": "city=Merced<br>Season=%{x}<br>co=%{y}<extra></extra>",
         "legendgroup": "Merced",
         "marker": {
          "color": "#00cc96",
          "pattern": {
           "shape": ""
          }
         },
         "name": "Merced",
         "offsetgroup": "Merced",
         "orientation": "v",
         "showlegend": true,
         "textposition": "auto",
         "type": "bar",
         "x": [
          "Autumn",
          "Spring",
          "Summer",
          "Winter"
         ],
         "xaxis": "x",
         "y": [
          234.30587225274724,
          232.39459617550338,
          189.71344303542674,
          271.7798358089063
         ],
         "yaxis": "y"
        },
        {
         "alignmentgroup": "True",
         "hovertemplate": "city=Minusinsk<br>Season=%{x}<br>co=%{y}<extra></extra>",
         "legendgroup": "Minusinsk",
         "marker": {
          "color": "#ab63fa",
          "pattern": {
           "shape": ""
          }
         },
         "name": "Minusinsk",
         "offsetgroup": "Minusinsk",
         "orientation": "v",
         "showlegend": true,
         "textposition": "auto",
         "type": "bar",
         "x": [
          "Autumn",
          "Spring",
          "Summer",
          "Winter"
         ],
         "xaxis": "x",
         "y": [
          234.07983511338847,
          239.8135385210053,
          177.87828400997154,
          308.18621994001757
         ],
         "yaxis": "y"
        },
        {
         "alignmentgroup": "True",
         "hovertemplate": "city=Mirnyy<br>Season=%{x}<br>co=%{y}<extra></extra>",
         "legendgroup": "Mirnyy",
         "marker": {
          "color": "#FFA15A",
          "pattern": {
           "shape": ""
          }
         },
         "name": "Mirnyy",
         "offsetgroup": "Mirnyy",
         "orientation": "v",
         "showlegend": true,
         "textposition": "auto",
         "type": "bar",
         "x": [
          "Autumn",
          "Spring",
          "Summer",
          "Winter"
         ],
         "xaxis": "x",
         "y": [
          212.95445757367634,
          228.57023141429167,
          206.78858961640213,
          242.48010336032848
         ],
         "yaxis": "y"
        },
        {
         "alignmentgroup": "True",
         "hovertemplate": "city=Monroe<br>Season=%{x}<br>co=%{y}<extra></extra>",
         "legendgroup": "Monroe",
         "marker": {
          "color": "#19d3f3",
          "pattern": {
           "shape": ""
          }
         },
         "name": "Monroe",
         "offsetgroup": "Monroe",
         "orientation": "v",
         "showlegend": true,
         "textposition": "auto",
         "type": "bar",
         "x": [
          "Autumn",
          "Spring",
          "Summer",
          "Winter"
         ],
         "xaxis": "x",
         "y": [
          253.4422664835165,
          251.3387391744396,
          245.90013848631241,
          254.57101384608802
         ],
         "yaxis": "y"
        },
        {
         "alignmentgroup": "True",
         "hovertemplate": "city=Mont-Laurier<br>Season=%{x}<br>co=%{y}<extra></extra>",
         "legendgroup": "Mont-Laurier",
         "marker": {
          "color": "#FF6692",
          "pattern": {
           "shape": ""
          }
         },
         "name": "Mont-Laurier",
         "offsetgroup": "Mont-Laurier",
         "orientation": "v",
         "showlegend": true,
         "textposition": "auto",
         "type": "bar",
         "x": [
          "Autumn",
          "Spring",
          "Summer",
          "Winter"
         ],
         "xaxis": "x",
         "y": [
          211.87337912087912,
          224.6200613854403,
          199.8009778582931,
          247.27758581960651
         ],
         "yaxis": "y"
        },
        {
         "alignmentgroup": "True",
         "hovertemplate": "city=Morozovsk<br>Season=%{x}<br>co=%{y}<extra></extra>",
         "legendgroup": "Morozovsk",
         "marker": {
          "color": "#B6E880",
          "pattern": {
           "shape": ""
          }
         },
         "name": "Morozovsk",
         "offsetgroup": "Morozovsk",
         "orientation": "v",
         "showlegend": true,
         "textposition": "auto",
         "type": "bar",
         "x": [
          "Autumn",
          "Spring",
          "Summer",
          "Winter"
         ],
         "xaxis": "x",
         "y": [
          215.5436216662551,
          229.57538903794216,
          190.73095390499196,
          252.13042090089758
         ],
         "yaxis": "y"
        },
        {
         "alignmentgroup": "True",
         "hovertemplate": "city=Mossel Bay<br>Season=%{x}<br>co=%{y}<extra></extra>",
         "legendgroup": "Mossel Bay",
         "marker": {
          "color": "#FF97FF",
          "pattern": {
           "shape": ""
          }
         },
         "name": "Mossel Bay",
         "offsetgroup": "Mossel Bay",
         "orientation": "v",
         "showlegend": true,
         "textposition": "auto",
         "type": "bar",
         "x": [
          "Autumn",
          "Spring",
          "Summer",
          "Winter"
         ],
         "xaxis": "x",
         "y": [
          237.82376781707993,
          220.46091567374575,
          194.01450250079486,
          264.799803442029
         ],
         "yaxis": "y"
        },
        {
         "alignmentgroup": "True",
         "hovertemplate": "city=Mount Gambier<br>Season=%{x}<br>co=%{y}<extra></extra>",
         "legendgroup": "Mount Gambier",
         "marker": {
          "color": "#FECB52",
          "pattern": {
           "shape": ""
          }
         },
         "name": "Mount Gambier",
         "offsetgroup": "Mount Gambier",
         "orientation": "v",
         "showlegend": true,
         "textposition": "auto",
         "type": "bar",
         "x": [
          "Autumn",
          "Spring",
          "Summer",
          "Winter"
         ],
         "xaxis": "x",
         "y": [
          210.57421745328955,
          203.3965364616227,
          189.36122220999343,
          216.09858015364267
         ],
         "yaxis": "y"
        },
        {
         "alignmentgroup": "True",
         "hovertemplate": "city=Mount Isa<br>Season=%{x}<br>co=%{y}<extra></extra>",
         "legendgroup": "Mount Isa",
         "marker": {
          "color": "#636efa",
          "pattern": {
           "shape": ""
          }
         },
         "name": "Mount Isa",
         "offsetgroup": "Mount Isa",
         "orientation": "v",
         "showlegend": true,
         "textposition": "auto",
         "type": "bar",
         "x": [
          "Autumn",
          "Spring",
          "Summer",
          "Winter"
         ],
         "xaxis": "x",
         "y": [
          211.613322575046,
          239.102346085428,
          228.01378834501187,
          203.0464667022792
         ],
         "yaxis": "y"
        },
        {
         "alignmentgroup": "True",
         "hovertemplate": "city=Mount Pearl Park<br>Season=%{x}<br>co=%{y}<extra></extra>",
         "legendgroup": "Mount Pearl Park",
         "marker": {
          "color": "#EF553B",
          "pattern": {
           "shape": ""
          }
         },
         "name": "Mount Pearl Park",
         "offsetgroup": "Mount Pearl Park",
         "orientation": "v",
         "showlegend": true,
         "textposition": "auto",
         "type": "bar",
         "x": [
          "Autumn",
          "Spring",
          "Summer",
          "Winter"
         ],
         "xaxis": "x",
         "y": [
          229.39161149267397,
          238.12150598501475,
          213.4925701489533,
          239.5787384284736
         ],
         "yaxis": "y"
        },
        {
         "alignmentgroup": "True",
         "hovertemplate": "city=Mount Vernon<br>Season=%{x}<br>co=%{y}<extra></extra>",
         "legendgroup": "Mount Vernon",
         "marker": {
          "color": "#00cc96",
          "pattern": {
           "shape": ""
          }
         },
         "name": "Mount Vernon",
         "offsetgroup": "Mount Vernon",
         "orientation": "v",
         "showlegend": true,
         "textposition": "auto",
         "type": "bar",
         "x": [
          "Autumn",
          "Spring",
          "Summer",
          "Winter"
         ],
         "xaxis": "x",
         "y": [
          393.20845253357754,
          350.6106955627845,
          337.5599332226248,
          476.5381343932668
         ],
         "yaxis": "y"
        },
        {
         "alignmentgroup": "True",
         "hovertemplate": "city=Moyale<br>Season=%{x}<br>co=%{y}<extra></extra>",
         "legendgroup": "Moyale",
         "marker": {
          "color": "#ab63fa",
          "pattern": {
           "shape": ""
          }
         },
         "name": "Moyale",
         "offsetgroup": "Moyale",
         "orientation": "v",
         "showlegend": true,
         "textposition": "auto",
         "type": "bar",
         "x": [
          "Autumn",
          "Spring",
          "Summer",
          "Winter"
         ],
         "xaxis": "x",
         "y": [
          206.68871126064948,
          222.34264352498653,
          196.59408061594206,
          219.76409767698172
         ],
         "yaxis": "y"
        },
        {
         "alignmentgroup": "True",
         "hovertemplate": "city=Mumbwa<br>Season=%{x}<br>co=%{y}<extra></extra>",
         "legendgroup": "Mumbwa",
         "marker": {
          "color": "#FFA15A",
          "pattern": {
           "shape": ""
          }
         },
         "name": "Mumbwa",
         "offsetgroup": "Mumbwa",
         "orientation": "v",
         "showlegend": true,
         "textposition": "auto",
         "type": "bar",
         "x": [
          "Autumn",
          "Spring",
          "Summer",
          "Winter"
         ],
         "xaxis": "x",
         "y": [
          291.41068178630707,
          307.47283162530357,
          289.8728913606403,
          295.5570833333333
         ],
         "yaxis": "y"
        },
        {
         "alignmentgroup": "True",
         "hovertemplate": "city=Murzuq<br>Season=%{x}<br>co=%{y}<extra></extra>",
         "legendgroup": "Murzuq",
         "marker": {
          "color": "#19d3f3",
          "pattern": {
           "shape": ""
          }
         },
         "name": "Murzuq",
         "offsetgroup": "Murzuq",
         "orientation": "v",
         "showlegend": true,
         "textposition": "auto",
         "type": "bar",
         "x": [
          "Autumn",
          "Spring",
          "Summer",
          "Winter"
         ],
         "xaxis": "x",
         "y": [
          259.5197593324279,
          241.92849078924314,
          216.59403331320453,
          296.28217937547385
         ],
         "yaxis": "y"
        },
        {
         "alignmentgroup": "True",
         "hovertemplate": "city=Mutriku<br>Season=%{x}<br>co=%{y}<extra></extra>",
         "legendgroup": "Mutriku",
         "marker": {
          "color": "#FF6692",
          "pattern": {
           "shape": ""
          }
         },
         "name": "Mutriku",
         "offsetgroup": "Mutriku",
         "orientation": "v",
         "showlegend": true,
         "textposition": "auto",
         "type": "bar",
         "x": [
          "Autumn",
          "Spring",
          "Summer",
          "Winter"
         ],
         "xaxis": "x",
         "y": [
          202.38941114672366,
          215.80822495154166,
          189.4653637278583,
          234.67635299346372
         ],
         "yaxis": "y"
        },
        {
         "alignmentgroup": "True",
         "hovertemplate": "city=Muynoq<br>Season=%{x}<br>co=%{y}<extra></extra>",
         "legendgroup": "Muynoq",
         "marker": {
          "color": "#B6E880",
          "pattern": {
           "shape": ""
          }
         },
         "name": "Muynoq",
         "offsetgroup": "Muynoq",
         "orientation": "v",
         "showlegend": true,
         "textposition": "auto",
         "type": "bar",
         "x": [
          "Autumn",
          "Spring",
          "Summer",
          "Winter"
         ],
         "xaxis": "x",
         "y": [
          206.7392272965798,
          221.0234472127423,
          187.30841414835166,
          241.5534164740627
         ],
         "yaxis": "y"
        },
        {
         "alignmentgroup": "True",
         "hovertemplate": "city=Myski<br>Season=%{x}<br>co=%{y}<extra></extra>",
         "legendgroup": "Myski",
         "marker": {
          "color": "#FF97FF",
          "pattern": {
           "shape": ""
          }
         },
         "name": "Myski",
         "offsetgroup": "Myski",
         "orientation": "v",
         "showlegend": true,
         "textposition": "auto",
         "type": "bar",
         "x": [
          "Autumn",
          "Spring",
          "Summer",
          "Winter"
         ],
         "xaxis": "x",
         "y": [
          212.74826056200354,
          235.26350661433582,
          160.88913565832314,
          270.6656213122447
         ],
         "yaxis": "y"
        },
        {
         "alignmentgroup": "True",
         "hovertemplate": "city=Nadi<br>Season=%{x}<br>co=%{y}<extra></extra>",
         "legendgroup": "Nadi",
         "marker": {
          "color": "#FECB52",
          "pattern": {
           "shape": ""
          }
         },
         "name": "Nadi",
         "offsetgroup": "Nadi",
         "orientation": "v",
         "showlegend": true,
         "textposition": "auto",
         "type": "bar",
         "x": [
          "Autumn",
          "Spring",
          "Summer",
          "Winter"
         ],
         "xaxis": "x",
         "y": [
          201.29282042809714,
          190.39398509536443,
          191.9578693716829,
          194.99005972730973
         ],
         "yaxis": "y"
        },
        {
         "alignmentgroup": "True",
         "hovertemplate": "city=Naifaru<br>Season=%{x}<br>co=%{y}<extra></extra>",
         "legendgroup": "Naifaru",
         "marker": {
          "color": "#636efa",
          "pattern": {
           "shape": ""
          }
         },
         "name": "Naifaru",
         "offsetgroup": "Naifaru",
         "orientation": "v",
         "showlegend": true,
         "textposition": "auto",
         "type": "bar",
         "x": [
          "Autumn",
          "Spring",
          "Summer",
          "Winter"
         ],
         "xaxis": "x",
         "y": [
          248.16121375581346,
          251.60614671379994,
          195.06629677960933,
          317.5037635128525
         ],
         "yaxis": "y"
        },
        {
         "alignmentgroup": "True",
         "hovertemplate": "city=Nakasongola<br>Season=%{x}<br>co=%{y}<extra></extra>",
         "legendgroup": "Nakasongola",
         "marker": {
          "color": "#EF553B",
          "pattern": {
           "shape": ""
          }
         },
         "name": "Nakasongola",
         "offsetgroup": "Nakasongola",
         "orientation": "v",
         "showlegend": true,
         "textposition": "auto",
         "type": "bar",
         "x": [
          "Autumn",
          "Spring",
          "Summer",
          "Winter"
         ],
         "xaxis": "x",
         "y": [
          298.1658974358975,
          364.6137330212482,
          349.3405512781803,
          349.1324982764999
         ],
         "yaxis": "y"
        },
        {
         "alignmentgroup": "True",
         "hovertemplate": "city=Nampula<br>Season=%{x}<br>co=%{y}<extra></extra>",
         "legendgroup": "Nampula",
         "marker": {
          "color": "#00cc96",
          "pattern": {
           "shape": ""
          }
         },
         "name": "Nampula",
         "offsetgroup": "Nampula",
         "orientation": "v",
         "showlegend": true,
         "textposition": "auto",
         "type": "bar",
         "x": [
          "Autumn",
          "Spring",
          "Summer",
          "Winter"
         ],
         "xaxis": "x",
         "y": [
          265.7666861822203,
          288.4396575194469,
          308.25839850915327,
          265.4078760567633
         ],
         "yaxis": "y"
        },
        {
         "alignmentgroup": "True",
         "hovertemplate": "city=Nar'yan-Mar<br>Season=%{x}<br>co=%{y}<extra></extra>",
         "legendgroup": "Nar'yan-Mar",
         "marker": {
          "color": "#ab63fa",
          "pattern": {
           "shape": ""
          }
         },
         "name": "Nar'yan-Mar",
         "offsetgroup": "Nar'yan-Mar",
         "orientation": "v",
         "showlegend": true,
         "textposition": "auto",
         "type": "bar",
         "x": [
          "Autumn",
          "Spring",
          "Summer",
          "Winter"
         ],
         "xaxis": "x",
         "y": [
          212.81964373173645,
          235.28592534129726,
          181.72034128421902,
          243.92008184523806
         ],
         "yaxis": "y"
        },
        {
         "alignmentgroup": "True",
         "hovertemplate": "city=Narvik<br>Season=%{x}<br>co=%{y}<extra></extra>",
         "legendgroup": "Narvik",
         "marker": {
          "color": "#FFA15A",
          "pattern": {
           "shape": ""
          }
         },
         "name": "Narvik",
         "offsetgroup": "Narvik",
         "orientation": "v",
         "showlegend": true,
         "textposition": "auto",
         "type": "bar",
         "x": [
          "Autumn",
          "Spring",
          "Summer",
          "Winter"
         ],
         "xaxis": "x",
         "y": [
          204.39286208173849,
          221.4721523982905,
          175.8659626610306,
          222.94248214973587
         ],
         "yaxis": "y"
        },
        {
         "alignmentgroup": "True",
         "hovertemplate": "city=Ndende<br>Season=%{x}<br>co=%{y}<extra></extra>",
         "legendgroup": "Ndende",
         "marker": {
          "color": "#19d3f3",
          "pattern": {
           "shape": ""
          }
         },
         "name": "Ndende",
         "offsetgroup": "Ndende",
         "orientation": "v",
         "showlegend": true,
         "textposition": "auto",
         "type": "bar",
         "x": [
          "Autumn",
          "Spring",
          "Summer",
          "Winter"
         ],
         "xaxis": "x",
         "y": [
          255.8276962724158,
          331.0073321037577,
          290.9376091537347,
          369.66126524758454
         ],
         "yaxis": "y"
        },
        {
         "alignmentgroup": "True",
         "hovertemplate": "city=Neiafu<br>Season=%{x}<br>co=%{y}<extra></extra>",
         "legendgroup": "Neiafu",
         "marker": {
          "color": "#FF6692",
          "pattern": {
           "shape": ""
          }
         },
         "name": "Neiafu",
         "offsetgroup": "Neiafu",
         "orientation": "v",
         "showlegend": true,
         "textposition": "auto",
         "type": "bar",
         "x": [
          "Autumn",
          "Spring",
          "Summer",
          "Winter"
         ],
         "xaxis": "x",
         "y": [
          211.37097339332965,
          198.31697344322345,
          199.0318887543718,
          203.54640730676329
         ],
         "yaxis": "y"
        },
        {
         "alignmentgroup": "True",
         "hovertemplate": "city=Nelson Bay<br>Season=%{x}<br>co=%{y}<extra></extra>",
         "legendgroup": "Nelson Bay",
         "marker": {
          "color": "#B6E880",
          "pattern": {
           "shape": ""
          }
         },
         "name": "Nelson Bay",
         "offsetgroup": "Nelson Bay",
         "orientation": "v",
         "showlegend": true,
         "textposition": "auto",
         "type": "bar",
         "x": [
          "Autumn",
          "Spring",
          "Summer",
          "Winter"
         ],
         "xaxis": "x",
         "y": [
          218.42206622860567,
          209.8742146646457,
          198.36269247407486,
          225.84995026963776
         ],
         "yaxis": "y"
        },
        {
         "alignmentgroup": "True",
         "hovertemplate": "city=New Norfolk<br>Season=%{x}<br>co=%{y}<extra></extra>",
         "legendgroup": "New Norfolk",
         "marker": {
          "color": "#FF97FF",
          "pattern": {
           "shape": ""
          }
         },
         "name": "New Norfolk",
         "offsetgroup": "New Norfolk",
         "orientation": "v",
         "showlegend": true,
         "textposition": "auto",
         "type": "bar",
         "x": [
          "Autumn",
          "Spring",
          "Summer",
          "Winter"
         ],
         "xaxis": "x",
         "y": [
          196.4795952857744,
          192.5225566028799,
          173.72749886883364,
          207.3997878001628
         ],
         "yaxis": "y"
        },
        {
         "alignmentgroup": "True",
         "hovertemplate": "city=Newman<br>Season=%{x}<br>co=%{y}<extra></extra>",
         "legendgroup": "Newman",
         "marker": {
          "color": "#FECB52",
          "pattern": {
           "shape": ""
          }
         },
         "name": "Newman",
         "offsetgroup": "Newman",
         "orientation": "v",
         "showlegend": true,
         "textposition": "auto",
         "type": "bar",
         "x": [
          "Autumn",
          "Spring",
          "Summer",
          "Winter"
         ],
         "xaxis": "x",
         "y": [
          271.5767216117216,
          246.28517721062272,
          199.8450995873591,
          308.3375040622631
         ],
         "yaxis": "y"
        },
        {
         "alignmentgroup": "True",
         "hovertemplate": "city=Noshiromachi<br>Season=%{x}<br>co=%{y}<extra></extra>",
         "legendgroup": "Noshiromachi",
         "marker": {
          "color": "#636efa",
          "pattern": {
           "shape": ""
          }
         },
         "name": "Noshiromachi",
         "offsetgroup": "Noshiromachi",
         "orientation": "v",
         "showlegend": true,
         "textposition": "auto",
         "type": "bar",
         "x": [
          "Autumn",
          "Spring",
          "Summer",
          "Winter"
         ],
         "xaxis": "x",
         "y": [
          219.30920658603844,
          255.48744985032886,
          212.33668607549862,
          244.3482829161775
         ],
         "yaxis": "y"
        },
        {
         "alignmentgroup": "True",
         "hovertemplate": "city=Nouadhibou<br>Season=%{x}<br>co=%{y}<extra></extra>",
         "legendgroup": "Nouadhibou",
         "marker": {
          "color": "#EF553B",
          "pattern": {
           "shape": ""
          }
         },
         "name": "Nouadhibou",
         "offsetgroup": "Nouadhibou",
         "orientation": "v",
         "showlegend": true,
         "textposition": "auto",
         "type": "bar",
         "x": [
          "Autumn",
          "Spring",
          "Summer",
          "Winter"
         ],
         "xaxis": "x",
         "y": [
          195.45761263736264,
          202.04059806268387,
          189.09801816626407,
          213.54572826096924
         ],
         "yaxis": "y"
        },
        {
         "alignmentgroup": "True",
         "hovertemplate": "city=Ntcheu<br>Season=%{x}<br>co=%{y}<extra></extra>",
         "legendgroup": "Ntcheu",
         "marker": {
          "color": "#00cc96",
          "pattern": {
           "shape": ""
          }
         },
         "name": "Ntcheu",
         "offsetgroup": "Ntcheu",
         "orientation": "v",
         "showlegend": true,
         "textposition": "auto",
         "type": "bar",
         "x": [
          "Autumn",
          "Spring",
          "Summer",
          "Winter"
         ],
         "xaxis": "x",
         "y": [
          235.56394089303765,
          261.0878448471004,
          253.1128340685915,
          230.05717934782606
         ],
         "yaxis": "y"
        },
        {
         "alignmentgroup": "True",
         "hovertemplate": "city=Nueva Gerona<br>Season=%{x}<br>co=%{y}<extra></extra>",
         "legendgroup": "Nueva Gerona",
         "marker": {
          "color": "#ab63fa",
          "pattern": {
           "shape": ""
          }
         },
         "name": "Nueva Gerona",
         "offsetgroup": "Nueva Gerona",
         "orientation": "v",
         "showlegend": true,
         "textposition": "auto",
         "type": "bar",
         "x": [
          "Autumn",
          "Spring",
          "Summer",
          "Winter"
         ],
         "xaxis": "x",
         "y": [
          205.56281822344323,
          232.837276507439,
          216.1893013788245,
          214.2139928568371
         ],
         "yaxis": "y"
        },
        {
         "alignmentgroup": "True",
         "hovertemplate": "city=Nuuk<br>Season=%{x}<br>co=%{y}<extra></extra>",
         "legendgroup": "Nuuk",
         "marker": {
          "color": "#FFA15A",
          "pattern": {
           "shape": ""
          }
         },
         "name": "Nuuk",
         "offsetgroup": "Nuuk",
         "orientation": "v",
         "showlegend": true,
         "textposition": "auto",
         "type": "bar",
         "x": [
          "Autumn",
          "Spring",
          "Summer",
          "Winter"
         ],
         "xaxis": "x",
         "y": [
          217.8155583028083,
          230.12214259731377,
          194.1570908816425,
          227.15713213016974
         ],
         "yaxis": "y"
        },
        {
         "alignmentgroup": "True",
         "hovertemplate": "city=Okhotsk<br>Season=%{x}<br>co=%{y}<extra></extra>",
         "legendgroup": "Okhotsk",
         "marker": {
          "color": "#19d3f3",
          "pattern": {
           "shape": ""
          }
         },
         "name": "Okhotsk",
         "offsetgroup": "Okhotsk",
         "orientation": "v",
         "showlegend": true,
         "textposition": "auto",
         "type": "bar",
         "x": [
          "Autumn",
          "Spring",
          "Summer",
          "Winter"
         ],
         "xaxis": "x",
         "y": [
          217.9456337101596,
          240.84237738248987,
          197.01017696886447,
          249.0039111033152
         ],
         "yaxis": "y"
        },
        {
         "alignmentgroup": "True",
         "hovertemplate": "city=Olinda<br>Season=%{x}<br>co=%{y}<extra></extra>",
         "legendgroup": "Olinda",
         "marker": {
          "color": "#FF6692",
          "pattern": {
           "shape": ""
          }
         },
         "name": "Olinda",
         "offsetgroup": "Olinda",
         "orientation": "v",
         "showlegend": true,
         "textposition": "auto",
         "type": "bar",
         "x": [
          "Autumn",
          "Spring",
          "Summer",
          "Winter"
         ],
         "xaxis": "x",
         "y": [
          276.827339910898,
          272.16588832926334,
          313.3712803771676,
          227.29165227455712
         ],
         "yaxis": "y"
        },
        {
         "alignmentgroup": "True",
         "hovertemplate": "city=Oneida<br>Season=%{x}<br>co=%{y}<extra></extra>",
         "legendgroup": "Oneida",
         "marker": {
          "color": "#B6E880",
          "pattern": {
           "shape": ""
          }
         },
         "name": "Oneida",
         "offsetgroup": "Oneida",
         "orientation": "v",
         "showlegend": true,
         "textposition": "auto",
         "type": "bar",
         "x": [
          "Autumn",
          "Spring",
          "Summer",
          "Winter"
         ],
         "xaxis": "x",
         "y": [
          228.3411446886447,
          241.09165241774235,
          227.78723797302737,
          268.98785504102773
         ],
         "yaxis": "y"
        },
        {
         "alignmentgroup": "True",
         "hovertemplate": "city=Ontario<br>Season=%{x}<br>co=%{y}<extra></extra>",
         "legendgroup": "Ontario",
         "marker": {
          "color": "#FF97FF",
          "pattern": {
           "shape": ""
          }
         },
         "name": "Ontario",
         "offsetgroup": "Ontario",
         "orientation": "v",
         "showlegend": true,
         "textposition": "auto",
         "type": "bar",
         "x": [
          "Autumn",
          "Spring",
          "Summer",
          "Winter"
         ],
         "xaxis": "x",
         "y": [
          494.26282967032967,
          401.4814176897797,
          338.12909445450885,
          598.7863107199415
         ],
         "yaxis": "y"
        },
        {
         "alignmentgroup": "True",
         "hovertemplate": "city=Pacific Grove<br>Season=%{x}<br>co=%{y}<extra></extra>",
         "legendgroup": "Pacific Grove",
         "marker": {
          "color": "#FECB52",
          "pattern": {
           "shape": ""
          }
         },
         "name": "Pacific Grove",
         "offsetgroup": "Pacific Grove",
         "orientation": "v",
         "showlegend": true,
         "textposition": "auto",
         "type": "bar",
         "x": [
          "Autumn",
          "Spring",
          "Summer",
          "Winter"
         ],
         "xaxis": "x",
         "y": [
          240.7620009157509,
          226.21674743059796,
          179.1130307971015,
          268.4481434349549
         ],
         "yaxis": "y"
        },
        {
         "alignmentgroup": "True",
         "hovertemplate": "city=Palmerston North<br>Season=%{x}<br>co=%{y}<extra></extra>",
         "legendgroup": "Palmerston North",
         "marker": {
          "color": "#636efa",
          "pattern": {
           "shape": ""
          }
         },
         "name": "Palmerston North",
         "offsetgroup": "Palmerston North",
         "orientation": "v",
         "showlegend": true,
         "textposition": "auto",
         "type": "bar",
         "x": [
          "Autumn",
          "Spring",
          "Summer",
          "Winter"
         ],
         "xaxis": "x",
         "y": [
          206.07944212509756,
          200.84736311102694,
          180.62124771091666,
          219.48110587098083
         ],
         "yaxis": "y"
        },
        {
         "alignmentgroup": "True",
         "hovertemplate": "city=Pangkalpinang<br>Season=%{x}<br>co=%{y}<extra></extra>",
         "legendgroup": "Pangkalpinang",
         "marker": {
          "color": "#EF553B",
          "pattern": {
           "shape": ""
          }
         },
         "name": "Pangkalpinang",
         "offsetgroup": "Pangkalpinang",
         "orientation": "v",
         "showlegend": true,
         "textposition": "auto",
         "type": "bar",
         "x": [
          "Autumn",
          "Spring",
          "Summer",
          "Winter"
         ],
         "xaxis": "x",
         "y": [
          553.5978535244536,
          528.1658108037796,
          393.8450086786449,
          460.358083511396
         ],
         "yaxis": "y"
        },
        {
         "alignmentgroup": "True",
         "hovertemplate": "city=Pegnitz<br>Season=%{x}<br>co=%{y}<extra></extra>",
         "legendgroup": "Pegnitz",
         "marker": {
          "color": "#00cc96",
          "pattern": {
           "shape": ""
          }
         },
         "name": "Pegnitz",
         "offsetgroup": "Pegnitz",
         "orientation": "v",
         "showlegend": true,
         "textposition": "auto",
         "type": "bar",
         "x": [
          "Autumn",
          "Spring",
          "Summer",
          "Winter"
         ],
         "xaxis": "x",
         "y": [
          221.7310473258015,
          224.01524880564793,
          184.6613092793881,
          266.6708536637562
         ],
         "yaxis": "y"
        },
        {
         "alignmentgroup": "True",
         "hovertemplate": "city=Pemangkat<br>Season=%{x}<br>co=%{y}<extra></extra>",
         "legendgroup": "Pemangkat",
         "marker": {
          "color": "#ab63fa",
          "pattern": {
           "shape": ""
          }
         },
         "name": "Pemangkat",
         "offsetgroup": "Pemangkat",
         "orientation": "v",
         "showlegend": true,
         "textposition": "auto",
         "type": "bar",
         "x": [
          "Autumn",
          "Spring",
          "Summer",
          "Winter"
         ],
         "xaxis": "x",
         "y": [
          425.56657048680484,
          403.0192735291801,
          386.4573397944648,
          334.9116547970627
         ],
         "yaxis": "y"
        },
        {
         "alignmentgroup": "True",
         "hovertemplate": "city=Pingliang<br>Season=%{x}<br>co=%{y}<extra></extra>",
         "legendgroup": "Pingliang",
         "marker": {
          "color": "#FFA15A",
          "pattern": {
           "shape": ""
          }
         },
         "name": "Pingliang",
         "offsetgroup": "Pingliang",
         "orientation": "v",
         "showlegend": true,
         "textposition": "auto",
         "type": "bar",
         "x": [
          "Autumn",
          "Spring",
          "Summer",
          "Winter"
         ],
         "xaxis": "x",
         "y": [
          340.6777954597486,
          286.526494321881,
          243.70890394790393,
          476.9972388304962
         ],
         "yaxis": "y"
        },
        {
         "alignmentgroup": "True",
         "hovertemplate": "city=Pisco<br>Season=%{x}<br>co=%{y}<extra></extra>",
         "legendgroup": "Pisco",
         "marker": {
          "color": "#19d3f3",
          "pattern": {
           "shape": ""
          }
         },
         "name": "Pisco",
         "offsetgroup": "Pisco",
         "orientation": "v",
         "showlegend": true,
         "textposition": "auto",
         "type": "bar",
         "x": [
          "Autumn",
          "Spring",
          "Summer",
          "Winter"
         ],
         "xaxis": "x",
         "y": [
          257.54667625791393,
          222.8790567765568,
          234.97037213081174,
          241.10171527777777
         ],
         "yaxis": "y"
        },
        {
         "alignmentgroup": "True",
         "hovertemplate": "city=Plover<br>Season=%{x}<br>co=%{y}<extra></extra>",
         "legendgroup": "Plover",
         "marker": {
          "color": "#FF6692",
          "pattern": {
           "shape": ""
          }
         },
         "name": "Plover",
         "offsetgroup": "Plover",
         "orientation": "v",
         "showlegend": true,
         "textposition": "auto",
         "type": "bar",
         "x": [
          "Autumn",
          "Spring",
          "Summer",
          "Winter"
         ],
         "xaxis": "x",
         "y": [
          242.6035347985348,
          247.8612290842359,
          236.3923603059581,
          283.9175146096253
         ],
         "yaxis": "y"
        },
        {
         "alignmentgroup": "True",
         "hovertemplate": "city=Polyarnyy<br>Season=%{x}<br>co=%{y}<extra></extra>",
         "legendgroup": "Polyarnyy",
         "marker": {
          "color": "#B6E880",
          "pattern": {
           "shape": ""
          }
         },
         "name": "Polyarnyy",
         "offsetgroup": "Polyarnyy",
         "orientation": "v",
         "showlegend": true,
         "textposition": "auto",
         "type": "bar",
         "x": [
          "Autumn",
          "Spring",
          "Summer",
          "Winter"
         ],
         "xaxis": "x",
         "y": [
          216.4336558011277,
          234.17955507615235,
          178.71184601449275,
          255.31283309410696
         ],
         "yaxis": "y"
        },
        {
         "alignmentgroup": "True",
         "hovertemplate": "city=Pombas<br>Season=%{x}<br>co=%{y}<extra></extra>",
         "legendgroup": "Pombas",
         "marker": {
          "color": "#FF97FF",
          "pattern": {
           "shape": ""
          }
         },
         "name": "Pombas",
         "offsetgroup": "Pombas",
         "orientation": "v",
         "showlegend": true,
         "textposition": "auto",
         "type": "bar",
         "x": [
          "Autumn",
          "Spring",
          "Summer",
          "Winter"
         ],
         "xaxis": "x",
         "y": [
          184.34483521571022,
          191.6526627887076,
          180.80822041062802,
          198.65679848576565
         ],
         "yaxis": "y"
        },
        {
         "alignmentgroup": "True",
         "hovertemplate": "city=Ponta Delgada<br>Season=%{x}<br>co=%{y}<extra></extra>",
         "legendgroup": "Ponta Delgada",
         "marker": {
          "color": "#FECB52",
          "pattern": {
           "shape": ""
          }
         },
         "name": "Ponta Delgada",
         "offsetgroup": "Ponta Delgada",
         "orientation": "v",
         "showlegend": true,
         "textposition": "auto",
         "type": "bar",
         "x": [
          "Autumn",
          "Spring",
          "Summer",
          "Winter"
         ],
         "xaxis": "x",
         "y": [
          193.7742661019536,
          202.46624285155124,
          184.66775930958133,
          205.0806642736383
         ],
         "yaxis": "y"
        },
        {
         "alignmentgroup": "True",
         "hovertemplate": "city=Poronaysk<br>Season=%{x}<br>co=%{y}<extra></extra>",
         "legendgroup": "Poronaysk",
         "marker": {
          "color": "#636efa",
          "pattern": {
           "shape": ""
          }
         },
         "name": "Poronaysk",
         "offsetgroup": "Poronaysk",
         "orientation": "v",
         "showlegend": true,
         "textposition": "auto",
         "type": "bar",
         "x": [
          "Autumn",
          "Spring",
          "Summer",
          "Winter"
         ],
         "xaxis": "x",
         "y": [
          223.61747533524905,
          244.78885778131902,
          195.16726089519238,
          266.48720972022505
         ],
         "yaxis": "y"
        },
        {
         "alignmentgroup": "True",
         "hovertemplate": "city=Port Alfred<br>Season=%{x}<br>co=%{y}<extra></extra>",
         "legendgroup": "Port Alfred",
         "marker": {
          "color": "#EF553B",
          "pattern": {
           "shape": ""
          }
         },
         "name": "Port Alfred",
         "offsetgroup": "Port Alfred",
         "orientation": "v",
         "showlegend": true,
         "textposition": "auto",
         "type": "bar",
         "x": [
          "Autumn",
          "Spring",
          "Summer",
          "Winter"
         ],
         "xaxis": "x",
         "y": [
          245.20392865541587,
          226.33002703523067,
          197.0529765917345,
          267.3671690821256
         ],
         "yaxis": "y"
        },
        {
         "alignmentgroup": "True",
         "hovertemplate": "city=Port Douglas<br>Season=%{x}<br>co=%{y}<extra></extra>",
         "legendgroup": "Port Douglas",
         "marker": {
          "color": "#00cc96",
          "pattern": {
           "shape": ""
          }
         },
         "name": "Port Douglas",
         "offsetgroup": "Port Douglas",
         "orientation": "v",
         "showlegend": true,
         "textposition": "auto",
         "type": "bar",
         "x": [
          "Autumn",
          "Spring",
          "Summer",
          "Winter"
         ],
         "xaxis": "x",
         "y": [
          210.88680052212138,
          206.46111200581032,
          209.56824510617676,
          205.9872001170126
         ],
         "yaxis": "y"
        },
        {
         "alignmentgroup": "True",
         "hovertemplate": "city=Port Elizabeth<br>Season=%{x}<br>co=%{y}<extra></extra>",
         "legendgroup": "Port Elizabeth",
         "marker": {
          "color": "#ab63fa",
          "pattern": {
           "shape": ""
          }
         },
         "name": "Port Elizabeth",
         "offsetgroup": "Port Elizabeth",
         "orientation": "v",
         "showlegend": true,
         "textposition": "auto",
         "type": "bar",
         "x": [
          "Autumn",
          "Spring",
          "Summer",
          "Winter"
         ],
         "xaxis": "x",
         "y": [
          389.1934940436611,
          299.3394993980738,
          216.625309423686,
          573.044870018116
         ],
         "yaxis": "y"
        },
        {
         "alignmentgroup": "True",
         "hovertemplate": "city=Port Isabel<br>Season=%{x}<br>co=%{y}<extra></extra>",
         "legendgroup": "Port Isabel",
         "marker": {
          "color": "#FFA15A",
          "pattern": {
           "shape": ""
          }
         },
         "name": "Port Isabel",
         "offsetgroup": "Port Isabel",
         "orientation": "v",
         "showlegend": true,
         "textposition": "auto",
         "type": "bar",
         "x": [
          "Autumn",
          "Spring",
          "Summer",
          "Winter"
         ],
         "xaxis": "x",
         "y": [
          214.43037087912091,
          239.91437834883868,
          216.1545701992754,
          225.48925116403134
         ],
         "yaxis": "y"
        },
        {
         "alignmentgroup": "True",
         "hovertemplate": "city=Port Lincoln<br>Season=%{x}<br>co=%{y}<extra></extra>",
         "legendgroup": "Port Lincoln",
         "marker": {
          "color": "#19d3f3",
          "pattern": {
           "shape": ""
          }
         },
         "name": "Port Lincoln",
         "offsetgroup": "Port Lincoln",
         "orientation": "v",
         "showlegend": true,
         "textposition": "auto",
         "type": "bar",
         "x": [
          "Autumn",
          "Spring",
          "Summer",
          "Winter"
         ],
         "xaxis": "x",
         "y": [
          213.67755349506774,
          208.38949088985726,
          190.79458113596624,
          219.49940824684575
         ],
         "yaxis": "y"
        },
        {
         "alignmentgroup": "True",
         "hovertemplate": "city=Port Mathurin<br>Season=%{x}<br>co=%{y}<extra></extra>",
         "legendgroup": "Port Mathurin",
         "marker": {
          "color": "#FF6692",
          "pattern": {
           "shape": ""
          }
         },
         "name": "Port Mathurin",
         "offsetgroup": "Port Mathurin",
         "orientation": "v",
         "showlegend": true,
         "textposition": "auto",
         "type": "bar",
         "x": [
          "Autumn",
          "Spring",
          "Summer",
          "Winter"
         ],
         "xaxis": "x",
         "y": [
          219.88647489243837,
          213.93704392517594,
          211.90127527545428,
          212.04811505392757
         ],
         "yaxis": "y"
        },
        {
         "alignmentgroup": "True",
         "hovertemplate": "city=Port Saint John's<br>Season=%{x}<br>co=%{y}<extra></extra>",
         "legendgroup": "Port Saint John's",
         "marker": {
          "color": "#B6E880",
          "pattern": {
           "shape": ""
          }
         },
         "name": "Port Saint John's",
         "offsetgroup": "Port Saint John's",
         "orientation": "v",
         "showlegend": true,
         "textposition": "auto",
         "type": "bar",
         "x": [
          "Autumn",
          "Spring",
          "Summer",
          "Winter"
         ],
         "xaxis": "x",
         "y": [
          292.9838134262252,
          268.69876888093177,
          213.1821980855773,
          385.5333153180354
         ],
         "yaxis": "y"
        },
        {
         "alignmentgroup": "True",
         "hovertemplate": "city=Port Shepstone<br>Season=%{x}<br>co=%{y}<extra></extra>",
         "legendgroup": "Port Shepstone",
         "marker": {
          "color": "#FF97FF",
          "pattern": {
           "shape": ""
          }
         },
         "name": "Port Shepstone",
         "offsetgroup": "Port Shepstone",
         "orientation": "v",
         "showlegend": true,
         "textposition": "auto",
         "type": "bar",
         "x": [
          "Autumn",
          "Spring",
          "Summer",
          "Winter"
         ],
         "xaxis": "x",
         "y": [
          335.7132615674613,
          319.85505870066265,
          231.54849393603104,
          464.1520508252818
         ],
         "yaxis": "y"
        },
        {
         "alignmentgroup": "True",
         "hovertemplate": "city=Portland<br>Season=%{x}<br>co=%{y}<extra></extra>",
         "legendgroup": "Portland",
         "marker": {
          "color": "#FECB52",
          "pattern": {
           "shape": ""
          }
         },
         "name": "Portland",
         "offsetgroup": "Portland",
         "orientation": "v",
         "showlegend": true,
         "textposition": "auto",
         "type": "bar",
         "x": [
          "Autumn",
          "Spring",
          "Summer",
          "Winter"
         ],
         "xaxis": "x",
         "y": [
          341.61221153846157,
          312.6851485676718,
          214.9965321557971,
          423.4358040987967
         ],
         "yaxis": "y"
        },
        {
         "alignmentgroup": "True",
         "hovertemplate": "city=Porto Novo<br>Season=%{x}<br>co=%{y}<extra></extra>",
         "legendgroup": "Porto Novo",
         "marker": {
          "color": "#636efa",
          "pattern": {
           "shape": ""
          }
         },
         "name": "Porto Novo",
         "offsetgroup": "Porto Novo",
         "orientation": "v",
         "showlegend": true,
         "textposition": "auto",
         "type": "bar",
         "x": [
          "Autumn",
          "Spring",
          "Summer",
          "Winter"
         ],
         "xaxis": "x",
         "y": [
          187.95020398351647,
          194.7010782771208,
          184.19594771537845,
          202.03437195043657
         ],
         "yaxis": "y"
        },
        {
         "alignmentgroup": "True",
         "hovertemplate": "city=Praia Da Vitoria<br>Season=%{x}<br>co=%{y}<extra></extra>",
         "legendgroup": "Praia Da Vitoria",
         "marker": {
          "color": "#EF553B",
          "pattern": {
           "shape": ""
          }
         },
         "name": "Praia Da Vitoria",
         "offsetgroup": "Praia Da Vitoria",
         "orientation": "v",
         "showlegend": true,
         "textposition": "auto",
         "type": "bar",
         "x": [
          "Autumn",
          "Spring",
          "Summer",
          "Winter"
         ],
         "xaxis": "x",
         "y": [
          198.0263907203907,
          207.815610389555,
          190.16641883051528,
          209.18427349692445
         ],
         "yaxis": "y"
        },
        {
         "alignmentgroup": "True",
         "hovertemplate": "city=Prince Rupert<br>Season=%{x}<br>co=%{y}<extra></extra>",
         "legendgroup": "Prince Rupert",
         "marker": {
          "color": "#00cc96",
          "pattern": {
           "shape": ""
          }
         },
         "name": "Prince Rupert",
         "offsetgroup": "Prince Rupert",
         "orientation": "v",
         "showlegend": true,
         "textposition": "auto",
         "type": "bar",
         "x": [
          "Autumn",
          "Spring",
          "Summer",
          "Winter"
         ],
         "xaxis": "x",
         "y": [
          198.79064102564104,
          224.10393949607658,
          172.6603687600644,
          229.71329227122928
         ],
         "yaxis": "y"
        },
        {
         "alignmentgroup": "True",
         "hovertemplate": "city=Puerto Ayora<br>Season=%{x}<br>co=%{y}<extra></extra>",
         "legendgroup": "Puerto Ayora",
         "marker": {
          "color": "#ab63fa",
          "pattern": {
           "shape": ""
          }
         },
         "name": "Puerto Ayora",
         "offsetgroup": "Puerto Ayora",
         "orientation": "v",
         "showlegend": true,
         "textposition": "auto",
         "type": "bar",
         "x": [
          "Autumn",
          "Spring",
          "Summer",
          "Winter"
         ],
         "xaxis": "x",
         "y": [
          251.82908725645083,
          229.59655677655672,
          223.3453065919485,
          229.5361597725443
         ],
         "yaxis": "y"
        },
        {
         "alignmentgroup": "True",
         "hovertemplate": "city=Puerto Baquerizo Moreno<br>Season=%{x}<br>co=%{y}<extra></extra>",
         "legendgroup": "Puerto Baquerizo Moreno",
         "marker": {
          "color": "#FFA15A",
          "pattern": {
           "shape": ""
          }
         },
         "name": "Puerto Baquerizo Moreno",
         "offsetgroup": "Puerto Baquerizo Moreno",
         "orientation": "v",
         "showlegend": true,
         "textposition": "auto",
         "type": "bar",
         "x": [
          "Autumn",
          "Spring",
          "Summer",
          "Winter"
         ],
         "xaxis": "x",
         "y": [
          251.26344974394055,
          230.413733974359,
          222.23652065448678,
          229.89787218196454
         ],
         "yaxis": "y"
        },
        {
         "alignmentgroup": "True",
         "hovertemplate": "city=Puerto Natales<br>Season=%{x}<br>co=%{y}<extra></extra>",
         "legendgroup": "Puerto Natales",
         "marker": {
          "color": "#19d3f3",
          "pattern": {
           "shape": ""
          }
         },
         "name": "Puerto Natales",
         "offsetgroup": "Puerto Natales",
         "orientation": "v",
         "showlegend": true,
         "textposition": "auto",
         "type": "bar",
         "x": [
          "Autumn",
          "Spring",
          "Summer",
          "Winter"
         ],
         "xaxis": "x",
         "y": [
          224.2563384085768,
          212.07986202686203,
          181.60831523849265,
          258.2459274859098
         ],
         "yaxis": "y"
        },
        {
         "alignmentgroup": "True",
         "hovertemplate": "city=Puerto Pimentel<br>Season=%{x}<br>co=%{y}<extra></extra>",
         "legendgroup": "Puerto Pimentel",
         "marker": {
          "color": "#FF6692",
          "pattern": {
           "shape": ""
          }
         },
         "name": "Puerto Pimentel",
         "offsetgroup": "Puerto Pimentel",
         "orientation": "v",
         "showlegend": true,
         "textposition": "auto",
         "type": "bar",
         "x": [
          "Autumn",
          "Spring",
          "Summer",
          "Winter"
         ],
         "xaxis": "x",
         "y": [
          251.22974444585665,
          210.13415979853477,
          227.5959451162656,
          221.6901170994364
         ],
         "yaxis": "y"
        },
        {
         "alignmentgroup": "True",
         "hovertemplate": "city=Puerto San Jose<br>Season=%{x}<br>co=%{y}<extra></extra>",
         "legendgroup": "Puerto San Jose",
         "marker": {
          "color": "#B6E880",
          "pattern": {
           "shape": ""
          }
         },
         "name": "Puerto San Jose",
         "offsetgroup": "Puerto San Jose",
         "orientation": "v",
         "showlegend": true,
         "textposition": "auto",
         "type": "bar",
         "x": [
          "Autumn",
          "Spring",
          "Summer",
          "Winter"
         ],
         "xaxis": "x",
         "y": [
          655.0003663003663,
          503.63590893277313,
          552.4353227153783,
          565.0275564245665
         ],
         "yaxis": "y"
        },
        {
         "alignmentgroup": "True",
         "hovertemplate": "city=Pulaski<br>Season=%{x}<br>co=%{y}<extra></extra>",
         "legendgroup": "Pulaski",
         "marker": {
          "color": "#FF97FF",
          "pattern": {
           "shape": ""
          }
         },
         "name": "Pulaski",
         "offsetgroup": "Pulaski",
         "orientation": "v",
         "showlegend": true,
         "textposition": "auto",
         "type": "bar",
         "x": [
          "Autumn",
          "Spring",
          "Summer",
          "Winter"
         ],
         "xaxis": "x",
         "y": [
          217.45117216117217,
          227.15634763272143,
          223.98373173309187,
          249.29694720357327
         ],
         "yaxis": "y"
        },
        {
         "alignmentgroup": "True",
         "hovertemplate": "city=Punta Arenas<br>Season=%{x}<br>co=%{y}<extra></extra>",
         "legendgroup": "Punta Arenas",
         "marker": {
          "color": "#FECB52",
          "pattern": {
           "shape": ""
          }
         },
         "name": "Punta Arenas",
         "offsetgroup": "Punta Arenas",
         "orientation": "v",
         "showlegend": true,
         "textposition": "auto",
         "type": "bar",
         "x": [
          "Autumn",
          "Spring",
          "Summer",
          "Winter"
         ],
         "xaxis": "x",
         "y": [
          217.99543113111238,
          211.3669872812373,
          183.17990850927558,
          244.60416319444445
         ],
         "yaxis": "y"
        },
        {
         "alignmentgroup": "True",
         "hovertemplate": "city=Pyapon<br>Season=%{x}<br>co=%{y}<extra></extra>",
         "legendgroup": "Pyapon",
         "marker": {
          "color": "#636efa",
          "pattern": {
           "shape": ""
          }
         },
         "name": "Pyapon",
         "offsetgroup": "Pyapon",
         "orientation": "v",
         "showlegend": true,
         "textposition": "auto",
         "type": "bar",
         "x": [
          "Autumn",
          "Spring",
          "Summer",
          "Winter"
         ],
         "xaxis": "x",
         "y": [
          658.4527454006668,
          455.51204446794526,
          313.18661408730156,
          808.33197121793
         ],
         "yaxis": "y"
        },
        {
         "alignmentgroup": "True",
         "hovertemplate": "city=Qamdo<br>Season=%{x}<br>co=%{y}<extra></extra>",
         "legendgroup": "Qamdo",
         "marker": {
          "color": "#EF553B",
          "pattern": {
           "shape": ""
          }
         },
         "name": "Qamdo",
         "offsetgroup": "Qamdo",
         "orientation": "v",
         "showlegend": true,
         "textposition": "auto",
         "type": "bar",
         "x": [
          "Autumn",
          "Spring",
          "Summer",
          "Winter"
         ],
         "xaxis": "x",
         "y": [
          185.53497273325925,
          212.15520835061344,
          182.33768246336996,
          199.71014072321273
         ],
         "yaxis": "y"
        },
        {
         "alignmentgroup": "True",
         "hovertemplate": "city=Qaqortoq<br>Season=%{x}<br>co=%{y}<extra></extra>",
         "legendgroup": "Qaqortoq",
         "marker": {
          "color": "#00cc96",
          "pattern": {
           "shape": ""
          }
         },
         "name": "Qaqortoq",
         "offsetgroup": "Qaqortoq",
         "orientation": "v",
         "showlegend": true,
         "textposition": "auto",
         "type": "bar",
         "x": [
          "Autumn",
          "Spring",
          "Summer",
          "Winter"
         ],
         "xaxis": "x",
         "y": [
          218.10560172466427,
          230.8425365910663,
          195.477120873591,
          231.47582251846552
         ],
         "yaxis": "y"
        },
        {
         "alignmentgroup": "True",
         "hovertemplate": "city=Qarazhal<br>Season=%{x}<br>co=%{y}<extra></extra>",
         "legendgroup": "Qarazhal",
         "marker": {
          "color": "#ab63fa",
          "pattern": {
           "shape": ""
          }
         },
         "name": "Qarazhal",
         "offsetgroup": "Qarazhal",
         "orientation": "v",
         "showlegend": true,
         "textposition": "auto",
         "type": "bar",
         "x": [
          "Autumn",
          "Spring",
          "Summer",
          "Winter"
         ],
         "xaxis": "x",
         "y": [
          199.66915218442605,
          214.36749524207255,
          180.97675272181522,
          236.8496785309206
         ],
         "yaxis": "y"
        },
        {
         "alignmentgroup": "True",
         "hovertemplate": "city=Quang Ngai<br>Season=%{x}<br>co=%{y}<extra></extra>",
         "legendgroup": "Quang Ngai",
         "marker": {
          "color": "#FFA15A",
          "pattern": {
           "shape": ""
          }
         },
         "name": "Quang Ngai",
         "offsetgroup": "Quang Ngai",
         "orientation": "v",
         "showlegend": true,
         "textposition": "auto",
         "type": "bar",
         "x": [
          "Autumn",
          "Spring",
          "Summer",
          "Winter"
         ],
         "xaxis": "x",
         "y": [
          582.9187159715284,
          543.6091525600866,
          630.6170656288156,
          484.75932365803925
         ],
         "yaxis": "y"
        },
        {
         "alignmentgroup": "True",
         "hovertemplate": "city=Queenstown<br>Season=%{x}<br>co=%{y}<extra></extra>",
         "legendgroup": "Queenstown",
         "marker": {
          "color": "#19d3f3",
          "pattern": {
           "shape": ""
          }
         },
         "name": "Queenstown",
         "offsetgroup": "Queenstown",
         "orientation": "v",
         "showlegend": true,
         "textposition": "auto",
         "type": "bar",
         "x": [
          "Autumn",
          "Spring",
          "Summer",
          "Winter"
         ],
         "xaxis": "x",
         "y": [
          257.8932854773837,
          257.6126815296127,
          212.42882098069072,
          275.8966632447665
         ],
         "yaxis": "y"
        },
        {
         "alignmentgroup": "True",
         "hovertemplate": "city=Radolfzell Am Bodensee<br>Season=%{x}<br>co=%{y}<extra></extra>",
         "legendgroup": "Radolfzell Am Bodensee",
         "marker": {
          "color": "#FF6692",
          "pattern": {
           "shape": ""
          }
         },
         "name": "Radolfzell Am Bodensee",
         "offsetgroup": "Radolfzell Am Bodensee",
         "orientation": "v",
         "showlegend": true,
         "textposition": "auto",
         "type": "bar",
         "x": [
          "Autumn",
          "Spring",
          "Summer",
          "Winter"
         ],
         "xaxis": "x",
         "y": [
          245.52168050582378,
          234.08882820406276,
          183.8793554247182,
          334.3593850429232
         ],
         "yaxis": "y"
        },
        {
         "alignmentgroup": "True",
         "hovertemplate": "city=Rajapalaiyam<br>Season=%{x}<br>co=%{y}<extra></extra>",
         "legendgroup": "Rajapalaiyam",
         "marker": {
          "color": "#B6E880",
          "pattern": {
           "shape": ""
          }
         },
         "name": "Rajapalaiyam",
         "offsetgroup": "Rajapalaiyam",
         "orientation": "v",
         "showlegend": true,
         "textposition": "auto",
         "type": "bar",
         "x": [
          "Autumn",
          "Spring",
          "Summer",
          "Winter"
         ],
         "xaxis": "x",
         "y": [
          450.7651601535169,
          379.0447019622977,
          277.4448741351241,
          502.39699563736644
         ],
         "yaxis": "y"
        },
        {
         "alignmentgroup": "True",
         "hovertemplate": "city=Rampur<br>Season=%{x}<br>co=%{y}<extra></extra>",
         "legendgroup": "Rampur",
         "marker": {
          "color": "#FF97FF",
          "pattern": {
           "shape": ""
          }
         },
         "name": "Rampur",
         "offsetgroup": "Rampur",
         "orientation": "v",
         "showlegend": true,
         "textposition": "auto",
         "type": "bar",
         "x": [
          "Autumn",
          "Spring",
          "Summer",
          "Winter"
         ],
         "xaxis": "x",
         "y": [
          1219.6616596956414,
          866.9435708019245,
          734.006197903948,
          1440.2049219991989
         ],
         "yaxis": "y"
        },
        {
         "alignmentgroup": "True",
         "hovertemplate": "city=Rawson<br>Season=%{x}<br>co=%{y}<extra></extra>",
         "legendgroup": "Rawson",
         "marker": {
          "color": "#FECB52",
          "pattern": {
           "shape": ""
          }
         },
         "name": "Rawson",
         "offsetgroup": "Rawson",
         "orientation": "v",
         "showlegend": true,
         "textposition": "auto",
         "type": "bar",
         "x": [
          "Autumn",
          "Spring",
          "Summer",
          "Winter"
         ],
         "xaxis": "x",
         "y": [
          230.3919729302106,
          217.6206687016687,
          203.21230375409667,
          246.56831375805152
         ],
         "yaxis": "y"
        },
        {
         "alignmentgroup": "True",
         "hovertemplate": "city=Reggane<br>Season=%{x}<br>co=%{y}<extra></extra>",
         "legendgroup": "Reggane",
         "marker": {
          "color": "#636efa",
          "pattern": {
           "shape": ""
          }
         },
         "name": "Reggane",
         "offsetgroup": "Reggane",
         "orientation": "v",
         "showlegend": true,
         "textposition": "auto",
         "type": "bar",
         "x": [
          "Autumn",
          "Spring",
          "Summer",
          "Winter"
         ],
         "xaxis": "x",
         "y": [
          184.61791974460724,
          195.68924324887084,
          186.07820274758456,
          208.05841775044635
         ],
         "yaxis": "y"
        },
        {
         "alignmentgroup": "True",
         "hovertemplate": "city=Reggio Emilia<br>Season=%{x}<br>co=%{y}<extra></extra>",
         "legendgroup": "Reggio Emilia",
         "marker": {
          "color": "#EF553B",
          "pattern": {
           "shape": ""
          }
         },
         "name": "Reggio Emilia",
         "offsetgroup": "Reggio Emilia",
         "orientation": "v",
         "showlegend": true,
         "textposition": "auto",
         "type": "bar",
         "x": [
          "Autumn",
          "Spring",
          "Summer",
          "Winter"
         ],
         "xaxis": "x",
         "y": [
          445.4481957906326,
          354.9804063593242,
          240.66590313003223,
          719.9631860562343
         ],
         "yaxis": "y"
        },
        {
         "alignmentgroup": "True",
         "hovertemplate": "city=Ribeira Grande<br>Season=%{x}<br>co=%{y}<extra></extra>",
         "legendgroup": "Ribeira Grande",
         "marker": {
          "color": "#00cc96",
          "pattern": {
           "shape": ""
          }
         },
         "name": "Ribeira Grande",
         "offsetgroup": "Ribeira Grande",
         "orientation": "v",
         "showlegend": true,
         "textposition": "auto",
         "type": "bar",
         "x": [
          "Autumn",
          "Spring",
          "Summer",
          "Winter"
         ],
         "xaxis": "x",
         "y": [
          184.34483521571022,
          191.6526627887076,
          180.80822041062802,
          198.65679848576565
         ],
         "yaxis": "y"
        },
        {
         "alignmentgroup": "True",
         "hovertemplate": "city=Rio Grande<br>Season=%{x}<br>co=%{y}<extra></extra>",
         "legendgroup": "Rio Grande",
         "marker": {
          "color": "#ab63fa",
          "pattern": {
           "shape": ""
          }
         },
         "name": "Rio Grande",
         "offsetgroup": "Rio Grande",
         "orientation": "v",
         "showlegend": true,
         "textposition": "auto",
         "type": "bar",
         "x": [
          "Autumn",
          "Spring",
          "Summer",
          "Winter"
         ],
         "xaxis": "x",
         "y": [
          262.01069108624006,
          244.42443536324788,
          226.26617723084357,
          279.81999421296297
         ],
         "yaxis": "y"
        },
        {
         "alignmentgroup": "True",
         "hovertemplate": "city=Riviere-Du-Loup<br>Season=%{x}<br>co=%{y}<extra></extra>",
         "legendgroup": "Riviere-Du-Loup",
         "marker": {
          "color": "#FFA15A",
          "pattern": {
           "shape": ""
          }
         },
         "name": "Riviere-Du-Loup",
         "offsetgroup": "Riviere-Du-Loup",
         "orientation": "v",
         "showlegend": true,
         "textposition": "auto",
         "type": "bar",
         "x": [
          "Autumn",
          "Spring",
          "Summer",
          "Winter"
         ],
         "xaxis": "x",
         "y": [
          245.94280586080586,
          254.36604745512435,
          240.99520727657003,
          257.66392032461414
         ],
         "yaxis": "y"
        },
        {
         "alignmentgroup": "True",
         "hovertemplate": "city=Rundu<br>Season=%{x}<br>co=%{y}<extra></extra>",
         "legendgroup": "Rundu",
         "marker": {
          "color": "#19d3f3",
          "pattern": {
           "shape": ""
          }
         },
         "name": "Rundu",
         "offsetgroup": "Rundu",
         "orientation": "v",
         "showlegend": true,
         "textposition": "auto",
         "type": "bar",
         "x": [
          "Autumn",
          "Spring",
          "Summer",
          "Winter"
         ],
         "xaxis": "x",
         "y": [
          224.95597260392992,
          299.40140099600774,
          249.75726221430406,
          254.7967650462963
         ],
         "yaxis": "y"
        },
        {
         "alignmentgroup": "True",
         "hovertemplate": "city=Saddiqabad<br>Season=%{x}<br>co=%{y}<extra></extra>",
         "legendgroup": "Saddiqabad",
         "marker": {
          "color": "#FF6692",
          "pattern": {
           "shape": ""
          }
         },
         "name": "Saddiqabad",
         "offsetgroup": "Saddiqabad",
         "orientation": "v",
         "showlegend": true,
         "textposition": "auto",
         "type": "bar",
         "x": [
          "Autumn",
          "Spring",
          "Summer",
          "Winter"
         ],
         "xaxis": "x",
         "y": [
          636.2808227095938,
          465.252793097636,
          329.89320604395607,
          1062.2695343224925
         ],
         "yaxis": "y"
        },
        {
         "alignmentgroup": "True",
         "hovertemplate": "city=Saint-Philippe<br>Season=%{x}<br>co=%{y}<extra></extra>",
         "legendgroup": "Saint-Philippe",
         "marker": {
          "color": "#B6E880",
          "pattern": {
           "shape": ""
          }
         },
         "name": "Saint-Philippe",
         "offsetgroup": "Saint-Philippe",
         "orientation": "v",
         "showlegend": true,
         "textposition": "auto",
         "type": "bar",
         "x": [
          "Autumn",
          "Spring",
          "Summer",
          "Winter"
         ],
         "xaxis": "x",
         "y": [
          319.91128408628407,
          323.82728818244374,
          289.14520828301124,
          390.0481572573495
         ],
         "yaxis": "y"
        },
        {
         "alignmentgroup": "True",
         "hovertemplate": "city=Saldanha<br>Season=%{x}<br>co=%{y}<extra></extra>",
         "legendgroup": "Saldanha",
         "marker": {
          "color": "#FF97FF",
          "pattern": {
           "shape": ""
          }
         },
         "name": "Saldanha",
         "offsetgroup": "Saldanha",
         "orientation": "v",
         "showlegend": true,
         "textposition": "auto",
         "type": "bar",
         "x": [
          "Autumn",
          "Spring",
          "Summer",
          "Winter"
         ],
         "xaxis": "x",
         "y": [
          289.4950587567257,
          250.3543925947648,
          215.61369952934305,
          307.0463194444444
         ],
         "yaxis": "y"
        },
        {
         "alignmentgroup": "True",
         "hovertemplate": "city=San Antonio Oeste<br>Season=%{x}<br>co=%{y}<extra></extra>",
         "legendgroup": "San Antonio Oeste",
         "marker": {
          "color": "#FECB52",
          "pattern": {
           "shape": ""
          }
         },
         "name": "San Antonio Oeste",
         "offsetgroup": "San Antonio Oeste",
         "orientation": "v",
         "showlegend": true,
         "textposition": "auto",
         "type": "bar",
         "x": [
          "Autumn",
          "Spring",
          "Summer",
          "Winter"
         ],
         "xaxis": "x",
         "y": [
          228.18062989949507,
          222.96337126068374,
          215.6699711170421,
          237.37091656602254
         ],
         "yaxis": "y"
        },
        {
         "alignmentgroup": "True",
         "hovertemplate": "city=San Javier<br>Season=%{x}<br>co=%{y}<extra></extra>",
         "legendgroup": "San Javier",
         "marker": {
          "color": "#636efa",
          "pattern": {
           "shape": ""
          }
         },
         "name": "San Javier",
         "offsetgroup": "San Javier",
         "orientation": "v",
         "showlegend": true,
         "textposition": "auto",
         "type": "bar",
         "x": [
          "Autumn",
          "Spring",
          "Summer",
          "Winter"
         ],
         "xaxis": "x",
         "y": [
          304.72221567658164,
          247.99500305250308,
          249.8274702992394,
          358.9041292270532
         ],
         "yaxis": "y"
        },
        {
         "alignmentgroup": "True",
         "hovertemplate": "city=San Jose Del Guaviare<br>Season=%{x}<br>co=%{y}<extra></extra>",
         "legendgroup": "San Jose Del Guaviare",
         "marker": {
          "color": "#EF553B",
          "pattern": {
           "shape": ""
          }
         },
         "name": "San Jose Del Guaviare",
         "offsetgroup": "San Jose Del Guaviare",
         "orientation": "v",
         "showlegend": true,
         "textposition": "auto",
         "type": "bar",
         "x": [
          "Autumn",
          "Spring",
          "Summer",
          "Winter"
         ],
         "xaxis": "x",
         "y": [
          233.78620907102157,
          212.92754500153544,
          203.09726237922706,
          220.9593998398024
         ],
         "yaxis": "y"
        },
        {
         "alignmentgroup": "True",
         "hovertemplate": "city=San Julian<br>Season=%{x}<br>co=%{y}<extra></extra>",
         "legendgroup": "San Julian",
         "marker": {
          "color": "#00cc96",
          "pattern": {
           "shape": ""
          }
         },
         "name": "San Julian",
         "offsetgroup": "San Julian",
         "orientation": "v",
         "showlegend": true,
         "textposition": "auto",
         "type": "bar",
         "x": [
          "Autumn",
          "Spring",
          "Summer",
          "Winter"
         ],
         "xaxis": "x",
         "y": [
          216.40821696478403,
          207.8365510531135,
          184.46017832303053,
          236.58199401167474
         ],
         "yaxis": "y"
        },
        {
         "alignmentgroup": "True",
         "hovertemplate": "city=San Pablo De Las Salinas<br>Season=%{x}<br>co=%{y}<extra></extra>",
         "legendgroup": "San Pablo De Las Salinas",
         "marker": {
          "color": "#ab63fa",
          "pattern": {
           "shape": ""
          }
         },
         "name": "San Pablo De Las Salinas",
         "offsetgroup": "San Pablo De Las Salinas",
         "orientation": "v",
         "showlegend": true,
         "textposition": "auto",
         "type": "bar",
         "x": [
          "Autumn",
          "Spring",
          "Summer",
          "Winter"
         ],
         "xaxis": "x",
         "y": [
          928.8341437728936,
          1114.4870066789115,
          1021.5586912741546,
          1286.6316062600888
         ],
         "yaxis": "y"
        },
        {
         "alignmentgroup": "True",
         "hovertemplate": "city=San Patricio<br>Season=%{x}<br>co=%{y}<extra></extra>",
         "legendgroup": "San Patricio",
         "marker": {
          "color": "#FFA15A",
          "pattern": {
           "shape": ""
          }
         },
         "name": "San Patricio",
         "offsetgroup": "San Patricio",
         "orientation": "v",
         "showlegend": true,
         "textposition": "auto",
         "type": "bar",
         "x": [
          "Autumn",
          "Spring",
          "Summer",
          "Winter"
         ],
         "xaxis": "x",
         "y": [
          224.36856913919416,
          212.71774195370668,
          228.62028125,
          224.97013488394842
         ],
         "yaxis": "y"
        },
        {
         "alignmentgroup": "True",
         "hovertemplate": "city=San Pedro Pochutla<br>Season=%{x}<br>co=%{y}<extra></extra>",
         "legendgroup": "San Pedro Pochutla",
         "marker": {
          "color": "#19d3f3",
          "pattern": {
           "shape": ""
          }
         },
         "name": "San Pedro Pochutla",
         "offsetgroup": "San Pedro Pochutla",
         "orientation": "v",
         "showlegend": true,
         "textposition": "auto",
         "type": "bar",
         "x": [
          "Autumn",
          "Spring",
          "Summer",
          "Winter"
         ],
         "xaxis": "x",
         "y": [
          216.05287545787542,
          242.71211513020853,
          220.9202297202094,
          217.70559571578374
         ],
         "yaxis": "y"
        },
        {
         "alignmentgroup": "True",
         "hovertemplate": "city=Sandnessjoen<br>Season=%{x}<br>co=%{y}<extra></extra>",
         "legendgroup": "Sandnessjoen",
         "marker": {
          "color": "#FF6692",
          "pattern": {
           "shape": ""
          }
         },
         "name": "Sandnessjoen",
         "offsetgroup": "Sandnessjoen",
         "orientation": "v",
         "showlegend": true,
         "textposition": "auto",
         "type": "bar",
         "x": [
          "Autumn",
          "Spring",
          "Summer",
          "Winter"
         ],
         "xaxis": "x",
         "y": [
          208.63987961476727,
          225.89102693473626,
          178.52508705716588,
          230.68049879851787
         ],
         "yaxis": "y"
        },
        {
         "alignmentgroup": "True",
         "hovertemplate": "city=Sargodha<br>Season=%{x}<br>co=%{y}<extra></extra>",
         "legendgroup": "Sargodha",
         "marker": {
          "color": "#B6E880",
          "pattern": {
           "shape": ""
          }
         },
         "name": "Sargodha",
         "offsetgroup": "Sargodha",
         "orientation": "v",
         "showlegend": true,
         "textposition": "auto",
         "type": "bar",
         "x": [
          "Autumn",
          "Spring",
          "Summer",
          "Winter"
         ],
         "xaxis": "x",
         "y": [
          1179.0654175412603,
          796.4759926861562,
          666.2189828551079,
          1530.8990666234074
         ],
         "yaxis": "y"
        },
        {
         "alignmentgroup": "True",
         "hovertemplate": "city=Sarh<br>Season=%{x}<br>co=%{y}<extra></extra>",
         "legendgroup": "Sarh",
         "marker": {
          "color": "#FF97FF",
          "pattern": {
           "shape": ""
          }
         },
         "name": "Sarh",
         "offsetgroup": "Sarh",
         "orientation": "v",
         "showlegend": true,
         "textposition": "auto",
         "type": "bar",
         "x": [
          "Autumn",
          "Spring",
          "Summer",
          "Winter"
         ],
         "xaxis": "x",
         "y": [
          339.38179160493064,
          314.84788508397565,
          418.13706204710144,
          297.1508463073532
         ],
         "yaxis": "y"
        },
        {
         "alignmentgroup": "True",
         "hovertemplate": "city=Sariwon<br>Season=%{x}<br>co=%{y}<extra></extra>",
         "legendgroup": "Sariwon",
         "marker": {
          "color": "#FECB52",
          "pattern": {
           "shape": ""
          }
         },
         "name": "Sariwon",
         "offsetgroup": "Sariwon",
         "orientation": "v",
         "showlegend": true,
         "textposition": "auto",
         "type": "bar",
         "x": [
          "Autumn",
          "Spring",
          "Summer",
          "Winter"
         ],
         "xaxis": "x",
         "y": [
          532.5087490374209,
          454.04573269128446,
          403.60333903133903,
          661.5857131507264
         ],
         "yaxis": "y"
        },
        {
         "alignmentgroup": "True",
         "hovertemplate": "city=Sassandra<br>Season=%{x}<br>co=%{y}<extra></extra>",
         "legendgroup": "Sassandra",
         "marker": {
          "color": "#636efa",
          "pattern": {
           "shape": ""
          }
         },
         "name": "Sassandra",
         "offsetgroup": "Sassandra",
         "orientation": "v",
         "showlegend": true,
         "textposition": "auto",
         "type": "bar",
         "x": [
          "Autumn",
          "Spring",
          "Summer",
          "Winter"
         ],
         "xaxis": "x",
         "y": [
          312.85420024420023,
          287.9206168536837,
          302.5037403381642,
          311.78711230418594
         ],
         "yaxis": "y"
        },
        {
         "alignmentgroup": "True",
         "hovertemplate": "city=Savanna-La-Mar<br>Season=%{x}<br>co=%{y}<extra></extra>",
         "legendgroup": "Savanna-La-Mar",
         "marker": {
          "color": "#EF553B",
          "pattern": {
           "shape": ""
          }
         },
         "name": "Savanna-La-Mar",
         "offsetgroup": "Savanna-La-Mar",
         "orientation": "v",
         "showlegend": true,
         "textposition": "auto",
         "type": "bar",
         "x": [
          "Autumn",
          "Spring",
          "Summer",
          "Winter"
         ],
         "xaxis": "x",
         "y": [
          334.4082554945055,
          333.8117454813262,
          339.6902331924316,
          305.3257943959877
         ],
         "yaxis": "y"
        },
        {
         "alignmentgroup": "True",
         "hovertemplate": "city=Selkirk<br>Season=%{x}<br>co=%{y}<extra></extra>",
         "legendgroup": "Selkirk",
         "marker": {
          "color": "#00cc96",
          "pattern": {
           "shape": ""
          }
         },
         "name": "Selkirk",
         "offsetgroup": "Selkirk",
         "orientation": "v",
         "showlegend": true,
         "textposition": "auto",
         "type": "bar",
         "x": [
          "Autumn",
          "Spring",
          "Summer",
          "Winter"
         ],
         "xaxis": "x",
         "y": [
          235.47430402930402,
          238.78327557493427,
          221.62609556159418,
          266.6721652855736
         ],
         "yaxis": "y"
        },
        {
         "alignmentgroup": "True",
         "hovertemplate": "city=Seogwipo<br>Season=%{x}<br>co=%{y}<extra></extra>",
         "legendgroup": "Seogwipo",
         "marker": {
          "color": "#ab63fa",
          "pattern": {
           "shape": ""
          }
         },
         "name": "Seogwipo",
         "offsetgroup": "Seogwipo",
         "orientation": "v",
         "showlegend": true,
         "textposition": "auto",
         "type": "bar",
         "x": [
          "Autumn",
          "Spring",
          "Summer",
          "Winter"
         ],
         "xaxis": "x",
         "y": [
          242.60991328983516,
          291.16002019980857,
          255.25147234940982,
          300.3579203123854
         ],
         "yaxis": "y"
        },
        {
         "alignmentgroup": "True",
         "hovertemplate": "city=Serdar<br>Season=%{x}<br>co=%{y}<extra></extra>",
         "legendgroup": "Serdar",
         "marker": {
          "color": "#FFA15A",
          "pattern": {
           "shape": ""
          }
         },
         "name": "Serdar",
         "offsetgroup": "Serdar",
         "orientation": "v",
         "showlegend": true,
         "textposition": "auto",
         "type": "bar",
         "x": [
          "Autumn",
          "Spring",
          "Summer",
          "Winter"
         ],
         "xaxis": "x",
         "y": [
          209.49940239535746,
          219.4768356299509,
          189.38243195461945,
          254.00530483787634
         ],
         "yaxis": "y"
        },
        {
         "alignmentgroup": "True",
         "hovertemplate": "city=Shimanovsk<br>Season=%{x}<br>co=%{y}<extra></extra>",
         "legendgroup": "Shimanovsk",
         "marker": {
          "color": "#19d3f3",
          "pattern": {
           "shape": ""
          }
         },
         "name": "Shimanovsk",
         "offsetgroup": "Shimanovsk",
         "orientation": "v",
         "showlegend": true,
         "textposition": "auto",
         "type": "bar",
         "x": [
          "Autumn",
          "Spring",
          "Summer",
          "Winter"
         ],
         "xaxis": "x",
         "y": [
          221.24347506660007,
          245.5324032269649,
          196.6691266280016,
          253.67618015811868
         ],
         "yaxis": "y"
        },
        {
         "alignmentgroup": "True",
         "hovertemplate": "city=Shingu<br>Season=%{x}<br>co=%{y}<extra></extra>",
         "legendgroup": "Shingu",
         "marker": {
          "color": "#FF6692",
          "pattern": {
           "shape": ""
          }
         },
         "name": "Shingu",
         "offsetgroup": "Shingu",
         "orientation": "v",
         "showlegend": true,
         "textposition": "auto",
         "type": "bar",
         "x": [
          "Autumn",
          "Spring",
          "Summer",
          "Winter"
         ],
         "xaxis": "x",
         "y": [
          247.1307087964119,
          290.0861965281012,
          245.4030681216931,
          285.6372794034473
         ],
         "yaxis": "y"
        },
        {
         "alignmentgroup": "True",
         "hovertemplate": "city=Siguiri<br>Season=%{x}<br>co=%{y}<extra></extra>",
         "legendgroup": "Siguiri",
         "marker": {
          "color": "#B6E880",
          "pattern": {
           "shape": ""
          }
         },
         "name": "Siguiri",
         "offsetgroup": "Siguiri",
         "orientation": "v",
         "showlegend": true,
         "textposition": "auto",
         "type": "bar",
         "x": [
          "Autumn",
          "Spring",
          "Summer",
          "Winter"
         ],
         "xaxis": "x",
         "y": [
          292.1630265059015,
          324.40117566309465,
          295.9404182769726,
          268.3193465412295
         ],
         "yaxis": "y"
        },
        {
         "alignmentgroup": "True",
         "hovertemplate": "city=Sinop<br>Season=%{x}<br>co=%{y}<extra></extra>",
         "legendgroup": "Sinop",
         "marker": {
          "color": "#FF97FF",
          "pattern": {
           "shape": ""
          }
         },
         "name": "Sinop",
         "offsetgroup": "Sinop",
         "orientation": "v",
         "showlegend": true,
         "textposition": "auto",
         "type": "bar",
         "x": [
          "Autumn",
          "Spring",
          "Summer",
          "Winter"
         ],
         "xaxis": "x",
         "y": [
          218.50700621475903,
          243.00927612969645,
          206.94384576288246,
          256.7646875993592
         ],
         "yaxis": "y"
        },
        {
         "alignmentgroup": "True",
         "hovertemplate": "city=Sioux Center<br>Season=%{x}<br>co=%{y}<extra></extra>",
         "legendgroup": "Sioux Center",
         "marker": {
          "color": "#FECB52",
          "pattern": {
           "shape": ""
          }
         },
         "name": "Sioux Center",
         "offsetgroup": "Sioux Center",
         "orientation": "v",
         "showlegend": true,
         "textposition": "auto",
         "type": "bar",
         "x": [
          "Autumn",
          "Spring",
          "Summer",
          "Winter"
         ],
         "xaxis": "x",
         "y": [
          236.1899152930403,
          246.80977816115333,
          224.82896713969404,
          278.32725687565727
         ],
         "yaxis": "y"
        },
        {
         "alignmentgroup": "True",
         "hovertemplate": "city=Sisimiut<br>Season=%{x}<br>co=%{y}<extra></extra>",
         "legendgroup": "Sisimiut",
         "marker": {
          "color": "#636efa",
          "pattern": {
           "shape": ""
          }
         },
         "name": "Sisimiut",
         "offsetgroup": "Sisimiut",
         "orientation": "v",
         "showlegend": true,
         "textposition": "auto",
         "type": "bar",
         "x": [
          "Autumn",
          "Spring",
          "Summer",
          "Winter"
         ],
         "xaxis": "x",
         "y": [
          217.5217711640212,
          229.84506764542917,
          192.3627562399356,
          228.18084703726126
         ],
         "yaxis": "y"
        },
        {
         "alignmentgroup": "True",
         "hovertemplate": "city=Sitka<br>Season=%{x}<br>co=%{y}<extra></extra>",
         "legendgroup": "Sitka",
         "marker": {
          "color": "#EF553B",
          "pattern": {
           "shape": ""
          }
         },
         "name": "Sitka",
         "offsetgroup": "Sitka",
         "orientation": "v",
         "showlegend": true,
         "textposition": "auto",
         "type": "bar",
         "x": [
          "Autumn",
          "Spring",
          "Summer",
          "Winter"
         ],
         "xaxis": "x",
         "y": [
          201.24563644688646,
          224.6181351369696,
          176.69220777979066,
          223.0953536576418
         ],
         "yaxis": "y"
        },
        {
         "alignmentgroup": "True",
         "hovertemplate": "city=Smithers<br>Season=%{x}<br>co=%{y}<extra></extra>",
         "legendgroup": "Smithers",
         "marker": {
          "color": "#00cc96",
          "pattern": {
           "shape": ""
          }
         },
         "name": "Smithers",
         "offsetgroup": "Smithers",
         "orientation": "v",
         "showlegend": true,
         "textposition": "auto",
         "type": "bar",
         "x": [
          "Autumn",
          "Spring",
          "Summer",
          "Winter"
         ],
         "xaxis": "x",
         "y": [
          210.06383699633702,
          224.24799457470476,
          160.09266404991948,
          256.8042520773718
         ],
         "yaxis": "y"
        },
        {
         "alignmentgroup": "True",
         "hovertemplate": "city=Smolensk<br>Season=%{x}<br>co=%{y}<extra></extra>",
         "legendgroup": "Smolensk",
         "marker": {
          "color": "#ab63fa",
          "pattern": {
           "shape": ""
          }
         },
         "name": "Smolensk",
         "offsetgroup": "Smolensk",
         "orientation": "v",
         "showlegend": true,
         "textposition": "auto",
         "type": "bar",
         "x": [
          "Autumn",
          "Spring",
          "Summer",
          "Winter"
         ],
         "xaxis": "x",
         "y": [
          222.40066237601349,
          234.64391336644942,
          182.7070522342995,
          268.08469566274124
         ],
         "yaxis": "y"
        },
        {
         "alignmentgroup": "True",
         "hovertemplate": "city=Sorong<br>Season=%{x}<br>co=%{y}<extra></extra>",
         "legendgroup": "Sorong",
         "marker": {
          "color": "#FFA15A",
          "pattern": {
           "shape": ""
          }
         },
         "name": "Sorong",
         "offsetgroup": "Sorong",
         "orientation": "v",
         "showlegend": true,
         "textposition": "auto",
         "type": "bar",
         "x": [
          "Autumn",
          "Spring",
          "Summer",
          "Winter"
         ],
         "xaxis": "x",
         "y": [
          235.03839136815466,
          234.41302457958707,
          236.2070280017182,
          207.8938549043549
         ],
         "yaxis": "y"
        },
        {
         "alignmentgroup": "True",
         "hovertemplate": "city=St. John's<br>Season=%{x}<br>co=%{y}<extra></extra>",
         "legendgroup": "St. John's",
         "marker": {
          "color": "#19d3f3",
          "pattern": {
           "shape": ""
          }
         },
         "name": "St. John's",
         "offsetgroup": "St. John's",
         "orientation": "v",
         "showlegend": true,
         "textposition": "auto",
         "type": "bar",
         "x": [
          "Autumn",
          "Spring",
          "Summer",
          "Winter"
         ],
         "xaxis": "x",
         "y": [
          218.80302843915342,
          230.50693552961062,
          205.75885960144925,
          232.3336232405777
         ],
         "yaxis": "y"
        },
        {
         "alignmentgroup": "True",
         "hovertemplate": "city=Stanley<br>Season=%{x}<br>co=%{y}<extra></extra>",
         "legendgroup": "Stanley",
         "marker": {
          "color": "#FF6692",
          "pattern": {
           "shape": ""
          }
         },
         "name": "Stanley",
         "offsetgroup": "Stanley",
         "orientation": "v",
         "showlegend": true,
         "textposition": "auto",
         "type": "bar",
         "x": [
          "Autumn",
          "Spring",
          "Summer",
          "Winter"
         ],
         "xaxis": "x",
         "y": [
          224.54397771672774,
          230.63161801669222,
          188.80539789653784,
          245.81784682096384
         ],
         "yaxis": "y"
        },
        {
         "alignmentgroup": "True",
         "hovertemplate": "city=Stonegate<br>Season=%{x}<br>co=%{y}<extra></extra>",
         "legendgroup": "Stonegate",
         "marker": {
          "color": "#B6E880",
          "pattern": {
           "shape": ""
          }
         },
         "name": "Stonegate",
         "offsetgroup": "Stonegate",
         "orientation": "v",
         "showlegend": true,
         "textposition": "auto",
         "type": "bar",
         "x": [
          "Autumn",
          "Spring",
          "Summer",
          "Winter"
         ],
         "xaxis": "x",
         "y": [
          262.89044184981685,
          258.72219872837553,
          217.4787001811594,
          342.7920629188373
         ],
         "yaxis": "y"
        },
        {
         "alignmentgroup": "True",
         "hovertemplate": "city=Sudzha<br>Season=%{x}<br>co=%{y}<extra></extra>",
         "legendgroup": "Sudzha",
         "marker": {
          "color": "#FF97FF",
          "pattern": {
           "shape": ""
          }
         },
         "name": "Sudzha",
         "offsetgroup": "Sudzha",
         "orientation": "v",
         "showlegend": true,
         "textposition": "auto",
         "type": "bar",
         "x": [
          "Autumn",
          "Spring",
          "Summer",
          "Winter"
         ],
         "xaxis": "x",
         "y": [
          239.49937265917603,
          243.13090560380482,
          200.860276268116,
          269.87149537383084
         ],
         "yaxis": "y"
        },
        {
         "alignmentgroup": "True",
         "hovertemplate": "city=Suntar<br>Season=%{x}<br>co=%{y}<extra></extra>",
         "legendgroup": "Suntar",
         "marker": {
          "color": "#FECB52",
          "pattern": {
           "shape": ""
          }
         },
         "name": "Suntar",
         "offsetgroup": "Suntar",
         "orientation": "v",
         "showlegend": true,
         "textposition": "auto",
         "type": "bar",
         "x": [
          "Autumn",
          "Spring",
          "Summer",
          "Winter"
         ],
         "xaxis": "x",
         "y": [
          214.00353635947386,
          228.8454868518403,
          209.23701818783067,
          243.12971839307116
         ],
         "yaxis": "y"
        },
        {
         "alignmentgroup": "True",
         "hovertemplate": "city=Surat<br>Season=%{x}<br>co=%{y}<extra></extra>",
         "legendgroup": "Surat",
         "marker": {
          "color": "#636efa",
          "pattern": {
           "shape": ""
          }
         },
         "name": "Surat",
         "offsetgroup": "Surat",
         "orientation": "v",
         "showlegend": true,
         "textposition": "auto",
         "type": "bar",
         "x": [
          "Autumn",
          "Spring",
          "Summer",
          "Winter"
         ],
         "xaxis": "x",
         "y": [
          768.4268273860971,
          527.048065824786,
          405.6671403133903,
          712.2527969426407
         ],
         "yaxis": "y"
        },
        {
         "alignmentgroup": "True",
         "hovertemplate": "city=Taiynsha<br>Season=%{x}<br>co=%{y}<extra></extra>",
         "legendgroup": "Taiynsha",
         "marker": {
          "color": "#EF553B",
          "pattern": {
           "shape": ""
          }
         },
         "name": "Taiynsha",
         "offsetgroup": "Taiynsha",
         "orientation": "v",
         "showlegend": true,
         "textposition": "auto",
         "type": "bar",
         "x": [
          "Autumn",
          "Spring",
          "Summer",
          "Winter"
         ],
         "xaxis": "x",
         "y": [
          215.6274848746759,
          242.92570897501545,
          182.9827907000407,
          261.82793935113847
         ],
         "yaxis": "y"
        },
        {
         "alignmentgroup": "True",
         "hovertemplate": "city=Taksimo<br>Season=%{x}<br>co=%{y}<extra></extra>",
         "legendgroup": "Taksimo",
         "marker": {
          "color": "#00cc96",
          "pattern": {
           "shape": ""
          }
         },
         "name": "Taksimo",
         "offsetgroup": "Taksimo",
         "orientation": "v",
         "showlegend": true,
         "textposition": "auto",
         "type": "bar",
         "x": [
          "Autumn",
          "Spring",
          "Summer",
          "Winter"
         ],
         "xaxis": "x",
         "y": [
          211.71825645708458,
          228.0910847647855,
          161.36259104090354,
          253.99628058735053
         ],
         "yaxis": "y"
        },
        {
         "alignmentgroup": "True",
         "hovertemplate": "city=Taltal<br>Season=%{x}<br>co=%{y}<extra></extra>",
         "legendgroup": "Taltal",
         "marker": {
          "color": "#ab63fa",
          "pattern": {
           "shape": ""
          }
         },
         "name": "Taltal",
         "offsetgroup": "Taltal",
         "orientation": "v",
         "showlegend": true,
         "textposition": "auto",
         "type": "bar",
         "x": [
          "Autumn",
          "Spring",
          "Summer",
          "Winter"
         ],
         "xaxis": "x",
         "y": [
          236.1340705966263,
          203.8719268162393,
          214.2183084706019,
          229.4966090479066
         ],
         "yaxis": "y"
        },
        {
         "alignmentgroup": "True",
         "hovertemplate": "city=Tamanrasset<br>Season=%{x}<br>co=%{y}<extra></extra>",
         "legendgroup": "Tamanrasset",
         "marker": {
          "color": "#FFA15A",
          "pattern": {
           "shape": ""
          }
         },
         "name": "Tamanrasset",
         "offsetgroup": "Tamanrasset",
         "orientation": "v",
         "showlegend": true,
         "textposition": "auto",
         "type": "bar",
         "x": [
          "Autumn",
          "Spring",
          "Summer",
          "Winter"
         ],
         "xaxis": "x",
         "y": [
          159.6594393597975,
          186.09825917968018,
          175.04526836755232,
          181.08264595485727
         ],
         "yaxis": "y"
        },
        {
         "alignmentgroup": "True",
         "hovertemplate": "city=Tarawa<br>Season=%{x}<br>co=%{y}<extra></extra>",
         "legendgroup": "Tarawa",
         "marker": {
          "color": "#19d3f3",
          "pattern": {
           "shape": ""
          }
         },
         "name": "Tarawa",
         "offsetgroup": "Tarawa",
         "orientation": "v",
         "showlegend": true,
         "textposition": "auto",
         "type": "bar",
         "x": [
          "Autumn",
          "Spring",
          "Summer",
          "Winter"
         ],
         "xaxis": "x",
         "y": [
          176.9730293461328,
          204.81778927607832,
          197.2587593101343,
          196.2736919436496
         ],
         "yaxis": "y"
        },
        {
         "alignmentgroup": "True",
         "hovertemplate": "city=Tchibanga<br>Season=%{x}<br>co=%{y}<extra></extra>",
         "legendgroup": "Tchibanga",
         "marker": {
          "color": "#FF6692",
          "pattern": {
           "shape": ""
          }
         },
         "name": "Tchibanga",
         "offsetgroup": "Tchibanga",
         "orientation": "v",
         "showlegend": true,
         "textposition": "auto",
         "type": "bar",
         "x": [
          "Autumn",
          "Spring",
          "Summer",
          "Winter"
         ],
         "xaxis": "x",
         "y": [
          259.07267412270517,
          342.53562790673743,
          298.6597565508291,
          347.8371453804348
         ],
         "yaxis": "y"
        },
        {
         "alignmentgroup": "True",
         "hovertemplate": "city=Tefe<br>Season=%{x}<br>co=%{y}<extra></extra>",
         "legendgroup": "Tefe",
         "marker": {
          "color": "#B6E880",
          "pattern": {
           "shape": ""
          }
         },
         "name": "Tefe",
         "offsetgroup": "Tefe",
         "orientation": "v",
         "showlegend": true,
         "textposition": "auto",
         "type": "bar",
         "x": [
          "Autumn",
          "Spring",
          "Summer",
          "Winter"
         ],
         "xaxis": "x",
         "y": [
          186.59878142074203,
          256.7276942155067,
          183.79290588237095,
          209.34058554750405
         ],
         "yaxis": "y"
        },
        {
         "alignmentgroup": "True",
         "hovertemplate": "city=Tekeli<br>Season=%{x}<br>co=%{y}<extra></extra>",
         "legendgroup": "Tekeli",
         "marker": {
          "color": "#FF97FF",
          "pattern": {
           "shape": ""
          }
         },
         "name": "Tekeli",
         "offsetgroup": "Tekeli",
         "orientation": "v",
         "showlegend": true,
         "textposition": "auto",
         "type": "bar",
         "x": [
          "Autumn",
          "Spring",
          "Summer",
          "Winter"
         ],
         "xaxis": "x",
         "y": [
          175.41619207103759,
          187.38794881210643,
          153.86707725376476,
          208.48990745836082
         ],
         "yaxis": "y"
        },
        {
         "alignmentgroup": "True",
         "hovertemplate": "city=Ternate<br>Season=%{x}<br>co=%{y}<extra></extra>",
         "legendgroup": "Ternate",
         "marker": {
          "color": "#FECB52",
          "pattern": {
           "shape": ""
          }
         },
         "name": "Ternate",
         "offsetgroup": "Ternate",
         "orientation": "v",
         "showlegend": true,
         "textposition": "auto",
         "type": "bar",
         "x": [
          "Autumn",
          "Spring",
          "Summer",
          "Winter"
         ],
         "xaxis": "x",
         "y": [
          303.99571821407756,
          309.5197439241481,
          278.68520467032965,
          284.086388235411
         ],
         "yaxis": "y"
        },
        {
         "alignmentgroup": "True",
         "hovertemplate": "city=Thompson<br>Season=%{x}<br>co=%{y}<extra></extra>",
         "legendgroup": "Thompson",
         "marker": {
          "color": "#636efa",
          "pattern": {
           "shape": ""
          }
         },
         "name": "Thompson",
         "offsetgroup": "Thompson",
         "orientation": "v",
         "showlegend": true,
         "textposition": "auto",
         "type": "bar",
         "x": [
          "Autumn",
          "Spring",
          "Summer",
          "Winter"
         ],
         "xaxis": "x",
         "y": [
          235.16759386446887,
          245.6247107078841,
          235.95887419484703,
          278.59230605464455
         ],
         "yaxis": "y"
        },
        {
         "alignmentgroup": "True",
         "hovertemplate": "city=Three Points<br>Season=%{x}<br>co=%{y}<extra></extra>",
         "legendgroup": "Three Points",
         "marker": {
          "color": "#EF553B",
          "pattern": {
           "shape": ""
          }
         },
         "name": "Three Points",
         "offsetgroup": "Three Points",
         "orientation": "v",
         "showlegend": true,
         "textposition": "auto",
         "type": "bar",
         "x": [
          "Autumn",
          "Spring",
          "Summer",
          "Winter"
         ],
         "xaxis": "x",
         "y": [
          193.0032371794872,
          192.05794423718604,
          194.3173572363124,
          220.94672572425222
         ],
         "yaxis": "y"
        },
        {
         "alignmentgroup": "True",
         "hovertemplate": "city=Tidjikja<br>Season=%{x}<br>co=%{y}<extra></extra>",
         "legendgroup": "Tidjikja",
         "marker": {
          "color": "#00cc96",
          "pattern": {
           "shape": ""
          }
         },
         "name": "Tidjikja",
         "offsetgroup": "Tidjikja",
         "orientation": "v",
         "showlegend": true,
         "textposition": "auto",
         "type": "bar",
         "x": [
          "Autumn",
          "Spring",
          "Summer",
          "Winter"
         ],
         "xaxis": "x",
         "y": [
          202.7112568935694,
          215.0993369255938,
          211.69933252818035,
          202.29659286570302
         ],
         "yaxis": "y"
        },
        {
         "alignmentgroup": "True",
         "hovertemplate": "city=Tiksi<br>Season=%{x}<br>co=%{y}<extra></extra>",
         "legendgroup": "Tiksi",
         "marker": {
          "color": "#ab63fa",
          "pattern": {
           "shape": ""
          }
         },
         "name": "Tiksi",
         "offsetgroup": "Tiksi",
         "orientation": "v",
         "showlegend": true,
         "textposition": "auto",
         "type": "bar",
         "x": [
          "Autumn",
          "Spring",
          "Summer",
          "Winter"
         ],
         "xaxis": "x",
         "y": [
          218.56471999354812,
          241.2413392547259,
          184.92339265364268,
          245.52800740455405
         ],
         "yaxis": "y"
        },
        {
         "alignmentgroup": "True",
         "hovertemplate": "city=Todos Santos<br>Season=%{x}<br>co=%{y}<extra></extra>",
         "legendgroup": "Todos Santos",
         "marker": {
          "color": "#FFA15A",
          "pattern": {
           "shape": ""
          }
         },
         "name": "Todos Santos",
         "offsetgroup": "Todos Santos",
         "orientation": "v",
         "showlegend": true,
         "textposition": "auto",
         "type": "bar",
         "x": [
          "Autumn",
          "Spring",
          "Summer",
          "Winter"
         ],
         "xaxis": "x",
         "y": [
          198.56593864468863,
          211.67527942939168,
          184.12769680958132,
          216.8004630139164
         ],
         "yaxis": "y"
        },
        {
         "alignmentgroup": "True",
         "hovertemplate": "city=Tokmok<br>Season=%{x}<br>co=%{y}<extra></extra>",
         "legendgroup": "Tokmok",
         "marker": {
          "color": "#19d3f3",
          "pattern": {
           "shape": ""
          }
         },
         "name": "Tokmok",
         "offsetgroup": "Tokmok",
         "orientation": "v",
         "showlegend": true,
         "textposition": "auto",
         "type": "bar",
         "x": [
          "Autumn",
          "Spring",
          "Summer",
          "Winter"
         ],
         "xaxis": "x",
         "y": [
          211.01938894205045,
          217.30564851320085,
          186.2396850071225,
          265.7640420549319
         ],
         "yaxis": "y"
        },
        {
         "alignmentgroup": "True",
         "hovertemplate": "city=Tolanaro<br>Season=%{x}<br>co=%{y}<extra></extra>",
         "legendgroup": "Tolanaro",
         "marker": {
          "color": "#FF6692",
          "pattern": {
           "shape": ""
          }
         },
         "name": "Tolanaro",
         "offsetgroup": "Tolanaro",
         "orientation": "v",
         "showlegend": true,
         "textposition": "auto",
         "type": "bar",
         "x": [
          "Autumn",
          "Spring",
          "Summer",
          "Winter"
         ],
         "xaxis": "x",
         "y": [
          216.65150237153034,
          217.5368679775281,
          204.03320700574145,
          219.0727467793881
         ],
         "yaxis": "y"
        },
        {
         "alignmentgroup": "True",
         "hovertemplate": "city=Toliara<br>Season=%{x}<br>co=%{y}<extra></extra>",
         "legendgroup": "Toliara",
         "marker": {
          "color": "#B6E880",
          "pattern": {
           "shape": ""
          }
         },
         "name": "Toliara",
         "offsetgroup": "Toliara",
         "orientation": "v",
         "showlegend": true,
         "textposition": "auto",
         "type": "bar",
         "x": [
          "Autumn",
          "Spring",
          "Summer",
          "Winter"
         ],
         "xaxis": "x",
         "y": [
          227.85929274257262,
          239.40990582685106,
          223.37103803623404,
          232.5817518115942
         ],
         "yaxis": "y"
        },
        {
         "alignmentgroup": "True",
         "hovertemplate": "city=Tommot<br>Season=%{x}<br>co=%{y}<extra></extra>",
         "legendgroup": "Tommot",
         "marker": {
          "color": "#FF97FF",
          "pattern": {
           "shape": ""
          }
         },
         "name": "Tommot",
         "offsetgroup": "Tommot",
         "orientation": "v",
         "showlegend": true,
         "textposition": "auto",
         "type": "bar",
         "x": [
          "Autumn",
          "Spring",
          "Summer",
          "Winter"
         ],
         "xaxis": "x",
         "y": [
          212.22794658466535,
          225.7147480574805,
          210.76531003256002,
          245.59327345030206
         ],
         "yaxis": "y"
        },
        {
         "alignmentgroup": "True",
         "hovertemplate": "city=Tralee<br>Season=%{x}<br>co=%{y}<extra></extra>",
         "legendgroup": "Tralee",
         "marker": {
          "color": "#FECB52",
          "pattern": {
           "shape": ""
          }
         },
         "name": "Tralee",
         "offsetgroup": "Tralee",
         "orientation": "v",
         "showlegend": true,
         "textposition": "auto",
         "type": "bar",
         "x": [
          "Autumn",
          "Spring",
          "Summer",
          "Winter"
         ],
         "xaxis": "x",
         "y": [
          198.44758989621488,
          210.66607618507234,
          179.3690638083736,
          217.96407779749674
         ],
         "yaxis": "y"
        },
        {
         "alignmentgroup": "True",
         "hovertemplate": "city=Traralgon<br>Season=%{x}<br>co=%{y}<extra></extra>",
         "legendgroup": "Traralgon",
         "marker": {
          "color": "#636efa",
          "pattern": {
           "shape": ""
          }
         },
         "name": "Traralgon",
         "offsetgroup": "Traralgon",
         "orientation": "v",
         "showlegend": true,
         "textposition": "auto",
         "type": "bar",
         "x": [
          "Autumn",
          "Spring",
          "Summer",
          "Winter"
         ],
         "xaxis": "x",
         "y": [
          205.22090202847207,
          198.87177668834994,
          186.9461473925086,
          211.81852553927553
         ],
         "yaxis": "y"
        },
        {
         "alignmentgroup": "True",
         "hovertemplate": "city=Trinidad<br>Season=%{x}<br>co=%{y}<extra></extra>",
         "legendgroup": "Trinidad",
         "marker": {
          "color": "#EF553B",
          "pattern": {
           "shape": ""
          }
         },
         "name": "Trinidad",
         "offsetgroup": "Trinidad",
         "orientation": "v",
         "showlegend": true,
         "textposition": "auto",
         "type": "bar",
         "x": [
          "Autumn",
          "Spring",
          "Summer",
          "Winter"
         ],
         "xaxis": "x",
         "y": [
          229.33876984768185,
          429.1170548178673,
          224.92966447923547,
          282.8128032910628
         ],
         "yaxis": "y"
        },
        {
         "alignmentgroup": "True",
         "hovertemplate": "city=Tshabong<br>Season=%{x}<br>co=%{y}<extra></extra>",
         "legendgroup": "Tshabong",
         "marker": {
          "color": "#00cc96",
          "pattern": {
           "shape": ""
          }
         },
         "name": "Tshabong",
         "offsetgroup": "Tshabong",
         "orientation": "v",
         "showlegend": true,
         "textposition": "auto",
         "type": "bar",
         "x": [
          "Autumn",
          "Spring",
          "Summer",
          "Winter"
         ],
         "xaxis": "x",
         "y": [
          242.67637165141767,
          272.3550224821994,
          245.9466583434221,
          243.91764266304347
         ],
         "yaxis": "y"
        },
        {
         "alignmentgroup": "True",
         "hovertemplate": "city=Tulun<br>Season=%{x}<br>co=%{y}<extra></extra>",
         "legendgroup": "Tulun",
         "marker": {
          "color": "#ab63fa",
          "pattern": {
           "shape": ""
          }
         },
         "name": "Tulun",
         "offsetgroup": "Tulun",
         "orientation": "v",
         "showlegend": true,
         "textposition": "auto",
         "type": "bar",
         "x": [
          "Autumn",
          "Spring",
          "Summer",
          "Winter"
         ],
         "xaxis": "x",
         "y": [
          206.4521693150599,
          222.3451751406932,
          161.25609961334962,
          250.425470171601
         ],
         "yaxis": "y"
        },
        {
         "alignmentgroup": "True",
         "hovertemplate": "city=Tumaco<br>Season=%{x}<br>co=%{y}<extra></extra>",
         "legendgroup": "Tumaco",
         "marker": {
          "color": "#FFA15A",
          "pattern": {
           "shape": ""
          }
         },
         "name": "Tumaco",
         "offsetgroup": "Tumaco",
         "orientation": "v",
         "showlegend": true,
         "textposition": "auto",
         "type": "bar",
         "x": [
          "Autumn",
          "Spring",
          "Summer",
          "Winter"
         ],
         "xaxis": "x",
         "y": [
          262.6273466117216,
          272.0168512138669,
          264.7041753723833,
          235.74077252931863
         ],
         "yaxis": "y"
        },
        {
         "alignmentgroup": "True",
         "hovertemplate": "city=Turinsk<br>Season=%{x}<br>co=%{y}<extra></extra>",
         "legendgroup": "Turinsk",
         "marker": {
          "color": "#19d3f3",
          "pattern": {
           "shape": ""
          }
         },
         "name": "Turinsk",
         "offsetgroup": "Turinsk",
         "orientation": "v",
         "showlegend": true,
         "textposition": "auto",
         "type": "bar",
         "x": [
          "Autumn",
          "Spring",
          "Summer",
          "Winter"
         ],
         "xaxis": "x",
         "y": [
          217.37564539860887,
          236.28608440624666,
          173.49043322649572,
          273.23282299768266
         ],
         "yaxis": "y"
        },
        {
         "alignmentgroup": "True",
         "hovertemplate": "city=Tweed Heads<br>Season=%{x}<br>co=%{y}<extra></extra>",
         "legendgroup": "Tweed Heads",
         "marker": {
          "color": "#FF6692",
          "pattern": {
           "shape": ""
          }
         },
         "name": "Tweed Heads",
         "offsetgroup": "Tweed Heads",
         "orientation": "v",
         "showlegend": true,
         "textposition": "auto",
         "type": "bar",
         "x": [
          "Autumn",
          "Spring",
          "Summer",
          "Winter"
         ],
         "xaxis": "x",
         "y": [
          216.38135845662546,
          212.21911874763168,
          202.6867910261819,
          225.84402431827436
         ],
         "yaxis": "y"
        },
        {
         "alignmentgroup": "True",
         "hovertemplate": "city=Udachnyy<br>Season=%{x}<br>co=%{y}<extra></extra>",
         "legendgroup": "Udachnyy",
         "marker": {
          "color": "#B6E880",
          "pattern": {
           "shape": ""
          }
         },
         "name": "Udachnyy",
         "offsetgroup": "Udachnyy",
         "orientation": "v",
         "showlegend": true,
         "textposition": "auto",
         "type": "bar",
         "x": [
          "Autumn",
          "Spring",
          "Summer",
          "Winter"
         ],
         "xaxis": "x",
         "y": [
          212.1814190497003,
          228.92900064583318,
          192.1275126170126,
          238.50028186296993
         ],
         "yaxis": "y"
        },
        {
         "alignmentgroup": "True",
         "hovertemplate": "city=Ulaangom<br>Season=%{x}<br>co=%{y}<extra></extra>",
         "legendgroup": "Ulaangom",
         "marker": {
          "color": "#FF97FF",
          "pattern": {
           "shape": ""
          }
         },
         "name": "Ulaangom",
         "offsetgroup": "Ulaangom",
         "orientation": "v",
         "showlegend": true,
         "textposition": "auto",
         "type": "bar",
         "x": [
          "Autumn",
          "Spring",
          "Summer",
          "Winter"
         ],
         "xaxis": "x",
         "y": [
          197.83929911922297,
          216.72018536339263,
          175.2819278075528,
          274.25753341736043
         ],
         "yaxis": "y"
        },
        {
         "alignmentgroup": "True",
         "hovertemplate": "city=Ulanhot<br>Season=%{x}<br>co=%{y}<extra></extra>",
         "legendgroup": "Ulanhot",
         "marker": {
          "color": "#FECB52",
          "pattern": {
           "shape": ""
          }
         },
         "name": "Ulanhot",
         "offsetgroup": "Ulanhot",
         "orientation": "v",
         "showlegend": true,
         "textposition": "auto",
         "type": "bar",
         "x": [
          "Autumn",
          "Spring",
          "Summer",
          "Winter"
         ],
         "xaxis": "x",
         "y": [
          265.29056500790875,
          264.4402274288541,
          245.97751984126984,
          306.6387050017426
         ],
         "yaxis": "y"
        },
        {
         "alignmentgroup": "True",
         "hovertemplate": "city=Ushuaia<br>Season=%{x}<br>co=%{y}<extra></extra>",
         "legendgroup": "Ushuaia",
         "marker": {
          "color": "#636efa",
          "pattern": {
           "shape": ""
          }
         },
         "name": "Ushuaia",
         "offsetgroup": "Ushuaia",
         "orientation": "v",
         "showlegend": true,
         "textposition": "auto",
         "type": "bar",
         "x": [
          "Autumn",
          "Spring",
          "Summer",
          "Winter"
         ],
         "xaxis": "x",
         "y": [
          206.5451560028205,
          201.47758150183154,
          172.97456961794092,
          228.409699828905
         ],
         "yaxis": "y"
        },
        {
         "alignmentgroup": "True",
         "hovertemplate": "city=Ust'-Ilimsk<br>Season=%{x}<br>co=%{y}<extra></extra>",
         "legendgroup": "Ust'-Ilimsk",
         "marker": {
          "color": "#EF553B",
          "pattern": {
           "shape": ""
          }
         },
         "name": "Ust'-Ilimsk",
         "offsetgroup": "Ust'-Ilimsk",
         "orientation": "v",
         "showlegend": true,
         "textposition": "auto",
         "type": "bar",
         "x": [
          "Autumn",
          "Spring",
          "Summer",
          "Winter"
         ],
         "xaxis": "x",
         "y": [
          211.01795459748587,
          232.08324669630738,
          170.1890249033374,
          253.42997366980953
         ],
         "yaxis": "y"
        },
        {
         "alignmentgroup": "True",
         "hovertemplate": "city=Ust'-Kut<br>Season=%{x}<br>co=%{y}<extra></extra>",
         "legendgroup": "Ust'-Kut",
         "marker": {
          "color": "#00cc96",
          "pattern": {
           "shape": ""
          }
         },
         "name": "Ust'-Kut",
         "offsetgroup": "Ust'-Kut",
         "orientation": "v",
         "showlegend": true,
         "textposition": "auto",
         "type": "bar",
         "x": [
          "Autumn",
          "Spring",
          "Summer",
          "Winter"
         ],
         "xaxis": "x",
         "y": [
          219.65591190059942,
          234.65542634702078,
          175.5959009208384,
          255.85269163334308
         ],
         "yaxis": "y"
        },
        {
         "alignmentgroup": "True",
         "hovertemplate": "city=Vadso<br>Season=%{x}<br>co=%{y}<extra></extra>",
         "legendgroup": "Vadso",
         "marker": {
          "color": "#ab63fa",
          "pattern": {
           "shape": ""
          }
         },
         "name": "Vadso",
         "offsetgroup": "Vadso",
         "orientation": "v",
         "showlegend": true,
         "textposition": "auto",
         "type": "bar",
         "x": [
          "Autumn",
          "Spring",
          "Summer",
          "Winter"
         ],
         "xaxis": "x",
         "y": [
          210.77355980162162,
          231.50249101123768,
          182.63601705917876,
          238.27532546255532
         ],
         "yaxis": "y"
        },
        {
         "alignmentgroup": "True",
         "hovertemplate": "city=Verkhnevilyuysk<br>Season=%{x}<br>co=%{y}<extra></extra>",
         "legendgroup": "Verkhnevilyuysk",
         "marker": {
          "color": "#FFA15A",
          "pattern": {
           "shape": ""
          }
         },
         "name": "Verkhnevilyuysk",
         "offsetgroup": "Verkhnevilyuysk",
         "orientation": "v",
         "showlegend": true,
         "textposition": "auto",
         "type": "bar",
         "x": [
          "Autumn",
          "Spring",
          "Summer",
          "Winter"
         ],
         "xaxis": "x",
         "y": [
          214.7478873210123,
          230.50722049034667,
          218.6928378866504,
          242.86456640405262
         ],
         "yaxis": "y"
        },
        {
         "alignmentgroup": "True",
         "hovertemplate": "city=Victoria Falls<br>Season=%{x}<br>co=%{y}<extra></extra>",
         "legendgroup": "Victoria Falls",
         "marker": {
          "color": "#19d3f3",
          "pattern": {
           "shape": ""
          }
         },
         "name": "Victoria Falls",
         "offsetgroup": "Victoria Falls",
         "orientation": "v",
         "showlegend": true,
         "textposition": "auto",
         "type": "bar",
         "x": [
          "Autumn",
          "Spring",
          "Summer",
          "Winter"
         ],
         "xaxis": "x",
         "y": [
          265.91370629224946,
          314.9348246954356,
          296.6640330667449,
          272.1394600442834
         ],
         "yaxis": "y"
        },
        {
         "alignmentgroup": "True",
         "hovertemplate": "city=Viedma<br>Season=%{x}<br>co=%{y}<extra></extra>",
         "legendgroup": "Viedma",
         "marker": {
          "color": "#FF6692",
          "pattern": {
           "shape": ""
          }
         },
         "name": "Viedma",
         "offsetgroup": "Viedma",
         "orientation": "v",
         "showlegend": true,
         "textposition": "auto",
         "type": "bar",
         "x": [
          "Autumn",
          "Spring",
          "Summer",
          "Winter"
         ],
         "xaxis": "x",
         "y": [
          233.33670736750773,
          224.73716302910054,
          212.66688996502555,
          244.09608121980676
         ],
         "yaxis": "y"
        },
        {
         "alignmentgroup": "True",
         "hovertemplate": "city=Vikhorevka<br>Season=%{x}<br>co=%{y}<extra></extra>",
         "legendgroup": "Vikhorevka",
         "marker": {
          "color": "#B6E880",
          "pattern": {
           "shape": ""
          }
         },
         "name": "Vikhorevka",
         "offsetgroup": "Vikhorevka",
         "orientation": "v",
         "showlegend": true,
         "textposition": "auto",
         "type": "bar",
         "x": [
          "Autumn",
          "Spring",
          "Summer",
          "Winter"
         ],
         "xaxis": "x",
         "y": [
          219.35131477897102,
          238.85103370863098,
          184.66674079161578,
          278.77691669265295
         ],
         "yaxis": "y"
        },
        {
         "alignmentgroup": "True",
         "hovertemplate": "city=Vila Velha<br>Season=%{x}<br>co=%{y}<extra></extra>",
         "legendgroup": "Vila Velha",
         "marker": {
          "color": "#FF97FF",
          "pattern": {
           "shape": ""
          }
         },
         "name": "Vila Velha",
         "offsetgroup": "Vila Velha",
         "orientation": "v",
         "showlegend": true,
         "textposition": "auto",
         "type": "bar",
         "x": [
          "Autumn",
          "Spring",
          "Summer",
          "Winter"
         ],
         "xaxis": "x",
         "y": [
          275.6881987433863,
          219.75643415827972,
          215.0364552133655,
          228.21916934936533
         ],
         "yaxis": "y"
        },
        {
         "alignmentgroup": "True",
         "hovertemplate": "city=Villa De Cura<br>Season=%{x}<br>co=%{y}<extra></extra>",
         "legendgroup": "Villa De Cura",
         "marker": {
          "color": "#FECB52",
          "pattern": {
           "shape": ""
          }
         },
         "name": "Villa De Cura",
         "offsetgroup": "Villa De Cura",
         "orientation": "v",
         "showlegend": true,
         "textposition": "auto",
         "type": "bar",
         "x": [
          "Autumn",
          "Spring",
          "Summer",
          "Winter"
         ],
         "xaxis": "x",
         "y": [
          483.38026500814,
          349.24642477990216,
          368.6069202898551,
          348.91188295637977
         ],
         "yaxis": "y"
        },
        {
         "alignmentgroup": "True",
         "hovertemplate": "city=Vilyuchinsk<br>Season=%{x}<br>co=%{y}<extra></extra>",
         "legendgroup": "Vilyuchinsk",
         "marker": {
          "color": "#636efa",
          "pattern": {
           "shape": ""
          }
         },
         "name": "Vilyuchinsk",
         "offsetgroup": "Vilyuchinsk",
         "orientation": "v",
         "showlegend": true,
         "textposition": "auto",
         "type": "bar",
         "x": [
          "Autumn",
          "Spring",
          "Summer",
          "Winter"
         ],
         "xaxis": "x",
         "y": [
          208.2934529335607,
          239.22605027854306,
          190.6750377238502,
          235.46980876027223
         ],
         "yaxis": "y"
        },
        {
         "alignmentgroup": "True",
         "hovertemplate": "city=Vorkuta<br>Season=%{x}<br>co=%{y}<extra></extra>",
         "legendgroup": "Vorkuta",
         "marker": {
          "color": "#EF553B",
          "pattern": {
           "shape": ""
          }
         },
         "name": "Vorkuta",
         "offsetgroup": "Vorkuta",
         "orientation": "v",
         "showlegend": true,
         "textposition": "auto",
         "type": "bar",
         "x": [
          "Autumn",
          "Spring",
          "Summer",
          "Winter"
         ],
         "xaxis": "x",
         "y": [
          216.88057972692104,
          239.9724407588511,
          182.07098193935695,
          249.36944530428377
         ],
         "yaxis": "y"
        },
        {
         "alignmentgroup": "True",
         "hovertemplate": "city=Wailua Homesteads<br>Season=%{x}<br>co=%{y}<extra></extra>",
         "legendgroup": "Wailua Homesteads",
         "marker": {
          "color": "#00cc96",
          "pattern": {
           "shape": ""
          }
         },
         "name": "Wailua Homesteads",
         "offsetgroup": "Wailua Homesteads",
         "orientation": "v",
         "showlegend": true,
         "textposition": "auto",
         "type": "bar",
         "x": [
          "Autumn",
          "Spring",
          "Summer",
          "Winter"
         ],
         "xaxis": "x",
         "y": [
          171.76558379120877,
          195.71848992204505,
          152.71511030595812,
          200.6099319962641
         ],
         "yaxis": "y"
        },
        {
         "alignmentgroup": "True",
         "hovertemplate": "city=Waitangi<br>Season=%{x}<br>co=%{y}<extra></extra>",
         "legendgroup": "Waitangi",
         "marker": {
          "color": "#ab63fa",
          "pattern": {
           "shape": ""
          }
         },
         "name": "Waitangi",
         "offsetgroup": "Waitangi",
         "orientation": "v",
         "showlegend": true,
         "textposition": "auto",
         "type": "bar",
         "x": [
          "Autumn",
          "Spring",
          "Summer",
          "Winter"
         ],
         "xaxis": "x",
         "y": [
          213.00578871045363,
          206.05834478021978,
          184.83889775767497,
          221.96382830112725
         ],
         "yaxis": "y"
        },
        {
         "alignmentgroup": "True",
         "hovertemplate": "city=Wamba<br>Season=%{x}<br>co=%{y}<extra></extra>",
         "legendgroup": "Wamba",
         "marker": {
          "color": "#FFA15A",
          "pattern": {
           "shape": ""
          }
         },
         "name": "Wamba",
         "offsetgroup": "Wamba",
         "orientation": "v",
         "showlegend": true,
         "textposition": "auto",
         "type": "bar",
         "x": [
          "Autumn",
          "Spring",
          "Summer",
          "Winter"
         ],
         "xaxis": "x",
         "y": [
          208.21244070770052,
          226.58185044105872,
          252.04198606078904,
          314.7350814745518
         ],
         "yaxis": "y"
        },
        {
         "alignmentgroup": "True",
         "hovertemplate": "city=Watertown Town<br>Season=%{x}<br>co=%{y}<extra></extra>",
         "legendgroup": "Watertown Town",
         "marker": {
          "color": "#19d3f3",
          "pattern": {
           "shape": ""
          }
         },
         "name": "Watertown Town",
         "offsetgroup": "Watertown Town",
         "orientation": "v",
         "showlegend": true,
         "textposition": "auto",
         "type": "bar",
         "x": [
          "Autumn",
          "Spring",
          "Summer",
          "Winter"
         ],
         "xaxis": "x",
         "y": [
          315.05315756003256,
          302.8791594292747,
          280.63967346014493,
          362.74577019819867
         ],
         "yaxis": "y"
        },
        {
         "alignmentgroup": "True",
         "hovertemplate": "city=Weno<br>Season=%{x}<br>co=%{y}<extra></extra>",
         "legendgroup": "Weno",
         "marker": {
          "color": "#FF6692",
          "pattern": {
           "shape": ""
          }
         },
         "name": "Weno",
         "offsetgroup": "Weno",
         "orientation": "v",
         "showlegend": true,
         "textposition": "auto",
         "type": "bar",
         "x": [
          "Autumn",
          "Spring",
          "Summer",
          "Winter"
         ],
         "xaxis": "x",
         "y": [
          182.8922398793735,
          195.0306407618509,
          184.76967147435897,
          191.5773657466004
         ],
         "yaxis": "y"
        },
        {
         "alignmentgroup": "True",
         "hovertemplate": "city=Whangarei<br>Season=%{x}<br>co=%{y}<extra></extra>",
         "legendgroup": "Whangarei",
         "marker": {
          "color": "#B6E880",
          "pattern": {
           "shape": ""
          }
         },
         "name": "Whangarei",
         "offsetgroup": "Whangarei",
         "orientation": "v",
         "showlegend": true,
         "textposition": "auto",
         "type": "bar",
         "x": [
          "Autumn",
          "Spring",
          "Summer",
          "Winter"
         ],
         "xaxis": "x",
         "y": [
          210.22491152982158,
          201.81182278200174,
          188.1662957173334,
          217.3435315844287
         ],
         "yaxis": "y"
        },
        {
         "alignmentgroup": "True",
         "hovertemplate": "city=Whitehorse<br>Season=%{x}<br>co=%{y}<extra></extra>",
         "legendgroup": "Whitehorse",
         "marker": {
          "color": "#FF97FF",
          "pattern": {
           "shape": ""
          }
         },
         "name": "Whitehorse",
         "offsetgroup": "Whitehorse",
         "orientation": "v",
         "showlegend": true,
         "textposition": "auto",
         "type": "bar",
         "x": [
          "Autumn",
          "Spring",
          "Summer",
          "Winter"
         ],
         "xaxis": "x",
         "y": [
          201.40314102564105,
          212.22931385111698,
          173.3197559883253,
          230.01646175358303
         ],
         "yaxis": "y"
        },
        {
         "alignmentgroup": "True",
         "hovertemplate": "city=Xai-Xai<br>Season=%{x}<br>co=%{y}<extra></extra>",
         "legendgroup": "Xai-Xai",
         "marker": {
          "color": "#FECB52",
          "pattern": {
           "shape": ""
          }
         },
         "name": "Xai-Xai",
         "offsetgroup": "Xai-Xai",
         "orientation": "v",
         "showlegend": true,
         "textposition": "auto",
         "type": "bar",
         "x": [
          "Autumn",
          "Spring",
          "Summer",
          "Winter"
         ],
         "xaxis": "x",
         "y": [
          271.11876162325973,
          255.59351041280814,
          234.7678962750997,
          284.4020679851047
         ],
         "yaxis": "y"
        },
        {
         "alignmentgroup": "True",
         "hovertemplate": "city=Yellowknife<br>Season=%{x}<br>co=%{y}<extra></extra>",
         "legendgroup": "Yellowknife",
         "marker": {
          "color": "#636efa",
          "pattern": {
           "shape": ""
          }
         },
         "name": "Yellowknife",
         "offsetgroup": "Yellowknife",
         "orientation": "v",
         "showlegend": true,
         "textposition": "auto",
         "type": "bar",
         "x": [
          "Autumn",
          "Spring",
          "Summer",
          "Winter"
         ],
         "xaxis": "x",
         "y": [
          239.60931776556777,
          233.12636528340093,
          281.19386498590984,
          242.3817042588414
         ],
         "yaxis": "y"
        },
        {
         "alignmentgroup": "True",
         "hovertemplate": "city=Zaraza<br>Season=%{x}<br>co=%{y}<extra></extra>",
         "legendgroup": "Zaraza",
         "marker": {
          "color": "#EF553B",
          "pattern": {
           "shape": ""
          }
         },
         "name": "Zaraza",
         "offsetgroup": "Zaraza",
         "orientation": "v",
         "showlegend": true,
         "textposition": "auto",
         "type": "bar",
         "x": [
          "Autumn",
          "Spring",
          "Summer",
          "Winter"
         ],
         "xaxis": "x",
         "y": [
          243.56314886039888,
          257.0656237850486,
          225.77886292270531,
          232.1536549476301
         ],
         "yaxis": "y"
        },
        {
         "alignmentgroup": "True",
         "hovertemplate": "city=`Ataq<br>Season=%{x}<br>co=%{y}<extra></extra>",
         "legendgroup": "`Ataq",
         "marker": {
          "color": "#00cc96",
          "pattern": {
           "shape": ""
          }
         },
         "name": "`Ataq",
         "offsetgroup": "`Ataq",
         "orientation": "v",
         "showlegend": true,
         "textposition": "auto",
         "type": "bar",
         "x": [
          "Autumn",
          "Spring",
          "Summer",
          "Winter"
         ],
         "xaxis": "x",
         "y": [
          194.20576151376713,
          204.75970594085445,
          224.81482779790662,
          205.02778109866827
         ],
         "yaxis": "y"
        }
       ],
       "layout": {
        "barmode": "group",
        "legend": {
         "title": {
          "text": "city"
         },
         "tracegroupgap": 0
        },
        "template": {
         "data": {
          "bar": [
           {
            "error_x": {
             "color": "#2a3f5f"
            },
            "error_y": {
             "color": "#2a3f5f"
            },
            "marker": {
             "line": {
              "color": "#E5ECF6",
              "width": 0.5
             },
             "pattern": {
              "fillmode": "overlay",
              "size": 10,
              "solidity": 0.2
             }
            },
            "type": "bar"
           }
          ],
          "barpolar": [
           {
            "marker": {
             "line": {
              "color": "#E5ECF6",
              "width": 0.5
             },
             "pattern": {
              "fillmode": "overlay",
              "size": 10,
              "solidity": 0.2
             }
            },
            "type": "barpolar"
           }
          ],
          "carpet": [
           {
            "aaxis": {
             "endlinecolor": "#2a3f5f",
             "gridcolor": "white",
             "linecolor": "white",
             "minorgridcolor": "white",
             "startlinecolor": "#2a3f5f"
            },
            "baxis": {
             "endlinecolor": "#2a3f5f",
             "gridcolor": "white",
             "linecolor": "white",
             "minorgridcolor": "white",
             "startlinecolor": "#2a3f5f"
            },
            "type": "carpet"
           }
          ],
          "choropleth": [
           {
            "colorbar": {
             "outlinewidth": 0,
             "ticks": ""
            },
            "type": "choropleth"
           }
          ],
          "contour": [
           {
            "colorbar": {
             "outlinewidth": 0,
             "ticks": ""
            },
            "colorscale": [
             [
              0,
              "#0d0887"
             ],
             [
              0.1111111111111111,
              "#46039f"
             ],
             [
              0.2222222222222222,
              "#7201a8"
             ],
             [
              0.3333333333333333,
              "#9c179e"
             ],
             [
              0.4444444444444444,
              "#bd3786"
             ],
             [
              0.5555555555555556,
              "#d8576b"
             ],
             [
              0.6666666666666666,
              "#ed7953"
             ],
             [
              0.7777777777777778,
              "#fb9f3a"
             ],
             [
              0.8888888888888888,
              "#fdca26"
             ],
             [
              1,
              "#f0f921"
             ]
            ],
            "type": "contour"
           }
          ],
          "contourcarpet": [
           {
            "colorbar": {
             "outlinewidth": 0,
             "ticks": ""
            },
            "type": "contourcarpet"
           }
          ],
          "heatmap": [
           {
            "colorbar": {
             "outlinewidth": 0,
             "ticks": ""
            },
            "colorscale": [
             [
              0,
              "#0d0887"
             ],
             [
              0.1111111111111111,
              "#46039f"
             ],
             [
              0.2222222222222222,
              "#7201a8"
             ],
             [
              0.3333333333333333,
              "#9c179e"
             ],
             [
              0.4444444444444444,
              "#bd3786"
             ],
             [
              0.5555555555555556,
              "#d8576b"
             ],
             [
              0.6666666666666666,
              "#ed7953"
             ],
             [
              0.7777777777777778,
              "#fb9f3a"
             ],
             [
              0.8888888888888888,
              "#fdca26"
             ],
             [
              1,
              "#f0f921"
             ]
            ],
            "type": "heatmap"
           }
          ],
          "heatmapgl": [
           {
            "colorbar": {
             "outlinewidth": 0,
             "ticks": ""
            },
            "colorscale": [
             [
              0,
              "#0d0887"
             ],
             [
              0.1111111111111111,
              "#46039f"
             ],
             [
              0.2222222222222222,
              "#7201a8"
             ],
             [
              0.3333333333333333,
              "#9c179e"
             ],
             [
              0.4444444444444444,
              "#bd3786"
             ],
             [
              0.5555555555555556,
              "#d8576b"
             ],
             [
              0.6666666666666666,
              "#ed7953"
             ],
             [
              0.7777777777777778,
              "#fb9f3a"
             ],
             [
              0.8888888888888888,
              "#fdca26"
             ],
             [
              1,
              "#f0f921"
             ]
            ],
            "type": "heatmapgl"
           }
          ],
          "histogram": [
           {
            "marker": {
             "pattern": {
              "fillmode": "overlay",
              "size": 10,
              "solidity": 0.2
             }
            },
            "type": "histogram"
           }
          ],
          "histogram2d": [
           {
            "colorbar": {
             "outlinewidth": 0,
             "ticks": ""
            },
            "colorscale": [
             [
              0,
              "#0d0887"
             ],
             [
              0.1111111111111111,
              "#46039f"
             ],
             [
              0.2222222222222222,
              "#7201a8"
             ],
             [
              0.3333333333333333,
              "#9c179e"
             ],
             [
              0.4444444444444444,
              "#bd3786"
             ],
             [
              0.5555555555555556,
              "#d8576b"
             ],
             [
              0.6666666666666666,
              "#ed7953"
             ],
             [
              0.7777777777777778,
              "#fb9f3a"
             ],
             [
              0.8888888888888888,
              "#fdca26"
             ],
             [
              1,
              "#f0f921"
             ]
            ],
            "type": "histogram2d"
           }
          ],
          "histogram2dcontour": [
           {
            "colorbar": {
             "outlinewidth": 0,
             "ticks": ""
            },
            "colorscale": [
             [
              0,
              "#0d0887"
             ],
             [
              0.1111111111111111,
              "#46039f"
             ],
             [
              0.2222222222222222,
              "#7201a8"
             ],
             [
              0.3333333333333333,
              "#9c179e"
             ],
             [
              0.4444444444444444,
              "#bd3786"
             ],
             [
              0.5555555555555556,
              "#d8576b"
             ],
             [
              0.6666666666666666,
              "#ed7953"
             ],
             [
              0.7777777777777778,
              "#fb9f3a"
             ],
             [
              0.8888888888888888,
              "#fdca26"
             ],
             [
              1,
              "#f0f921"
             ]
            ],
            "type": "histogram2dcontour"
           }
          ],
          "mesh3d": [
           {
            "colorbar": {
             "outlinewidth": 0,
             "ticks": ""
            },
            "type": "mesh3d"
           }
          ],
          "parcoords": [
           {
            "line": {
             "colorbar": {
              "outlinewidth": 0,
              "ticks": ""
             }
            },
            "type": "parcoords"
           }
          ],
          "pie": [
           {
            "automargin": true,
            "type": "pie"
           }
          ],
          "scatter": [
           {
            "fillpattern": {
             "fillmode": "overlay",
             "size": 10,
             "solidity": 0.2
            },
            "type": "scatter"
           }
          ],
          "scatter3d": [
           {
            "line": {
             "colorbar": {
              "outlinewidth": 0,
              "ticks": ""
             }
            },
            "marker": {
             "colorbar": {
              "outlinewidth": 0,
              "ticks": ""
             }
            },
            "type": "scatter3d"
           }
          ],
          "scattercarpet": [
           {
            "marker": {
             "colorbar": {
              "outlinewidth": 0,
              "ticks": ""
             }
            },
            "type": "scattercarpet"
           }
          ],
          "scattergeo": [
           {
            "marker": {
             "colorbar": {
              "outlinewidth": 0,
              "ticks": ""
             }
            },
            "type": "scattergeo"
           }
          ],
          "scattergl": [
           {
            "marker": {
             "colorbar": {
              "outlinewidth": 0,
              "ticks": ""
             }
            },
            "type": "scattergl"
           }
          ],
          "scattermapbox": [
           {
            "marker": {
             "colorbar": {
              "outlinewidth": 0,
              "ticks": ""
             }
            },
            "type": "scattermapbox"
           }
          ],
          "scatterpolar": [
           {
            "marker": {
             "colorbar": {
              "outlinewidth": 0,
              "ticks": ""
             }
            },
            "type": "scatterpolar"
           }
          ],
          "scatterpolargl": [
           {
            "marker": {
             "colorbar": {
              "outlinewidth": 0,
              "ticks": ""
             }
            },
            "type": "scatterpolargl"
           }
          ],
          "scatterternary": [
           {
            "marker": {
             "colorbar": {
              "outlinewidth": 0,
              "ticks": ""
             }
            },
            "type": "scatterternary"
           }
          ],
          "surface": [
           {
            "colorbar": {
             "outlinewidth": 0,
             "ticks": ""
            },
            "colorscale": [
             [
              0,
              "#0d0887"
             ],
             [
              0.1111111111111111,
              "#46039f"
             ],
             [
              0.2222222222222222,
              "#7201a8"
             ],
             [
              0.3333333333333333,
              "#9c179e"
             ],
             [
              0.4444444444444444,
              "#bd3786"
             ],
             [
              0.5555555555555556,
              "#d8576b"
             ],
             [
              0.6666666666666666,
              "#ed7953"
             ],
             [
              0.7777777777777778,
              "#fb9f3a"
             ],
             [
              0.8888888888888888,
              "#fdca26"
             ],
             [
              1,
              "#f0f921"
             ]
            ],
            "type": "surface"
           }
          ],
          "table": [
           {
            "cells": {
             "fill": {
              "color": "#EBF0F8"
             },
             "line": {
              "color": "white"
             }
            },
            "header": {
             "fill": {
              "color": "#C8D4E3"
             },
             "line": {
              "color": "white"
             }
            },
            "type": "table"
           }
          ]
         },
         "layout": {
          "annotationdefaults": {
           "arrowcolor": "#2a3f5f",
           "arrowhead": 0,
           "arrowwidth": 1
          },
          "autotypenumbers": "strict",
          "coloraxis": {
           "colorbar": {
            "outlinewidth": 0,
            "ticks": ""
           }
          },
          "colorscale": {
           "diverging": [
            [
             0,
             "#8e0152"
            ],
            [
             0.1,
             "#c51b7d"
            ],
            [
             0.2,
             "#de77ae"
            ],
            [
             0.3,
             "#f1b6da"
            ],
            [
             0.4,
             "#fde0ef"
            ],
            [
             0.5,
             "#f7f7f7"
            ],
            [
             0.6,
             "#e6f5d0"
            ],
            [
             0.7,
             "#b8e186"
            ],
            [
             0.8,
             "#7fbc41"
            ],
            [
             0.9,
             "#4d9221"
            ],
            [
             1,
             "#276419"
            ]
           ],
           "sequential": [
            [
             0,
             "#0d0887"
            ],
            [
             0.1111111111111111,
             "#46039f"
            ],
            [
             0.2222222222222222,
             "#7201a8"
            ],
            [
             0.3333333333333333,
             "#9c179e"
            ],
            [
             0.4444444444444444,
             "#bd3786"
            ],
            [
             0.5555555555555556,
             "#d8576b"
            ],
            [
             0.6666666666666666,
             "#ed7953"
            ],
            [
             0.7777777777777778,
             "#fb9f3a"
            ],
            [
             0.8888888888888888,
             "#fdca26"
            ],
            [
             1,
             "#f0f921"
            ]
           ],
           "sequentialminus": [
            [
             0,
             "#0d0887"
            ],
            [
             0.1111111111111111,
             "#46039f"
            ],
            [
             0.2222222222222222,
             "#7201a8"
            ],
            [
             0.3333333333333333,
             "#9c179e"
            ],
            [
             0.4444444444444444,
             "#bd3786"
            ],
            [
             0.5555555555555556,
             "#d8576b"
            ],
            [
             0.6666666666666666,
             "#ed7953"
            ],
            [
             0.7777777777777778,
             "#fb9f3a"
            ],
            [
             0.8888888888888888,
             "#fdca26"
            ],
            [
             1,
             "#f0f921"
            ]
           ]
          },
          "colorway": [
           "#636efa",
           "#EF553B",
           "#00cc96",
           "#ab63fa",
           "#FFA15A",
           "#19d3f3",
           "#FF6692",
           "#B6E880",
           "#FF97FF",
           "#FECB52"
          ],
          "font": {
           "color": "#2a3f5f"
          },
          "geo": {
           "bgcolor": "white",
           "lakecolor": "white",
           "landcolor": "#E5ECF6",
           "showlakes": true,
           "showland": true,
           "subunitcolor": "white"
          },
          "hoverlabel": {
           "align": "left"
          },
          "hovermode": "closest",
          "mapbox": {
           "style": "light"
          },
          "paper_bgcolor": "white",
          "plot_bgcolor": "#E5ECF6",
          "polar": {
           "angularaxis": {
            "gridcolor": "white",
            "linecolor": "white",
            "ticks": ""
           },
           "bgcolor": "#E5ECF6",
           "radialaxis": {
            "gridcolor": "white",
            "linecolor": "white",
            "ticks": ""
           }
          },
          "scene": {
           "xaxis": {
            "backgroundcolor": "#E5ECF6",
            "gridcolor": "white",
            "gridwidth": 2,
            "linecolor": "white",
            "showbackground": true,
            "ticks": "",
            "zerolinecolor": "white"
           },
           "yaxis": {
            "backgroundcolor": "#E5ECF6",
            "gridcolor": "white",
            "gridwidth": 2,
            "linecolor": "white",
            "showbackground": true,
            "ticks": "",
            "zerolinecolor": "white"
           },
           "zaxis": {
            "backgroundcolor": "#E5ECF6",
            "gridcolor": "white",
            "gridwidth": 2,
            "linecolor": "white",
            "showbackground": true,
            "ticks": "",
            "zerolinecolor": "white"
           }
          },
          "shapedefaults": {
           "line": {
            "color": "#2a3f5f"
           }
          },
          "ternary": {
           "aaxis": {
            "gridcolor": "white",
            "linecolor": "white",
            "ticks": ""
           },
           "baxis": {
            "gridcolor": "white",
            "linecolor": "white",
            "ticks": ""
           },
           "bgcolor": "#E5ECF6",
           "caxis": {
            "gridcolor": "white",
            "linecolor": "white",
            "ticks": ""
           }
          },
          "title": {
           "x": 0.05
          },
          "xaxis": {
           "automargin": true,
           "gridcolor": "white",
           "linecolor": "white",
           "ticks": "",
           "title": {
            "standoff": 15
           },
           "zerolinecolor": "white",
           "zerolinewidth": 2
          },
          "yaxis": {
           "automargin": true,
           "gridcolor": "white",
           "linecolor": "white",
           "ticks": "",
           "title": {
            "standoff": 15
           },
           "zerolinecolor": "white",
           "zerolinewidth": 2
          }
         }
        },
        "title": {
         "text": "Average CO Levels by Season and City"
        },
        "xaxis": {
         "anchor": "y",
         "domain": [
          0,
          1
         ],
         "title": {
          "text": "Season"
         }
        },
        "yaxis": {
         "anchor": "x",
         "domain": [
          0,
          1
         ],
         "title": {
          "text": "co"
         }
        }
       }
      }
     },
     "metadata": {},
     "output_type": "display_data"
    }
   ],
   "source": [
    "import plotly.express as px\n",
    "\n",
    "# Assuming 'mean_pollution' is already computed and properly structured\n",
    "fig = px.bar(mean_pollution.reset_index(), x='Season', y='co', color='city', barmode='group',\n",
    "             title=\"Average CO Levels by Season and City\")\n",
    "fig.show()"
   ]
  },
  {
   "cell_type": "code",
   "execution_count": null,
   "metadata": {},
   "outputs": [
    {
     "name": "stdout",
     "output_type": "stream",
     "text": [
      "                                   co        no       no2         o3  \\\n",
      "Season city                                                            \n",
      "Autumn Aasiaat             222.287983  0.001397  0.151068  74.615141   \n",
      "       Abeokuta            993.953183  0.280750  6.633039  27.463079   \n",
      "       Acapulco De Juarez  354.906511  0.705208  8.333388  44.469840   \n",
      "       Acarau              266.098994  0.038611  0.988350  32.149035   \n",
      "       Achacachi           191.997063  0.038569  0.889280  18.728054   \n",
      "\n",
      "                                so2      pm2_5       pm10       nh3  \n",
      "Season city                                                          \n",
      "Autumn Aasiaat             0.084125   0.569967   1.316548  0.002326  \n",
      "       Abeokuta            4.852088  37.339746  70.525028  4.712871  \n",
      "       Acapulco De Juarez  1.822704   7.880881   9.530073  0.915050  \n",
      "       Acarau              0.244534   2.222610   3.482340  0.153132  \n",
      "       Achacachi           0.423257   2.864980   3.974421  0.646089  \n",
      "co       float64\n",
      "no       float64\n",
      "no2      float64\n",
      "o3       float64\n",
      "so2      float64\n",
      "pm2_5    float64\n",
      "pm10     float64\n",
      "nh3      float64\n",
      "dtype: object\n"
     ]
    }
   ],
   "source": [
    "print(mean_pollution.head())\n",
    "print(mean_pollution.dtypes)"
   ]
  },
  {
   "cell_type": "code",
   "execution_count": null,
   "metadata": {},
   "outputs": [
    {
     "name": "stdout",
     "output_type": "stream",
     "text": [
      "Top cities based on CO levels: MultiIndex([('Winter',          'Mandi Bahauddin'),\n",
      "            ('Autumn',                 'Makassar'),\n",
      "            ('Winter',                 'Makassar'),\n",
      "            ('Winter',                 'Sargodha'),\n",
      "            ('Winter',                   'Rampur'),\n",
      "            ('Spring',                 'Makassar'),\n",
      "            ('Winter', 'San Pablo De Las Salinas'),\n",
      "            ('Autumn',                 'Kingston'),\n",
      "            ('Autumn',                   'Rampur'),\n",
      "            ('Winter',                'Balurghat')],\n",
      "           names=['Season', 'city'])\n"
     ]
    }
   ],
   "source": [
    "# Select the top 10 cities based on CO levels, replace 'co' with the correct column name if different\n",
    "top_cities = mean_pollution.nlargest(10, 'co').index\n",
    "\n",
    "# Print the top cities to verify\n",
    "print(\"Top cities based on CO levels:\", top_cities)"
   ]
  },
  {
   "cell_type": "code",
   "execution_count": null,
   "metadata": {},
   "outputs": [
    {
     "ename": "NameError",
     "evalue": "name 'df' is not defined",
     "output_type": "error",
     "traceback": [
      "\u001b[1;31m---------------------------------------------------------------------------\u001b[0m",
      "\u001b[1;31mNameError\u001b[0m                                 Traceback (most recent call last)",
      "Cell \u001b[1;32mIn[18], line 2\u001b[0m\n\u001b[0;32m      1\u001b[0m \u001b[38;5;66;03m# Filter your main DataFrame to include only the top cities\u001b[39;00m\n\u001b[1;32m----> 2\u001b[0m filtered_data \u001b[38;5;241m=\u001b[39m \u001b[43mdf\u001b[49m[df[\u001b[38;5;124m'\u001b[39m\u001b[38;5;124mcity\u001b[39m\u001b[38;5;124m'\u001b[39m]\u001b[38;5;241m.\u001b[39misin(top_cities)]\n\u001b[0;32m      4\u001b[0m \u001b[38;5;66;03m# Assuming your DataFrame has a 'Season' column, and you want to visualize CO levels\u001b[39;00m\n\u001b[0;32m      5\u001b[0m \u001b[38;5;28;01mimport\u001b[39;00m \u001b[38;5;21;01mmatplotlib\u001b[39;00m\u001b[38;5;21;01m.\u001b[39;00m\u001b[38;5;21;01mpyplot\u001b[39;00m \u001b[38;5;28;01mas\u001b[39;00m \u001b[38;5;21;01mplt\u001b[39;00m\n",
      "\u001b[1;31mNameError\u001b[0m: name 'df' is not defined"
     ]
    }
   ],
   "source": [
    "# Filter your main DataFrame to include only the top cities\n",
    "filtered_data = seasonal_pollution_df[seasona['city'].isin(top_cities)]\n",
    "\n",
    "# Assuming your DataFrame has a 'Season' column, and you want to visualize CO levels\n",
    "import matplotlib.pyplot as plt\n",
    "\n",
    "# Calculate seasonal means for the filtered top cities\n",
    "seasonal_means = filtered_data.groupby(['Season', 'city'])['co'].mean().unstack()\n",
    "\n",
    "# Plotting\n",
    "seasonal_means.plot(kind='bar', figsize=(14, 7))\n",
    "plt.title('Average CO Levels by Season for Top 10 Cities')\n",
    "plt.xlabel('Season')\n",
    "plt.ylabel('Average CO Level')\n",
    "plt.legend(title='City', bbox_to_anchor=(1.05, 1), loc='upper left')\n",
    "plt.tight_layout()  # Adjust layout to make room for the legend\n",
    "plt.show()\n",
    "\n"
   ]
  },
  {
   "cell_type": "markdown",
   "metadata": {},
   "source": [
    "## Monthly EDA"
   ]
  },
  {
   "cell_type": "code",
   "execution_count": null,
   "metadata": {},
   "outputs": [
    {
     "data": {
      "text/html": [
       "<div>\n",
       "<style scoped>\n",
       "    .dataframe tbody tr th:only-of-type {\n",
       "        vertical-align: middle;\n",
       "    }\n",
       "\n",
       "    .dataframe tbody tr th {\n",
       "        vertical-align: top;\n",
       "    }\n",
       "\n",
       "    .dataframe thead th {\n",
       "        text-align: right;\n",
       "    }\n",
       "</style>\n",
       "<table border=\"1\" class=\"dataframe\">\n",
       "  <thead>\n",
       "    <tr style=\"text-align: right;\">\n",
       "      <th></th>\n",
       "      <th>city</th>\n",
       "      <th>Hemisphere</th>\n",
       "      <th>Month</th>\n",
       "      <th>Year</th>\n",
       "      <th>Month_Year</th>\n",
       "      <th>co</th>\n",
       "      <th>no</th>\n",
       "      <th>no2</th>\n",
       "      <th>o3</th>\n",
       "      <th>so2</th>\n",
       "      <th>...</th>\n",
       "      <th>pm10</th>\n",
       "      <th>nh3</th>\n",
       "      <th>name</th>\n",
       "      <th>latitude</th>\n",
       "      <th>longitude</th>\n",
       "      <th>country</th>\n",
       "      <th>population</th>\n",
       "      <th>is_capital</th>\n",
       "      <th>is_rural</th>\n",
       "      <th>country_full</th>\n",
       "    </tr>\n",
       "  </thead>\n",
       "  <tbody>\n",
       "    <tr>\n",
       "      <th>0</th>\n",
       "      <td>Aasiaat</td>\n",
       "      <td>Northern Hemisphere</td>\n",
       "      <td>4</td>\n",
       "      <td>2022</td>\n",
       "      <td>04_2022</td>\n",
       "      <td>252.090000</td>\n",
       "      <td>0.014762</td>\n",
       "      <td>0.100952</td>\n",
       "      <td>81.232381</td>\n",
       "      <td>0.320000</td>\n",
       "      <td>...</td>\n",
       "      <td>1.207143</td>\n",
       "      <td>0.0</td>\n",
       "      <td>Aasiaat</td>\n",
       "      <td>68.7097</td>\n",
       "      <td>-52.8694</td>\n",
       "      <td>GL</td>\n",
       "      <td>3134.0</td>\n",
       "      <td>False</td>\n",
       "      <td>True</td>\n",
       "      <td>Kalaallit Nunaat</td>\n",
       "    </tr>\n",
       "    <tr>\n",
       "      <th>1</th>\n",
       "      <td>Aasiaat</td>\n",
       "      <td>Northern Hemisphere</td>\n",
       "      <td>5</td>\n",
       "      <td>2022</td>\n",
       "      <td>05_2022</td>\n",
       "      <td>227.209261</td>\n",
       "      <td>0.018965</td>\n",
       "      <td>0.167043</td>\n",
       "      <td>77.694341</td>\n",
       "      <td>0.285349</td>\n",
       "      <td>...</td>\n",
       "      <td>0.742285</td>\n",
       "      <td>0.0</td>\n",
       "      <td>Aasiaat</td>\n",
       "      <td>68.7097</td>\n",
       "      <td>-52.8694</td>\n",
       "      <td>GL</td>\n",
       "      <td>3134.0</td>\n",
       "      <td>False</td>\n",
       "      <td>True</td>\n",
       "      <td>Kalaallit Nunaat</td>\n",
       "    </tr>\n",
       "    <tr>\n",
       "      <th>2</th>\n",
       "      <td>Aasiaat</td>\n",
       "      <td>Northern Hemisphere</td>\n",
       "      <td>6</td>\n",
       "      <td>2022</td>\n",
       "      <td>06_2022</td>\n",
       "      <td>191.287153</td>\n",
       "      <td>0.025917</td>\n",
       "      <td>0.236306</td>\n",
       "      <td>59.547097</td>\n",
       "      <td>0.188167</td>\n",
       "      <td>...</td>\n",
       "      <td>1.123806</td>\n",
       "      <td>0.0</td>\n",
       "      <td>Aasiaat</td>\n",
       "      <td>68.7097</td>\n",
       "      <td>-52.8694</td>\n",
       "      <td>GL</td>\n",
       "      <td>3134.0</td>\n",
       "      <td>False</td>\n",
       "      <td>True</td>\n",
       "      <td>Kalaallit Nunaat</td>\n",
       "    </tr>\n",
       "    <tr>\n",
       "      <th>3</th>\n",
       "      <td>Aasiaat</td>\n",
       "      <td>Northern Hemisphere</td>\n",
       "      <td>7</td>\n",
       "      <td>2022</td>\n",
       "      <td>07_2022</td>\n",
       "      <td>169.996394</td>\n",
       "      <td>0.026724</td>\n",
       "      <td>0.390618</td>\n",
       "      <td>50.260647</td>\n",
       "      <td>0.268520</td>\n",
       "      <td>...</td>\n",
       "      <td>1.830647</td>\n",
       "      <td>0.0</td>\n",
       "      <td>Aasiaat</td>\n",
       "      <td>68.7097</td>\n",
       "      <td>-52.8694</td>\n",
       "      <td>GL</td>\n",
       "      <td>3134.0</td>\n",
       "      <td>False</td>\n",
       "      <td>True</td>\n",
       "      <td>Kalaallit Nunaat</td>\n",
       "    </tr>\n",
       "    <tr>\n",
       "      <th>4</th>\n",
       "      <td>Aasiaat</td>\n",
       "      <td>Northern Hemisphere</td>\n",
       "      <td>8</td>\n",
       "      <td>2022</td>\n",
       "      <td>08_2022</td>\n",
       "      <td>177.617043</td>\n",
       "      <td>0.014019</td>\n",
       "      <td>0.316142</td>\n",
       "      <td>48.172903</td>\n",
       "      <td>0.207083</td>\n",
       "      <td>...</td>\n",
       "      <td>1.295108</td>\n",
       "      <td>0.0</td>\n",
       "      <td>Aasiaat</td>\n",
       "      <td>68.7097</td>\n",
       "      <td>-52.8694</td>\n",
       "      <td>GL</td>\n",
       "      <td>3134.0</td>\n",
       "      <td>False</td>\n",
       "      <td>True</td>\n",
       "      <td>Kalaallit Nunaat</td>\n",
       "    </tr>\n",
       "  </tbody>\n",
       "</table>\n",
       "<p>5 rows × 21 columns</p>\n",
       "</div>"
      ],
      "text/plain": [
       "      city           Hemisphere  Month  Year Month_Year          co        no  \\\n",
       "0  Aasiaat  Northern Hemisphere      4  2022    04_2022  252.090000  0.014762   \n",
       "1  Aasiaat  Northern Hemisphere      5  2022    05_2022  227.209261  0.018965   \n",
       "2  Aasiaat  Northern Hemisphere      6  2022    06_2022  191.287153  0.025917   \n",
       "3  Aasiaat  Northern Hemisphere      7  2022    07_2022  169.996394  0.026724   \n",
       "4  Aasiaat  Northern Hemisphere      8  2022    08_2022  177.617043  0.014019   \n",
       "\n",
       "        no2         o3       so2  ...      pm10  nh3     name latitude  \\\n",
       "0  0.100952  81.232381  0.320000  ...  1.207143  0.0  Aasiaat  68.7097   \n",
       "1  0.167043  77.694341  0.285349  ...  0.742285  0.0  Aasiaat  68.7097   \n",
       "2  0.236306  59.547097  0.188167  ...  1.123806  0.0  Aasiaat  68.7097   \n",
       "3  0.390618  50.260647  0.268520  ...  1.830647  0.0  Aasiaat  68.7097   \n",
       "4  0.316142  48.172903  0.207083  ...  1.295108  0.0  Aasiaat  68.7097   \n",
       "\n",
       "   longitude  country population  is_capital  is_rural      country_full  \n",
       "0   -52.8694       GL     3134.0       False      True  Kalaallit Nunaat  \n",
       "1   -52.8694       GL     3134.0       False      True  Kalaallit Nunaat  \n",
       "2   -52.8694       GL     3134.0       False      True  Kalaallit Nunaat  \n",
       "3   -52.8694       GL     3134.0       False      True  Kalaallit Nunaat  \n",
       "4   -52.8694       GL     3134.0       False      True  Kalaallit Nunaat  \n",
       "\n",
       "[5 rows x 21 columns]"
      ]
     },
     "execution_count": 10,
     "metadata": {},
     "output_type": "execute_result"
    }
   ],
   "source": [
    "monthly_pollution_df.head()"
   ]
  },
  {
   "cell_type": "code",
   "execution_count": null,
   "metadata": {},
   "outputs": [
    {
     "data": {
      "text/plain": [
       "city             object\n",
       "Hemisphere       object\n",
       "Month             int64\n",
       "Year              int64\n",
       "Month_Year       object\n",
       "co              float64\n",
       "no              float64\n",
       "no2             float64\n",
       "o3              float64\n",
       "so2             float64\n",
       "pm2_5           float64\n",
       "pm10            float64\n",
       "nh3             float64\n",
       "name             object\n",
       "latitude        float64\n",
       "longitude       float64\n",
       "country          object\n",
       "population      float64\n",
       "is_capital         bool\n",
       "is_rural           bool\n",
       "country_full     object\n",
       "dtype: object"
      ]
     },
     "execution_count": 11,
     "metadata": {},
     "output_type": "execute_result"
    }
   ],
   "source": [
    "dtypes = monthly_pollution_df.dtypes\n",
    "dtypes"
   ]
  }
 ],
 "metadata": {
  "kernelspec": {
   "display_name": "dev",
   "language": "python",
   "name": "python3"
  },
  "language_info": {
   "codemirror_mode": {
    "name": "ipython",
    "version": 3
   },
   "file_extension": ".py",
   "mimetype": "text/x-python",
   "name": "python",
   "nbconvert_exporter": "python",
   "pygments_lexer": "ipython3",
   "version": "3.10.14"
  }
 },
 "nbformat": 4,
 "nbformat_minor": 2
}
