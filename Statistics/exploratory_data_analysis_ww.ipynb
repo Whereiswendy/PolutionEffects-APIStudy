{
 "cells": [
  {
   "cell_type": "markdown",
   "metadata": {},
   "source": [
    "# Exploratory Data Analysis"
   ]
  },
  {
   "cell_type": "code",
   "execution_count": null,
   "metadata": {},
   "outputs": [],
   "source": [
    "pwd"
   ]
  },
  {
   "cell_type": "markdown",
   "metadata": {},
   "source": [
    "## Data Preparation and Dependencies Setup"
   ]
  },
  {
   "cell_type": "code",
   "execution_count": null,
   "metadata": {},
   "outputs": [],
   "source": [
    "# Dependencies and Setup\n",
    "import matplotlib.pyplot as plt\n",
    "import pandas as pd\n",
    "import scipy.stats as st\n",
    "import os\n",
    "from scipy.stats import stats\n",
    "\n",
    "# Study data files\n",
    "seasonal_pollution_path = os.path.join(\"..\",\"Resources\", \"Data\", \"seasonal_combined_df1_ww.csv\")\n",
    "monthly_pollution_path = os.path.join(\"..\",\"Resources\", \"Data\", \"monthly_combined_df1_ww.csv\")\n",
    "\n",
    "# Read the data and the results\n",
    "\n",
    "seasonal_pollution_df = pd.read_csv(seasonal_pollution_path)\n",
    "monthly_pollution_df = pd.read_csv(monthly_pollution_path)\n",
    "\n",
    "# Create output directory\n",
    "stats_output_dir_season = 'Stats_Outputs/Season'\n",
    "if not os.path.exists(stats_output_dir_season):\n",
    "    os.makedirs(stats_output_dir_season)\n",
    "\n",
    "stats_output_dir_month = 'Stats_Outputs/Month'\n",
    "if not os.path.exists(stats_output_dir_month):\n",
    "    os.makedirs(stats_output_dir_month)\n"
   ]
  },
  {
   "cell_type": "markdown",
   "metadata": {},
   "source": [
    "## Seasonal EDA"
   ]
  },
  {
   "cell_type": "code",
   "execution_count": null,
   "metadata": {},
   "outputs": [],
   "source": [
    "seasonal_pollution_df.head()\n"
   ]
  },
  {
   "cell_type": "code",
   "execution_count": null,
   "metadata": {},
   "outputs": [],
   "source": [
    "dtypes = seasonal_pollution_df.dtypes\n",
    "dtypes"
   ]
  },
  {
   "cell_type": "code",
   "execution_count": null,
   "metadata": {},
   "outputs": [],
   "source": [
    "seasonal_pollution_df.describe()"
   ]
  },
  {
   "cell_type": "code",
   "execution_count": null,
   "metadata": {},
   "outputs": [],
   "source": [
    "# Check for missing values\n",
    "print(seasonal_pollution_df.isnull().sum())"
   ]
  },
  {
   "cell_type": "code",
   "execution_count": null,
   "metadata": {},
   "outputs": [],
   "source": [
    "# Checking the number of mice.\n",
    "number_of_cities=seasonal_pollution_df['city'].nunique()\n",
    "number_of_cities"
   ]
  },
  {
   "cell_type": "code",
   "execution_count": null,
   "metadata": {},
   "outputs": [],
   "source": [
    "# Create a new column by combining 'city' and 'Season_Year' with an underscore\n",
    "seasonal_pollution_df['city_season'] = seasonal_pollution_df['city'] + '_' + seasonal_pollution_df['Season_Year']\n",
    "\n",
    "# Check the first few rows to ensure the new column is correct\n",
    "print(seasonal_pollution_df[['city_season']].head())\n",
    "\n"
   ]
  },
  {
   "cell_type": "code",
   "execution_count": null,
   "metadata": {},
   "outputs": [],
   "source": [
    "entry_count = len(seasonal_pollution_df['city_season'])\n",
    "entry_count"
   ]
  },
  {
   "cell_type": "code",
   "execution_count": null,
   "metadata": {},
   "outputs": [],
   "source": [
    "# Get the duplicate city\n",
    "duplicates=seasonal_pollution_df[seasonal_pollution_df.duplicated(subset=[\"city\", \"Season_Year\"], keep=False)]\n",
    "duplicates['city'].unique()"
   ]
  },
  {
   "cell_type": "code",
   "execution_count": null,
   "metadata": {},
   "outputs": [],
   "source": [
    "duplicated_rows=seasonal_pollution_df[seasonal_pollution_df.duplicated(subset=['city', 'Season_Year'], keep=False)]\n",
    "\n",
    "print('Duplicated entries: ', len(duplicated_rows))\n",
    "print(duplicated_rows.head())\n"
   ]
  },
  {
   "cell_type": "code",
   "execution_count": null,
   "metadata": {},
   "outputs": [],
   "source": [
    "# Dropping duplicates, keeping the first entry\n",
    "seasonal_pollution_clean_df = seasonal_pollution_df.drop_duplicates(subset=['city', 'Season_Year'], keep='first')\n",
    "seasonal_pollution_clean_df.head()"
   ]
  },
  {
   "cell_type": "code",
   "execution_count": null,
   "metadata": {},
   "outputs": [],
   "source": [
    "# Checking the number of mice.\n",
    "number_of_cities_no_dups=seasonal_pollution_clean_df['city'].nunique()\n",
    "number_of_cities_no_dups"
   ]
  },
  {
   "cell_type": "code",
   "execution_count": null,
   "metadata": {},
   "outputs": [],
   "source": [
    "entry_count = len(seasonal_pollution_clean_df['city_season'])\n",
    "entry_count"
   ]
  },
  {
   "cell_type": "code",
   "execution_count": null,
   "metadata": {},
   "outputs": [],
   "source": [
    "# List of columns to plot\n",
    "pollutants = ['co', 'no', 'no2', 'o3', 'so2', 'pm2_5', 'pm10', 'nh3']\n",
    "\n",
    "# Create a histogram for each column\n",
    "for pollutant in pollutants:\n",
    "    plt.figure()\n",
    "    seasonal_pollution_df[pollutant].plot(kind='hist', bins=20)\n",
    "    plt.xlabel(pollutant)\n",
    "    plt.ylabel('Frequency')\n",
    "    plt.title(f'Histogram of global {pollutant}')\n",
    "    plt.savefig(f'{stats_output_dir_season}/{pollutant}_histogram_global.png')\n",
    "    plt.close()\n"
   ]
  },
  {
   "cell_type": "code",
   "execution_count": null,
   "metadata": {},
   "outputs": [],
   "source": [
    "seasons = seasonal_pollution_clean_df['Season'].unique()\n"
   ]
  },
  {
   "cell_type": "code",
   "execution_count": null,
   "metadata": {},
   "outputs": [],
   "source": [
    "# Optional: Define a color map for different seasons for visual clarity\n",
    "colors = ['blue', 'green', 'red', 'purple']  # One color for each season\n",
    "season_color = {season: color for season, color in zip(seasons, colors)}\n",
    "\n",
    "for pollutant in pollutants:\n",
    "    plt.figure(figsize=(10, 6))  # Create a figure for each pollutant\n",
    "\n",
    "    for season in seasons:\n",
    "        season_data = seasonal_pollution_df[seasonal_pollution_df['Season'] == season][pollutant].dropna()\n",
    "        plt.hist(season_data, bins=20, histtype='step', linewidth=1.5, label=season, color=season_color[season])\n",
    "\n",
    "    plt.title(f'Global Histogram of {pollutant.capitalize()} by Season')\n",
    "    plt.xlabel(f'{pollutant.capitalize()} Concentration')\n",
    "    plt.ylabel('Frequency')\n",
    "    plt.legend(title='Season')\n",
    "    plt.grid(True)  # Optional: Turn on grid for better readability\n",
    "\n",
    "    # Save the plot in the output directory\n",
    "    plt.savefig(f'{stats_output_dir_season}/{pollutant}_global_histogram_by_season.png')\n",
    "    plt.close()  # Close the plot to free up memory"
   ]
  },
  {
   "cell_type": "code",
   "execution_count": null,
   "metadata": {},
   "outputs": [],
   "source": [
    "pollutants = ['co', 'no', 'no2', 'o3', 'so2', 'pm2_5', 'pm10', 'nh3']\n",
    "for pollutant in pollutants:\n",
    "    seasonal_pollution_clean_df[pollutant] = pd.to_numeric(seasonal_pollution_clean_df[pollutant], errors='coerce')\n",
    "\n",
    "mean_pollution = seasonal_pollution_clean_df.groupby(['Season'])[pollutants].mean()\n",
    "max_pollution = seasonal_pollution_clean_df.groupby(['Season'])[pollutants].max()\n",
    "min_pollution = seasonal_pollution_clean_df.groupby(['Season'])[pollutants].min()\n",
    "std_pollution = seasonal_pollution_clean_df.groupby(['Season'])[pollutants].std()\n",
    "\n",
    "# Concatenate the statistics DataFrames along columns\n",
    "stats_by_season = pd.concat([\n",
    "    mean_pollution.add_suffix('_Mean'),\n",
    "    max_pollution.add_suffix('_Max'),\n",
    "    min_pollution.add_suffix('_Min'),\n",
    "    std_pollution.add_suffix('_Std')\n",
    "], axis=1)\n",
    "\n",
    "# Transpose the DataFrame\n",
    "transposed_stats_by_season = stats_by_season.T\n",
    "\n",
    "# Sort the DataFrame by the index directly if 'Season' is the index\n",
    "sorted_transposed_stats_by_season = transposed_stats_by_season.sort_index(ascending=True)\n",
    "\n",
    "# Print the sorted DataFrame\n",
    "print(sorted_transposed_stats_by_season)"
   ]
  },
  {
   "cell_type": "code",
   "execution_count": null,
   "metadata": {},
   "outputs": [],
   "source": [
    "# IQR plots\n",
    "\n",
    "# Output file path\n",
    "txt_file_path = os.path.join(stats_output_dir_season, 'IQR.txt')\n",
    "\n",
    "# Open the output file and write to it\n",
    "with open(txt_file_path, 'w') as txt_file:\n",
    "    # Loop over each season\n",
    "    for season in seasonal_pollution_clean_df['Season'].unique():\n",
    "        txt_file.write(f\"Season: {season}\\n\")\n",
    "        # Filter data for the current season\n",
    "        season_data = seasonal_pollution_clean_df[seasonal_pollution_clean_df['Season'] == season]\n",
    "\n",
    "        # Calculate the IQR for each pollutant for the current season\n",
    "        for pollutant in pollutants:\n",
    "            if pollutant in season_data.columns:  # Check if the column exists\n",
    "                clean_data = season_data[pollutant].dropna()\n",
    "                quartiles = clean_data.quantile([.25, .75])\n",
    "                first_quartile = quartiles[0.25]\n",
    "                third_quartile = quartiles[0.75]\n",
    "                iqr = third_quartile - first_quartile\n",
    "\n",
    "                # Calculate lower and upper bounds to identify outliers\n",
    "                lower_bound = first_quartile - 1.5 * iqr\n",
    "                upper_bound = third_quartile + 1.5 * iqr\n",
    "                outliers = clean_data[(clean_data < lower_bound) | (clean_data > upper_bound)]\n",
    "\n",
    "                txt_file.write(f\"{pollutant.capitalize()} IQR: {iqr:.2f}\\n\")\n",
    "                txt_file.write(f\"Values below {lower_bound:.2f} or above {upper_bound:.2f} could be outliers.\\n\")\n",
    "\n",
    "                # Identify and report potential outliers\n",
    "                if not outliers.empty:\n",
    "                    txt_file.write(f\"Potential outliers: {outliers.values}\\n\")\n",
    "                else:\n",
    "                    txt_file.write(\"No potential outliers detected.\\n\")\n",
    "                txt_file.write(\"================================================================================\\n\")\n",
    "\n",
    "        txt_file.write(\"\\n\")  # Add a newline for separation between seasons\n",
    "    \n",
    "\n"
   ]
  },
  {
   "cell_type": "code",
   "execution_count": null,
   "metadata": {},
   "outputs": [],
   "source": [
    "\n",
    "# Assuming 'seasonal_pollution_df', 'seasons', and 'pollutants' are predefined\n",
    "# Make sure the output directory exists\n",
    "os.makedirs(stats_output_dir_season, exist_ok=True)\n",
    "\n",
    "# Prepare data for plotting\n",
    "pollutant_data_by_season = {\n",
    "    pollutant: [\n",
    "        seasonal_pollution_df[\n",
    "            (seasonal_pollution_df['Season'] == season) & \n",
    "            (seasonal_pollution_df[pollutant].notna())\n",
    "        ][pollutant] for season in seasons\n",
    "    ] for pollutant in pollutants\n",
    "}\n",
    "\n",
    "# Create box plots for each pollutant\n",
    "for pollutant, data in pollutant_data_by_season.items():\n",
    "    fig, ax = plt.subplots()\n",
    "    ax.boxplot(data, labels=seasons, showfliers=False)\n",
    "    ax.set_title(f'{pollutant.capitalize()} Levels Across Seasons')\n",
    "    ax.set_ylabel('Concentration')\n",
    "    ax.set_xlabel('Season')\n",
    "\n",
    "    # Setting x-axis tick labels with rotation and applying tight layout\n",
    "    plt.xticks(rotation=45)\n",
    "    plt.tight_layout()\n",
    "\n",
    "    # Define output file name for each pollutant plot and save it\n",
    "    png_file_name = f'{pollutant}_box_plots.png'\n",
    "    png_file_path = os.path.join(stats_output_dir_season, png_file_name)\n",
    "\n",
    "    # Save the plot to the specified path\n",
    "    fig.savefig(png_file_path)\n",
    "    \n",
    "    # Optionally display the plot\n",
    "    plt.show()"
   ]
  },
  {
   "cell_type": "code",
   "execution_count": null,
   "metadata": {},
   "outputs": [],
   "source": [
    "# ANOVA - nh3\n",
    "\n",
    "group0 = seasonal_pollution_clean_df[seasonal_pollution_clean_df[\"Season\"] == 'Summer'][\"nh3\"]\n",
    "group1 = seasonal_pollution_clean_df[seasonal_pollution_clean_df[\"Season\"] == 'Autumn'][\"nh3\"]\n",
    "group2 = seasonal_pollution_clean_df[seasonal_pollution_clean_df[\"Season\"] == 'Winter'][\"nh3\"]\n",
    "group3 = seasonal_pollution_clean_df[seasonal_pollution_clean_df[\"Season\"] == 'Spring'][\"nh3\"]"
   ]
  },
  {
   "cell_type": "code",
   "execution_count": null,
   "metadata": {},
   "outputs": [],
   "source": [
    "# Perform the ANOVA - nh3\n",
    "stats.f_oneway(group0, group1, group2, group3)"
   ]
  },
  {
   "cell_type": "code",
   "execution_count": null,
   "metadata": {},
   "outputs": [],
   "source": [
    "# Make sure the output directory exists\n",
    "os.makedirs(stats_output_dir_season, exist_ok=True)\n",
    "\n",
    "# Prepare data for ANOVA and plotting\n",
    "pollutant_data_by_season = {\n",
    "    pollutant: [\n",
    "        seasonal_pollution_df[\n",
    "            (seasonal_pollution_df['Season'] == season) & \n",
    "            (seasonal_pollution_df[pollutant].notna())\n",
    "        ][pollutant].values for season in seasons\n",
    "    ] for pollutant in pollutants\n",
    "}\n",
    "\n",
    "# Prepare a file to log ANOVA results\n",
    "anova_results_path = os.path.join(stats_output_dir_season, 'ANOVA_results.txt')\n",
    "with open(anova_results_path, 'w') as results_file:\n",
    "    results_file.write(\"ANOVA Results for Pollutants Across Seasons\\n\")\n",
    "    results_file.write(\"-------------------------------------------------\\n\")\n",
    "\n",
    "    # Conduct ANOVA for each pollutant and create box plots\n",
    "    for pollutant, data in pollutant_data_by_season.items():\n",
    "        # Ensure there's enough data for ANOVA (i.e., at least one season with data)\n",
    "        if all(len(d) > 1 for d in data):  # Checking that each season has more than one data point\n",
    "            # Perform ANOVA\n",
    "            f_stat, p_value = stats.f_oneway(*data)\n",
    "            results_file.write(f\"{pollutant.capitalize()}:\\n\")\n",
    "            results_file.write(f\"F-Statistic: {f_stat:.4f}, P-Value: {p_value:.4e}\\n\")\n",
    "            results_file.write(\"\\n\")\n",
    "\n",
    "            # Create and save box plot\n",
    "            fig, ax = plt.subplots()\n",
    "            ax.boxplot(data, labels=seasons, showfliers=False)\n",
    "            ax.set_title(f'{pollutant.capitalize()} Levels Across Seasons')\n",
    "            ax.set_ylabel('Concentration')\n",
    "            ax.set_xlabel('Season')\n",
    "            plt.xticks(rotation=45)\n",
    "            plt.tight_layout()\n",
    "            png_file_name = f'{pollutant}_box_plots.png'\n",
    "            png_file_path = os.path.join(stats_output_dir_season, png_file_name)\n",
    "            fig.savefig(png_file_path)\n",
    "            plt.close(fig)  # Close the figure to free up memory\n",
    "\n",
    "        else:\n",
    "            results_file.write(f\"Not enough data for ANOVA on {pollutant}.\\n\\n\")"
   ]
  },
  {
   "cell_type": "code",
   "execution_count": null,
   "metadata": {},
   "outputs": [],
   "source": [
    "import matplotlib.pyplot as plt\n",
    "import numpy as np\n",
    "\n",
    "# Data from your ANOVA results\n",
    "pollutants = ['CO', 'NO', 'NO2', 'O3', 'SO2', 'PM2_5', 'PM10', 'NH3']\n",
    "f_statistics = [30.5779, 21.9336, 44.9542, 198.0145, 7.5631, 25.4162, 7.9426, 17.9767]\n",
    "p_values = [1.5974e-19, 4.4627e-14, 1.5603e-28, 3.4625e-119, 4.8375e-05, 2.8428e-16, 2.8098e-05, 1.3981e-11]\n",
    "\n",
    "# Convert P-values to a negative log scale to make them more readable on the graph\n",
    "neg_log_p_values = -np.log10(p_values)\n"
   ]
  },
  {
   "cell_type": "code",
   "execution_count": null,
   "metadata": {},
   "outputs": [],
   "source": [
    "fig, ax = plt.subplots()\n",
    "\n",
    "# Create a bar chart for the F-statistics\n",
    "bars = ax.bar(pollutants, f_statistics, color='skyblue')\n",
    "\n",
    "# Label the chart and axes\n",
    "ax.set_xlabel('Pollutant')\n",
    "ax.set_ylabel('F-Statistic')\n",
    "ax.set_title('ANOVA F-Statistics for Pollutants Across Seasons')\n",
    "ax.set_yscale('log')  # Use a log scale for better visibility if values vary widely\n",
    "\n",
    "# Annotate bars with P-values\n",
    "for bar, p_value in zip(bars, neg_log_p_values):\n",
    "    yval = bar.get_height()\n",
    "    ax.text(bar.get_x() + bar.get_width()/2, yval, f'{p_value:.2f}', va='bottom', ha='center')  # Adjust formatting as needed\n",
    "\n",
    "plt.xticks(rotation=45)  # Rotate labels for better readability\n",
    "plt.tight_layout()  # Adjust layout to fit everything\n",
    "plt.show()\n"
   ]
  },
  {
   "cell_type": "code",
   "execution_count": null,
   "metadata": {},
   "outputs": [],
   "source": [
    "# Data from your ANOVA results (reusing some of the example data)\n",
    "pollutants = ['CO', 'NO', 'NO2', 'O3', 'SO2', 'PM2_5', 'PM10', 'NH3']\n",
    "p_values = [1.5974e-19, 4.4627e-14, 1.5603e-28, 3.4625e-119, 4.8375e-05, 2.8428e-16, 2.8098e-05, 1.3981e-11]\n",
    "\n",
    "# Convert P-values to a negative log scale to make them more readable on the graph\n",
    "neg_log_p_values = -np.log10(p_values)\n",
    "\n",
    "# Create the plot\n",
    "fig, ax = plt.subplots()\n",
    "\n",
    "# Create a bar chart for the negative log of P-values\n",
    "bars = ax.bar(pollutants, neg_log_p_values, color='skyblue')\n",
    "\n",
    "# Label the chart and axes\n",
    "ax.set_xlabel('Pollutant')\n",
    "ax.set_ylabel('-log10(P-Value)')\n",
    "ax.set_title('Negative Log of P-Values for ANOVA Tests Across Seasons')\n",
    "\n",
    "# Setting y-axis with a log scale may not be necessary here because values are already transformed\n",
    "# ax.set_yscale('log')\n",
    "\n",
    "# Annotate bars with original P-values\n",
    "for bar, p_value in zip(bars, p_values):\n",
    "    yval = bar.get_height()\n",
    "    ax.text(bar.get_x() + bar.get_width()/2, yval, f'{p_value:.2e}', va='bottom', ha='center')  # Adjust formatting as needed\n",
    "\n",
    "plt.xticks(rotation=45)  # Rotate labels for better readability\n",
    "plt.tight_layout()  # Adjust layout to fit everything\n",
    "plt.show()"
   ]
  },
  {
   "cell_type": "markdown",
   "metadata": {},
   "source": [
    "Analysis Summary:\n",
    "\n",
    "1. Carbon Monoxide (CO):\n",
    "- F-Statistic: 30.5779\n",
    "- P-Value: 1.5974e-19\n",
    "- Interpretation: The extremely small P-value suggests there is a highly significant difference in the mean levels of CO across seasons.\n",
    "\n",
    "2. Nitric Oxide (NO):\n",
    "- F-Statistic: 21.9336\n",
    "- P-Value: 4.4627e-14\n",
    "- Interpretation: There is a significant difference in NO concentrations across seasons, indicated by a very small P-value.\n",
    "\n",
    "3. Nitrogen Dioxide (NO2):\n",
    "- F-Statistic: 44.9542\n",
    "- P-Value: 1.5603e-28\n",
    "- Interpretation: The results show a highly significant seasonal variation in NO2 levels.\n",
    "\n",
    "4. Ozone (O3):\n",
    "- F-Statistic: 198.0145\n",
    "- P-Value: 3.4625e-119\n",
    "- Interpretation: Ozone shows the strongest seasonal variation among all pollutants tested, with a strikingly significant difference in means.\n",
    "\n",
    "5. Sulfur Dioxide (SO2):\n",
    "- F-Statistic: 7.5631\n",
    "- P-Value: 4.8375e-05\n",
    "- Interpretation: There is a significant difference in SO2 concentrations across different seasons, although the effect size (as suggested by the F-statistic) is smaller compared to others like O3 or NO2.\n",
    "\n",
    "6. Particulate Matter 2.5 (PM2.5):\n",
    "- F-Statistic: 25.4162\n",
    "- P-Value: 2.8428e-16\n",
    "- Interpretation: PM2.5 levels vary significantly across seasons, with a very low P-value indicating strong statistical significance.\n",
    "\n",
    "7. Particulate Matter 10 (PM10):\n",
    "- F-Statistic: 7.9426\n",
    "- P-Value: 2.8098e-05\n",
    "- Interpretation: There's a significant seasonal variation in PM10 levels, similar to SO2 in terms of statistical weight.\n",
    "\n",
    "8. Ammonia (NH3):\n",
    "- F-Statistic: 17.9767\n",
    "- P-Value: 1.3981e-11\n",
    "- Interpretation: NH3 concentrations significantly differ across seasons, showing substantial variation.\n",
    "\n",
    "```Conclusion:```\n",
    "The ANOVA tests reveal significant differences in the seasonal concentrations of all tested pollutants. The results suggest that factors influencing these pollutants vary across different times of the year, which could be due to changes in weather, heating practices, traffic patterns, or other seasonal activities affecting pollutant levels."
   ]
  },
  {
   "cell_type": "markdown",
   "metadata": {},
   "source": [
    "### Spatial Plotting"
   ]
  },
  {
   "cell_type": "code",
   "execution_count": null,
   "metadata": {},
   "outputs": [],
   "source": [
    "# Import the required libraries\n",
    "import hvplot.pandas\n",
    "import pandas as pd\n",
    "\n",
    "# Turn off warning messages\n",
    "import warnings\n",
    "warnings.filterwarnings(\"ignore\")"
   ]
  },
  {
   "cell_type": "code",
   "execution_count": null,
   "metadata": {},
   "outputs": [],
   "source": [
    "coordinates_df = seasonal_pollution_clean_df.copy()\n",
    "\n",
    "# Columns of interest for spatial plotting\n",
    "coordinates_df = coordinates_df[['city', 'country_full', 'latitude', 'longitude', 'Season', 'population', 'co', 'no', 'no2', 'o3', 'so2', 'pm2_5', 'pm10', 'nh3']]\n",
    "\n",
    "coordinates_df.head(3)"
   ]
  },
  {
   "cell_type": "code",
   "execution_count": null,
   "metadata": {},
   "outputs": [],
   "source": [
    "# Select only numeric columns for aggregation\n",
    "numeric_cols = coordinates_df.select_dtypes(include=[np.number]).columns.tolist()\n",
    "\n",
    "# Specify the columns to group by\n",
    "grouping_cols = ['city', 'Season']\n",
    "\n",
    "# Group by 'city' and 'Season', and calculate the mean for numeric columns\n",
    "city_season_aggregates = coordinates_df.groupby(grouping_cols)[numeric_cols].mean()\n",
    "\n",
    "# Reset the index if you want 'city' and 'Season' as columns and not as an index\n",
    "city_season_aggregates = city_season_aggregates.reset_index()\n",
    "\n",
    "city_season_aggregates.head()  # Shows the first few rows of the aggregated data"
   ]
  },
  {
   "cell_type": "code",
   "execution_count": null,
   "metadata": {},
   "outputs": [],
   "source": [
    "import geoviews as gv\n",
    "import geoviews.tile_sources as gts\n",
    "import hvplot.pandas  # Provides an extension to convert Pandas DataFrame into a Holoviews object\n",
    "import pandas as pd\n",
    "import holoviews as hv"
   ]
  },
  {
   "cell_type": "code",
   "execution_count": null,
   "metadata": {},
   "outputs": [],
   "source": [
    "# Enable Holoviews extension for Jupyter\n",
    "hv.extension('bokeh')\n",
    "\n",
    "# Select a tile source\n",
    "tiles = gv.tile_sources.OSM"
   ]
  },
  {
   "cell_type": "code",
   "execution_count": null,
   "metadata": {},
   "outputs": [],
   "source": [
    "# CO Pollutant Levels by Season (Winter) and City - testing one\n",
    "\n",
    "# Filter the DataFrame for a specific season, e.g., 'Winter'\n",
    "winter_data = coordinates_df[coordinates_df['Season'] == 'Winter']\n",
    "\n",
    "# Define the color scale range\n",
    "color_range = (0, 1000)  # Adjusted to limit maximum CO level to 1400\n",
    "\n",
    "# Plotting code as previously discussed, with clim parameter added\n",
    "points = winter_data.hvplot.points('longitude', 'latitude', geo=True, color='co', cmap='rainbow', size=(winter_data['population']*0.0001), hover_cols=['city', 'Season', 'co'], clim=color_range)\n",
    "plot = tiles * points\n",
    "plot.opts(width=700, height=500, toolbar='above', title=\"Winter Pollution Levels by City\")"
   ]
  },
  {
   "cell_type": "code",
   "execution_count": null,
   "metadata": {},
   "outputs": [],
   "source": [
    "# Define the list of pollutants and seasons\n",
    "pollutants = ['co', 'no', 'no2', 'o3', 'so2', 'pm2_5', 'pm10', 'nh3']\n",
    "seasons = ['Winter', 'Spring', 'Autumn', 'Summer']\n",
    "\n",
    "# Iterate over pollutants and seasons\n",
    "for pollutant in pollutants:\n",
    "    for season in seasons:\n",
    "        # Filter the DataFrame for the current season and pollutant\n",
    "        data = coordinates_df[(coordinates_df['Season'] == season)]\n",
    "        \n",
    "        # Define the color scale range for the current pollutant\n",
    "        color_range = (0, 1000)  # Adjusted to limit maximum CO level to 1000\n",
    "\n",
    "        # Plotting code with population as bubble size and current pollutant\n",
    "        points = data.hvplot.points('longitude', 'latitude', geo=True, color=pollutant, cmap='rainbow', size=(data['population'] * 0.0001), hover_cols=['city', 'Season', pollutant], clim=color_range)\n",
    "        plot = tiles * points\n",
    "        plot.opts(width=700, height=500, toolbar='above', title=f\"{season} Pollution Levels by City\")\n",
    "\n",
    "        # Save the plot as a PNG file in the outputs directory\n",
    "        output_filename = os.path.join(stats_output_dir_season, f\"{pollutant}_{season}.png\")\n",
    "        hv.save(plot, output_filename)\n",
    "\n",
    "        print(f\"Plot saved for {pollutant} in {season} season.\")"
   ]
  },
  {
   "cell_type": "markdown",
   "metadata": {},
   "source": [
    "### Additional Analysis"
   ]
  },
  {
   "cell_type": "code",
   "execution_count": null,
   "metadata": {},
   "outputs": [],
   "source": [
    "import plotly.express as px\n",
    "\n",
    "colour=['orange', 'green', 'yellow', 'blue']\n",
    "\n",
    "# Assuming 'mean_pollution' is already computed and properly structured\n",
    "fig = px.bar(mean_pollution.reset_index(), x='Season', y='co', color='Season', barmode='group', color_discrete_sequence=colour,\n",
    "             title=\"Average CO Levels by Season and City\")\n",
    "fig.show()"
   ]
  },
  {
   "cell_type": "code",
   "execution_count": null,
   "metadata": {},
   "outputs": [],
   "source": [
    "print(mean_pollution.head())\n",
    "print(mean_pollution.dtypes)"
   ]
  },
  {
   "cell_type": "code",
   "execution_count": null,
   "metadata": {},
   "outputs": [],
   "source": [
    "# Select the top 10 cities based on CO levels, replace 'co' with the correct column name if different\n",
    "top_cities = mean_pollution.nlargest(10, 'co').index\n",
    "\n",
    "# Print the top cities to verify\n",
    "print(\"Top cities based on CO levels:\", top_cities)"
   ]
  },
  {
   "cell_type": "code",
   "execution_count": null,
   "metadata": {},
   "outputs": [],
   "source": [
    "# Filter your main DataFrame to include only the top cities\n",
    "filtered_data = seasonal_pollution_df[season['city'].isin(top_cities)]\n",
    "\n",
    "# Assuming your DataFrame has a 'Season' column, and you want to visualize CO levels\n",
    "import matplotlib.pyplot as plt\n",
    "\n",
    "# Calculate seasonal means for the filtered top cities\n",
    "seasonal_means = filtered_data.groupby(['Season', 'city'])['co'].mean().unstack()\n",
    "\n",
    "# Plotting\n",
    "seasonal_means.plot(kind='bar', figsize=(14, 7))\n",
    "plt.title('Average CO Levels by Season for Top 10 Cities')\n",
    "plt.xlabel('Season')\n",
    "plt.ylabel('Average CO Level')\n",
    "plt.legend(title='City', bbox_to_anchor=(1.05, 1), loc='upper left')\n",
    "plt.tight_layout()  # Adjust layout to make room for the legend\n",
    "plt.show()\n",
    "\n"
   ]
  }
 ],
 "metadata": {
  "kernelspec": {
   "display_name": "dev",
   "language": "python",
   "name": "python3"
  },
  "language_info": {
   "codemirror_mode": {
    "name": "ipython",
    "version": 3
   },
   "file_extension": ".py",
   "mimetype": "text/x-python",
   "name": "python",
   "nbconvert_exporter": "python",
   "pygments_lexer": "ipython3",
   "version": "3.10.14"
  }
 },
 "nbformat": 4,
 "nbformat_minor": 2
}
